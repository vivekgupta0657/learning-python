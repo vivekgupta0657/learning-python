{
 "metadata": {
  "language_info": {
   "codemirror_mode": {
    "name": "ipython",
    "version": 3
   },
   "file_extension": ".py",
   "mimetype": "text/x-python",
   "name": "python",
   "nbconvert_exporter": "python",
   "pygments_lexer": "ipython3",
   "version": "3.8.5-final"
  },
  "orig_nbformat": 2,
  "kernelspec": {
   "name": "python3",
   "display_name": "Python 3"
  }
 },
 "nbformat": 4,
 "nbformat_minor": 2,
 "cells": [
  {
   "cell_type": "code",
   "execution_count": 2,
   "metadata": {},
   "outputs": [],
   "source": [
    "import pandas as pd    "
   ]
  },
  {
   "cell_type": "code",
   "execution_count": 3,
   "metadata": {},
   "outputs": [
    {
     "output_type": "execute_result",
     "data": {
      "text/plain": [
       "   9/17/2007  4494.649902\n",
       "0  9/18/2007  4546.200195\n",
       "1  9/19/2007  4732.350098\n",
       "2  9/20/2007  4747.549805\n",
       "3  9/21/2007  4837.549805\n",
       "4  9/24/2007  4932.200195"
      ],
      "text/html": "<div>\n<style scoped>\n    .dataframe tbody tr th:only-of-type {\n        vertical-align: middle;\n    }\n\n    .dataframe tbody tr th {\n        vertical-align: top;\n    }\n\n    .dataframe thead th {\n        text-align: right;\n    }\n</style>\n<table border=\"1\" class=\"dataframe\">\n  <thead>\n    <tr style=\"text-align: right;\">\n      <th></th>\n      <th>9/17/2007</th>\n      <th>4494.649902</th>\n    </tr>\n  </thead>\n  <tbody>\n    <tr>\n      <th>0</th>\n      <td>9/18/2007</td>\n      <td>4546.200195</td>\n    </tr>\n    <tr>\n      <th>1</th>\n      <td>9/19/2007</td>\n      <td>4732.350098</td>\n    </tr>\n    <tr>\n      <th>2</th>\n      <td>9/20/2007</td>\n      <td>4747.549805</td>\n    </tr>\n    <tr>\n      <th>3</th>\n      <td>9/21/2007</td>\n      <td>4837.549805</td>\n    </tr>\n    <tr>\n      <th>4</th>\n      <td>9/24/2007</td>\n      <td>4932.200195</td>\n    </tr>\n  </tbody>\n</table>\n</div>"
     },
     "metadata": {},
     "execution_count": 3
    }
   ],
   "source": [
    "nifty= pd.read_csv(\"niftydata.csv\")\n",
    "nifty.head()"
   ]
  },
  {
   "cell_type": "code",
   "execution_count": 4,
   "metadata": {},
   "outputs": [
    {
     "output_type": "execute_result",
     "data": {
      "text/plain": [
       "   9/17/2007  4494.649902\n",
       "0  9/18/2007  4546.200195\n",
       "1  9/19/2007  4732.350098\n",
       "2  9/20/2007  4747.549805\n",
       "3  9/21/2007  4837.549805\n",
       "4  9/24/2007  4932.200195"
      ],
      "text/html": "<div>\n<style scoped>\n    .dataframe tbody tr th:only-of-type {\n        vertical-align: middle;\n    }\n\n    .dataframe tbody tr th {\n        vertical-align: top;\n    }\n\n    .dataframe thead th {\n        text-align: right;\n    }\n</style>\n<table border=\"1\" class=\"dataframe\">\n  <thead>\n    <tr style=\"text-align: right;\">\n      <th></th>\n      <th>9/17/2007</th>\n      <th>4494.649902</th>\n    </tr>\n  </thead>\n  <tbody>\n    <tr>\n      <th>0</th>\n      <td>9/18/2007</td>\n      <td>4546.200195</td>\n    </tr>\n    <tr>\n      <th>1</th>\n      <td>9/19/2007</td>\n      <td>4732.350098</td>\n    </tr>\n    <tr>\n      <th>2</th>\n      <td>9/20/2007</td>\n      <td>4747.549805</td>\n    </tr>\n    <tr>\n      <th>3</th>\n      <td>9/21/2007</td>\n      <td>4837.549805</td>\n    </tr>\n    <tr>\n      <th>4</th>\n      <td>9/24/2007</td>\n      <td>4932.200195</td>\n    </tr>\n  </tbody>\n</table>\n</div>"
     },
     "metadata": {},
     "execution_count": 4
    }
   ],
   "source": [
    "nifty= pd.read_csv(\"niftydata.csv\",sep=',')\n",
    "nifty.head()"
   ]
  },
  {
   "cell_type": "code",
   "execution_count": 3,
   "metadata": {},
   "outputs": [
    {
     "output_type": "execute_result",
     "data": {
      "text/plain": [
       "     9/17/2007  4494.649902\n",
       "0    9/18/2007  4546.200195\n",
       "1    9/19/2007  4732.350098\n",
       "2    9/20/2007  4747.549805\n",
       "3    9/21/2007  4837.549805\n",
       "4    9/24/2007  4932.200195\n",
       "5    9/25/2007  4938.850098\n",
       "6    9/26/2007  4940.500000\n",
       "7    9/27/2007  5000.549805\n",
       "8    9/28/2007  5021.350098\n",
       "9    10/1/2007  5068.950195\n",
       "10   10/3/2007  5210.799805\n",
       "11   10/4/2007  5208.649902\n",
       "12   10/5/2007  5185.850098\n",
       "13   10/8/2007  5085.100098\n",
       "14   10/9/2007  5327.250000\n",
       "15  10/10/2007  5441.450195\n",
       "16  10/11/2007  5524.850098\n",
       "17  10/12/2007  5428.250000\n",
       "18  10/15/2007  5670.399902\n",
       "19  10/16/2007  5668.049805"
      ],
      "text/html": "<div>\n<style scoped>\n    .dataframe tbody tr th:only-of-type {\n        vertical-align: middle;\n    }\n\n    .dataframe tbody tr th {\n        vertical-align: top;\n    }\n\n    .dataframe thead th {\n        text-align: right;\n    }\n</style>\n<table border=\"1\" class=\"dataframe\">\n  <thead>\n    <tr style=\"text-align: right;\">\n      <th></th>\n      <th>9/17/2007</th>\n      <th>4494.649902</th>\n    </tr>\n  </thead>\n  <tbody>\n    <tr>\n      <th>0</th>\n      <td>9/18/2007</td>\n      <td>4546.200195</td>\n    </tr>\n    <tr>\n      <th>1</th>\n      <td>9/19/2007</td>\n      <td>4732.350098</td>\n    </tr>\n    <tr>\n      <th>2</th>\n      <td>9/20/2007</td>\n      <td>4747.549805</td>\n    </tr>\n    <tr>\n      <th>3</th>\n      <td>9/21/2007</td>\n      <td>4837.549805</td>\n    </tr>\n    <tr>\n      <th>4</th>\n      <td>9/24/2007</td>\n      <td>4932.200195</td>\n    </tr>\n    <tr>\n      <th>5</th>\n      <td>9/25/2007</td>\n      <td>4938.850098</td>\n    </tr>\n    <tr>\n      <th>6</th>\n      <td>9/26/2007</td>\n      <td>4940.500000</td>\n    </tr>\n    <tr>\n      <th>7</th>\n      <td>9/27/2007</td>\n      <td>5000.549805</td>\n    </tr>\n    <tr>\n      <th>8</th>\n      <td>9/28/2007</td>\n      <td>5021.350098</td>\n    </tr>\n    <tr>\n      <th>9</th>\n      <td>10/1/2007</td>\n      <td>5068.950195</td>\n    </tr>\n    <tr>\n      <th>10</th>\n      <td>10/3/2007</td>\n      <td>5210.799805</td>\n    </tr>\n    <tr>\n      <th>11</th>\n      <td>10/4/2007</td>\n      <td>5208.649902</td>\n    </tr>\n    <tr>\n      <th>12</th>\n      <td>10/5/2007</td>\n      <td>5185.850098</td>\n    </tr>\n    <tr>\n      <th>13</th>\n      <td>10/8/2007</td>\n      <td>5085.100098</td>\n    </tr>\n    <tr>\n      <th>14</th>\n      <td>10/9/2007</td>\n      <td>5327.250000</td>\n    </tr>\n    <tr>\n      <th>15</th>\n      <td>10/10/2007</td>\n      <td>5441.450195</td>\n    </tr>\n    <tr>\n      <th>16</th>\n      <td>10/11/2007</td>\n      <td>5524.850098</td>\n    </tr>\n    <tr>\n      <th>17</th>\n      <td>10/12/2007</td>\n      <td>5428.250000</td>\n    </tr>\n    <tr>\n      <th>18</th>\n      <td>10/15/2007</td>\n      <td>5670.399902</td>\n    </tr>\n    <tr>\n      <th>19</th>\n      <td>10/16/2007</td>\n      <td>5668.049805</td>\n    </tr>\n  </tbody>\n</table>\n</div>"
     },
     "metadata": {},
     "execution_count": 3
    }
   ],
   "source": [
    "nifty= pd.read_csv(\"niftydata.csv\",nrows=20)\n",
    "\n",
    "nifty"
   ]
  },
  {
   "cell_type": "code",
   "execution_count": 9,
   "metadata": {},
   "outputs": [
    {
     "output_type": "execute_result",
     "data": {
      "text/plain": [
       "           0            1\n",
       "0  9/17/2007  4494.649902\n",
       "1  9/18/2007  4546.200195\n",
       "2  9/19/2007  4732.350098\n",
       "3  9/20/2007  4747.549805\n",
       "4  9/21/2007  4837.549805"
      ],
      "text/html": "<div>\n<style scoped>\n    .dataframe tbody tr th:only-of-type {\n        vertical-align: middle;\n    }\n\n    .dataframe tbody tr th {\n        vertical-align: top;\n    }\n\n    .dataframe thead th {\n        text-align: right;\n    }\n</style>\n<table border=\"1\" class=\"dataframe\">\n  <thead>\n    <tr style=\"text-align: right;\">\n      <th></th>\n      <th>0</th>\n      <th>1</th>\n    </tr>\n  </thead>\n  <tbody>\n    <tr>\n      <th>0</th>\n      <td>9/17/2007</td>\n      <td>4494.649902</td>\n    </tr>\n    <tr>\n      <th>1</th>\n      <td>9/18/2007</td>\n      <td>4546.200195</td>\n    </tr>\n    <tr>\n      <th>2</th>\n      <td>9/19/2007</td>\n      <td>4732.350098</td>\n    </tr>\n    <tr>\n      <th>3</th>\n      <td>9/20/2007</td>\n      <td>4747.549805</td>\n    </tr>\n    <tr>\n      <th>4</th>\n      <td>9/21/2007</td>\n      <td>4837.549805</td>\n    </tr>\n  </tbody>\n</table>\n</div>"
     },
     "metadata": {},
     "execution_count": 9
    }
   ],
   "source": [
    "nifty=pd.read_csv(\"niftydata.csv\",header=None)\n",
    "nifty.head()"
   ]
  },
  {
   "cell_type": "code",
   "execution_count": 12,
   "metadata": {},
   "outputs": [
    {
     "output_type": "execute_result",
     "data": {
      "text/plain": [
       "        date  closing_prise\n",
       "0  9/17/2007    4494.649902\n",
       "1  9/18/2007    4546.200195\n",
       "2  9/19/2007    4732.350098\n",
       "3  9/20/2007    4747.549805\n",
       "4  9/21/2007    4837.549805"
      ],
      "text/html": "<div>\n<style scoped>\n    .dataframe tbody tr th:only-of-type {\n        vertical-align: middle;\n    }\n\n    .dataframe tbody tr th {\n        vertical-align: top;\n    }\n\n    .dataframe thead th {\n        text-align: right;\n    }\n</style>\n<table border=\"1\" class=\"dataframe\">\n  <thead>\n    <tr style=\"text-align: right;\">\n      <th></th>\n      <th>date</th>\n      <th>closing_prise</th>\n    </tr>\n  </thead>\n  <tbody>\n    <tr>\n      <th>0</th>\n      <td>9/17/2007</td>\n      <td>4494.649902</td>\n    </tr>\n    <tr>\n      <th>1</th>\n      <td>9/18/2007</td>\n      <td>4546.200195</td>\n    </tr>\n    <tr>\n      <th>2</th>\n      <td>9/19/2007</td>\n      <td>4732.350098</td>\n    </tr>\n    <tr>\n      <th>3</th>\n      <td>9/20/2007</td>\n      <td>4747.549805</td>\n    </tr>\n    <tr>\n      <th>4</th>\n      <td>9/21/2007</td>\n      <td>4837.549805</td>\n    </tr>\n  </tbody>\n</table>\n</div>"
     },
     "metadata": {},
     "execution_count": 12
    }
   ],
   "source": [
    "nifty=pd.read_csv(\"niftydata.csv\",header=None,names=['date','closing_prise'])\n",
    "nifty.head()"
   ]
  },
  {
   "source": [
    "# discribing the data \n"
   ],
   "cell_type": "markdown",
   "metadata": {}
  },
  {
   "cell_type": "code",
   "execution_count": 4,
   "metadata": {},
   "outputs": [],
   "source": [
    "import pandas as pd "
   ]
  },
  {
   "cell_type": "code",
   "execution_count": 5,
   "metadata": {},
   "outputs": [
    {
     "output_type": "execute_result",
     "data": {
      "text/plain": [
       "   Row ID  Order ID Order Date Order Priority  Order Quantity      Sales  \\\n",
       "0       1         3 2010-10-13            Low               6   261.5400   \n",
       "1       2         6 2012-02-20  Not Specified               2     6.9300   \n",
       "2       3        32 2011-07-15           High              26  2808.0800   \n",
       "3       4        32 2011-07-15           High              24  1761.4000   \n",
       "4       5        32 2011-07-15           High              23   160.2335   \n",
       "\n",
       "   Discount       Ship Mode    Profit  Unit Price  ...       Customer Name  \\\n",
       "0      0.04     Regular Air  -213.250       38.94  ...  Muhammed MacIntyre   \n",
       "1      0.01     Regular Air    -4.640        2.08  ...         Ruben Dartt   \n",
       "2      0.07     Regular Air  1054.820      107.53  ...       Liz Pelletier   \n",
       "3      0.09  Delivery Truck -1748.560       70.89  ...       Liz Pelletier   \n",
       "4      0.04     Regular Air   -85.129        7.99  ...       Liz Pelletier   \n",
       "\n",
       "  Province   Region Customer Segment Product Category  \\\n",
       "0  Nunavut  Nunavut   Small Business  Office Supplies   \n",
       "1  Alberta     West        Corporate  Office Supplies   \n",
       "2  Alberta     West        Corporate        Furniture   \n",
       "3  Alberta     West        Corporate        Furniture   \n",
       "4  Alberta     West        Corporate       Technology   \n",
       "\n",
       "            Product Sub-Category  \\\n",
       "0         Storage & Organization   \n",
       "1  Scissors, Rulers and Trimmers   \n",
       "2             Office Furnishings   \n",
       "3                         Tables   \n",
       "4   Telephones and Communication   \n",
       "\n",
       "                                        Product Name Product Container  \\\n",
       "0   Eldon Base for stackable storage shelf, platinum         Large Box   \n",
       "1  Kleencut® Forged Office Shears by Acme United ...        Small Pack   \n",
       "2  Tenex Contemporary Contur Chairmats for Low an...        Medium Box   \n",
       "3                               KI Conference Tables         Jumbo Box   \n",
       "4                       Bell Sonecor JB700 Caller ID        Medium Box   \n",
       "\n",
       "  Product Base Margin  Ship Date  \n",
       "0                0.80 2010-10-20  \n",
       "1                0.55 2012-02-21  \n",
       "2                0.65 2011-07-17  \n",
       "3                0.72 2011-07-16  \n",
       "4                0.60 2011-07-17  \n",
       "\n",
       "[5 rows x 21 columns]"
      ],
      "text/html": "<div>\n<style scoped>\n    .dataframe tbody tr th:only-of-type {\n        vertical-align: middle;\n    }\n\n    .dataframe tbody tr th {\n        vertical-align: top;\n    }\n\n    .dataframe thead th {\n        text-align: right;\n    }\n</style>\n<table border=\"1\" class=\"dataframe\">\n  <thead>\n    <tr style=\"text-align: right;\">\n      <th></th>\n      <th>Row ID</th>\n      <th>Order ID</th>\n      <th>Order Date</th>\n      <th>Order Priority</th>\n      <th>Order Quantity</th>\n      <th>Sales</th>\n      <th>Discount</th>\n      <th>Ship Mode</th>\n      <th>Profit</th>\n      <th>Unit Price</th>\n      <th>...</th>\n      <th>Customer Name</th>\n      <th>Province</th>\n      <th>Region</th>\n      <th>Customer Segment</th>\n      <th>Product Category</th>\n      <th>Product Sub-Category</th>\n      <th>Product Name</th>\n      <th>Product Container</th>\n      <th>Product Base Margin</th>\n      <th>Ship Date</th>\n    </tr>\n  </thead>\n  <tbody>\n    <tr>\n      <th>0</th>\n      <td>1</td>\n      <td>3</td>\n      <td>2010-10-13</td>\n      <td>Low</td>\n      <td>6</td>\n      <td>261.5400</td>\n      <td>0.04</td>\n      <td>Regular Air</td>\n      <td>-213.250</td>\n      <td>38.94</td>\n      <td>...</td>\n      <td>Muhammed MacIntyre</td>\n      <td>Nunavut</td>\n      <td>Nunavut</td>\n      <td>Small Business</td>\n      <td>Office Supplies</td>\n      <td>Storage &amp; Organization</td>\n      <td>Eldon Base for stackable storage shelf, platinum</td>\n      <td>Large Box</td>\n      <td>0.80</td>\n      <td>2010-10-20</td>\n    </tr>\n    <tr>\n      <th>1</th>\n      <td>2</td>\n      <td>6</td>\n      <td>2012-02-20</td>\n      <td>Not Specified</td>\n      <td>2</td>\n      <td>6.9300</td>\n      <td>0.01</td>\n      <td>Regular Air</td>\n      <td>-4.640</td>\n      <td>2.08</td>\n      <td>...</td>\n      <td>Ruben Dartt</td>\n      <td>Alberta</td>\n      <td>West</td>\n      <td>Corporate</td>\n      <td>Office Supplies</td>\n      <td>Scissors, Rulers and Trimmers</td>\n      <td>Kleencut® Forged Office Shears by Acme United ...</td>\n      <td>Small Pack</td>\n      <td>0.55</td>\n      <td>2012-02-21</td>\n    </tr>\n    <tr>\n      <th>2</th>\n      <td>3</td>\n      <td>32</td>\n      <td>2011-07-15</td>\n      <td>High</td>\n      <td>26</td>\n      <td>2808.0800</td>\n      <td>0.07</td>\n      <td>Regular Air</td>\n      <td>1054.820</td>\n      <td>107.53</td>\n      <td>...</td>\n      <td>Liz Pelletier</td>\n      <td>Alberta</td>\n      <td>West</td>\n      <td>Corporate</td>\n      <td>Furniture</td>\n      <td>Office Furnishings</td>\n      <td>Tenex Contemporary Contur Chairmats for Low an...</td>\n      <td>Medium Box</td>\n      <td>0.65</td>\n      <td>2011-07-17</td>\n    </tr>\n    <tr>\n      <th>3</th>\n      <td>4</td>\n      <td>32</td>\n      <td>2011-07-15</td>\n      <td>High</td>\n      <td>24</td>\n      <td>1761.4000</td>\n      <td>0.09</td>\n      <td>Delivery Truck</td>\n      <td>-1748.560</td>\n      <td>70.89</td>\n      <td>...</td>\n      <td>Liz Pelletier</td>\n      <td>Alberta</td>\n      <td>West</td>\n      <td>Corporate</td>\n      <td>Furniture</td>\n      <td>Tables</td>\n      <td>KI Conference Tables</td>\n      <td>Jumbo Box</td>\n      <td>0.72</td>\n      <td>2011-07-16</td>\n    </tr>\n    <tr>\n      <th>4</th>\n      <td>5</td>\n      <td>32</td>\n      <td>2011-07-15</td>\n      <td>High</td>\n      <td>23</td>\n      <td>160.2335</td>\n      <td>0.04</td>\n      <td>Regular Air</td>\n      <td>-85.129</td>\n      <td>7.99</td>\n      <td>...</td>\n      <td>Liz Pelletier</td>\n      <td>Alberta</td>\n      <td>West</td>\n      <td>Corporate</td>\n      <td>Technology</td>\n      <td>Telephones and Communication</td>\n      <td>Bell Sonecor JB700 Caller ID</td>\n      <td>Medium Box</td>\n      <td>0.60</td>\n      <td>2011-07-17</td>\n    </tr>\n  </tbody>\n</table>\n<p>5 rows × 21 columns</p>\n</div>"
     },
     "metadata": {},
     "execution_count": 5
    }
   ],
   "source": [
    "order = pd.read_excel(\"Sample - Superstore Sales.xls\",0)\n",
    "order.head()"
   ]
  },
  {
   "cell_type": "code",
   "execution_count": 7,
   "metadata": {},
   "outputs": [
    {
     "output_type": "stream",
     "name": "stdout",
     "text": [
      "            Row ID      Order ID  Order Quantity         Sales     Discount  \\\ncount  8390.000000   8390.000000     8390.000000   8390.000000  8390.000000   \nmean   4195.500000  29932.999166       25.564601   1775.466315     0.049677   \nstd    2422.128713  17242.133927       14.481768   3585.180194     0.031817   \nmin       1.000000      3.000000        1.000000      2.240000     0.000000   \n25%    2098.250000  14989.500000       13.000000    142.962500     0.020000   \n50%    4195.500000  29811.500000       26.000000    449.295000     0.050000   \n75%    6292.750000  44539.250000       38.000000   1709.985000     0.080000   \nmax    8390.000000  59939.000000       50.000000  89061.050000     0.250000   \n\n             Profit   Unit Price  Shipping Cost  Product Base Margin  \ncount   8390.000000  8390.000000    8390.000000          8327.000000  \nmean     181.060342    89.354539      12.841080             0.512504  \nstd     1197.067399   290.479112      17.271407             0.135600  \nmin   -14140.701600     0.990000       0.490000             0.350000  \n25%      -83.295000     6.480000       3.300000             0.380000  \n50%       -1.515000    20.990000       6.070000             0.520000  \n75%      162.544500    85.990000      13.990000             0.590000  \nmax    27220.690000  6783.020000     164.730000             0.850000  \n<class 'pandas.core.frame.DataFrame'>\nRangeIndex: 8390 entries, 0 to 8389\nData columns (total 21 columns):\n #   Column                Non-Null Count  Dtype         \n---  ------                --------------  -----         \n 0   Row ID                8390 non-null   int64         \n 1   Order ID              8390 non-null   int64         \n 2   Order Date            8390 non-null   datetime64[ns]\n 3   Order Priority        8390 non-null   object        \n 4   Order Quantity        8390 non-null   int64         \n 5   Sales                 8390 non-null   float64       \n 6   Discount              8390 non-null   float64       \n 7   Ship Mode             8390 non-null   object        \n 8   Profit                8390 non-null   float64       \n 9   Unit Price            8390 non-null   float64       \n 10  Shipping Cost         8390 non-null   float64       \n 11  Customer Name         8390 non-null   object        \n 12  Province              8390 non-null   object        \n 13  Region                8390 non-null   object        \n 14  Customer Segment      8390 non-null   object        \n 15  Product Category      8390 non-null   object        \n 16  Product Sub-Category  8390 non-null   object        \n 17  Product Name          8390 non-null   object        \n 18  Product Container     8390 non-null   object        \n 19  Product Base Margin   8327 non-null   float64       \n 20  Ship Date             8390 non-null   datetime64[ns]\ndtypes: datetime64[ns](2), float64(6), int64(3), object(10)\nmemory usage: 1.3+ MB\nNone\n"
     ]
    }
   ],
   "source": [
    "print(order.describe())\n",
    "print(order.info())\n",
    "\n"
   ]
  },
  {
   "cell_type": "code",
   "execution_count": 18,
   "metadata": {},
   "outputs": [
    {
     "output_type": "execute_result",
     "data": {
      "text/plain": [
       "             Row ID      Order ID           Order Date Order Priority  \\\n",
       "count   8390.000000   8390.000000                 8390           8390   \n",
       "unique          NaN           NaN                 1418              5   \n",
       "top             NaN           NaN  2012-03-28 00:00:00           High   \n",
       "freq            NaN           NaN                   20           1766   \n",
       "first           NaN           NaN  2009-01-01 00:00:00            NaN   \n",
       "last            NaN           NaN  2012-12-30 00:00:00            NaN   \n",
       "mean    4195.500000  29932.999166                  NaN            NaN   \n",
       "std     2422.128713  17242.133927                  NaN            NaN   \n",
       "min        1.000000      3.000000                  NaN            NaN   \n",
       "25%     2098.250000  14989.500000                  NaN            NaN   \n",
       "50%     4195.500000  29811.500000                  NaN            NaN   \n",
       "75%     6292.750000  44539.250000                  NaN            NaN   \n",
       "max     8390.000000  59939.000000                  NaN            NaN   \n",
       "\n",
       "        Order Quantity         Sales     Discount    Ship Mode        Profit  \\\n",
       "count      8390.000000   8390.000000  8390.000000         8390   8390.000000   \n",
       "unique             NaN           NaN          NaN            3           NaN   \n",
       "top                NaN           NaN          NaN  Regular Air           NaN   \n",
       "freq               NaN           NaN          NaN         6265           NaN   \n",
       "first              NaN           NaN          NaN          NaN           NaN   \n",
       "last               NaN           NaN          NaN          NaN           NaN   \n",
       "mean         25.564601   1775.466315     0.049677          NaN    181.060342   \n",
       "std          14.481768   3585.180194     0.031817          NaN   1197.067399   \n",
       "min           1.000000      2.240000     0.000000          NaN -14140.701600   \n",
       "25%          13.000000    142.962500     0.020000          NaN    -83.295000   \n",
       "50%          26.000000    449.295000     0.050000          NaN     -1.515000   \n",
       "75%          38.000000   1709.985000     0.080000          NaN    162.544500   \n",
       "max          50.000000  89061.050000     0.250000          NaN  27220.690000   \n",
       "\n",
       "         Unit Price  ...  Customer Name Province Region Customer Segment  \\\n",
       "count   8390.000000  ...           8390     8390   8390             8390   \n",
       "unique          NaN  ...            795       13      8                4   \n",
       "top             NaN  ...    Darren Budd  Ontario   West        Corporate   \n",
       "freq            NaN  ...             41     1826   1987             3075   \n",
       "first           NaN  ...            NaN      NaN    NaN              NaN   \n",
       "last            NaN  ...            NaN      NaN    NaN              NaN   \n",
       "mean      89.354539  ...            NaN      NaN    NaN              NaN   \n",
       "std      290.479112  ...            NaN      NaN    NaN              NaN   \n",
       "min        0.990000  ...            NaN      NaN    NaN              NaN   \n",
       "25%        6.480000  ...            NaN      NaN    NaN              NaN   \n",
       "50%       20.990000  ...            NaN      NaN    NaN              NaN   \n",
       "75%       85.990000  ...            NaN      NaN    NaN              NaN   \n",
       "max     6783.020000  ...            NaN      NaN    NaN              NaN   \n",
       "\n",
       "       Product Category Product Sub-Category  \\\n",
       "count              8390                 8390   \n",
       "unique                3                   17   \n",
       "top     Office Supplies                Paper   \n",
       "freq               4605                 1223   \n",
       "first               NaN                  NaN   \n",
       "last                NaN                  NaN   \n",
       "mean                NaN                  NaN   \n",
       "std                 NaN                  NaN   \n",
       "min                 NaN                  NaN   \n",
       "25%                 NaN                  NaN   \n",
       "50%                 NaN                  NaN   \n",
       "75%                 NaN                  NaN   \n",
       "max                 NaN                  NaN   \n",
       "\n",
       "                                     Product Name Product Container  \\\n",
       "count                                        8390              8390   \n",
       "unique                                       1263                 7   \n",
       "top     Global High-Back Leather Tilter, Burgundy         Small Box   \n",
       "freq                                           24              4342   \n",
       "first                                         NaN               NaN   \n",
       "last                                          NaN               NaN   \n",
       "mean                                          NaN               NaN   \n",
       "std                                           NaN               NaN   \n",
       "min                                           NaN               NaN   \n",
       "25%                                           NaN               NaN   \n",
       "50%                                           NaN               NaN   \n",
       "75%                                           NaN               NaN   \n",
       "max                                           NaN               NaN   \n",
       "\n",
       "       Product Base Margin            Ship Date  \n",
       "count          8327.000000                 8390  \n",
       "unique                 NaN                 1450  \n",
       "top                    NaN  2011-05-21 00:00:00  \n",
       "freq                   NaN                   19  \n",
       "first                  NaN  2009-01-02 00:00:00  \n",
       "last                   NaN  2012-12-30 00:00:00  \n",
       "mean              0.512504                  NaN  \n",
       "std               0.135600                  NaN  \n",
       "min               0.350000                  NaN  \n",
       "25%               0.380000                  NaN  \n",
       "50%               0.520000                  NaN  \n",
       "75%               0.590000                  NaN  \n",
       "max               0.850000                  NaN  \n",
       "\n",
       "[13 rows x 21 columns]"
      ],
      "text/html": "<div>\n<style scoped>\n    .dataframe tbody tr th:only-of-type {\n        vertical-align: middle;\n    }\n\n    .dataframe tbody tr th {\n        vertical-align: top;\n    }\n\n    .dataframe thead th {\n        text-align: right;\n    }\n</style>\n<table border=\"1\" class=\"dataframe\">\n  <thead>\n    <tr style=\"text-align: right;\">\n      <th></th>\n      <th>Row ID</th>\n      <th>Order ID</th>\n      <th>Order Date</th>\n      <th>Order Priority</th>\n      <th>Order Quantity</th>\n      <th>Sales</th>\n      <th>Discount</th>\n      <th>Ship Mode</th>\n      <th>Profit</th>\n      <th>Unit Price</th>\n      <th>...</th>\n      <th>Customer Name</th>\n      <th>Province</th>\n      <th>Region</th>\n      <th>Customer Segment</th>\n      <th>Product Category</th>\n      <th>Product Sub-Category</th>\n      <th>Product Name</th>\n      <th>Product Container</th>\n      <th>Product Base Margin</th>\n      <th>Ship Date</th>\n    </tr>\n  </thead>\n  <tbody>\n    <tr>\n      <th>count</th>\n      <td>8390.000000</td>\n      <td>8390.000000</td>\n      <td>8390</td>\n      <td>8390</td>\n      <td>8390.000000</td>\n      <td>8390.000000</td>\n      <td>8390.000000</td>\n      <td>8390</td>\n      <td>8390.000000</td>\n      <td>8390.000000</td>\n      <td>...</td>\n      <td>8390</td>\n      <td>8390</td>\n      <td>8390</td>\n      <td>8390</td>\n      <td>8390</td>\n      <td>8390</td>\n      <td>8390</td>\n      <td>8390</td>\n      <td>8327.000000</td>\n      <td>8390</td>\n    </tr>\n    <tr>\n      <th>unique</th>\n      <td>NaN</td>\n      <td>NaN</td>\n      <td>1418</td>\n      <td>5</td>\n      <td>NaN</td>\n      <td>NaN</td>\n      <td>NaN</td>\n      <td>3</td>\n      <td>NaN</td>\n      <td>NaN</td>\n      <td>...</td>\n      <td>795</td>\n      <td>13</td>\n      <td>8</td>\n      <td>4</td>\n      <td>3</td>\n      <td>17</td>\n      <td>1263</td>\n      <td>7</td>\n      <td>NaN</td>\n      <td>1450</td>\n    </tr>\n    <tr>\n      <th>top</th>\n      <td>NaN</td>\n      <td>NaN</td>\n      <td>2012-03-28 00:00:00</td>\n      <td>High</td>\n      <td>NaN</td>\n      <td>NaN</td>\n      <td>NaN</td>\n      <td>Regular Air</td>\n      <td>NaN</td>\n      <td>NaN</td>\n      <td>...</td>\n      <td>Darren Budd</td>\n      <td>Ontario</td>\n      <td>West</td>\n      <td>Corporate</td>\n      <td>Office Supplies</td>\n      <td>Paper</td>\n      <td>Global High-Back Leather Tilter, Burgundy</td>\n      <td>Small Box</td>\n      <td>NaN</td>\n      <td>2011-05-21 00:00:00</td>\n    </tr>\n    <tr>\n      <th>freq</th>\n      <td>NaN</td>\n      <td>NaN</td>\n      <td>20</td>\n      <td>1766</td>\n      <td>NaN</td>\n      <td>NaN</td>\n      <td>NaN</td>\n      <td>6265</td>\n      <td>NaN</td>\n      <td>NaN</td>\n      <td>...</td>\n      <td>41</td>\n      <td>1826</td>\n      <td>1987</td>\n      <td>3075</td>\n      <td>4605</td>\n      <td>1223</td>\n      <td>24</td>\n      <td>4342</td>\n      <td>NaN</td>\n      <td>19</td>\n    </tr>\n    <tr>\n      <th>first</th>\n      <td>NaN</td>\n      <td>NaN</td>\n      <td>2009-01-01 00:00:00</td>\n      <td>NaN</td>\n      <td>NaN</td>\n      <td>NaN</td>\n      <td>NaN</td>\n      <td>NaN</td>\n      <td>NaN</td>\n      <td>NaN</td>\n      <td>...</td>\n      <td>NaN</td>\n      <td>NaN</td>\n      <td>NaN</td>\n      <td>NaN</td>\n      <td>NaN</td>\n      <td>NaN</td>\n      <td>NaN</td>\n      <td>NaN</td>\n      <td>NaN</td>\n      <td>2009-01-02 00:00:00</td>\n    </tr>\n    <tr>\n      <th>last</th>\n      <td>NaN</td>\n      <td>NaN</td>\n      <td>2012-12-30 00:00:00</td>\n      <td>NaN</td>\n      <td>NaN</td>\n      <td>NaN</td>\n      <td>NaN</td>\n      <td>NaN</td>\n      <td>NaN</td>\n      <td>NaN</td>\n      <td>...</td>\n      <td>NaN</td>\n      <td>NaN</td>\n      <td>NaN</td>\n      <td>NaN</td>\n      <td>NaN</td>\n      <td>NaN</td>\n      <td>NaN</td>\n      <td>NaN</td>\n      <td>NaN</td>\n      <td>2012-12-30 00:00:00</td>\n    </tr>\n    <tr>\n      <th>mean</th>\n      <td>4195.500000</td>\n      <td>29932.999166</td>\n      <td>NaN</td>\n      <td>NaN</td>\n      <td>25.564601</td>\n      <td>1775.466315</td>\n      <td>0.049677</td>\n      <td>NaN</td>\n      <td>181.060342</td>\n      <td>89.354539</td>\n      <td>...</td>\n      <td>NaN</td>\n      <td>NaN</td>\n      <td>NaN</td>\n      <td>NaN</td>\n      <td>NaN</td>\n      <td>NaN</td>\n      <td>NaN</td>\n      <td>NaN</td>\n      <td>0.512504</td>\n      <td>NaN</td>\n    </tr>\n    <tr>\n      <th>std</th>\n      <td>2422.128713</td>\n      <td>17242.133927</td>\n      <td>NaN</td>\n      <td>NaN</td>\n      <td>14.481768</td>\n      <td>3585.180194</td>\n      <td>0.031817</td>\n      <td>NaN</td>\n      <td>1197.067399</td>\n      <td>290.479112</td>\n      <td>...</td>\n      <td>NaN</td>\n      <td>NaN</td>\n      <td>NaN</td>\n      <td>NaN</td>\n      <td>NaN</td>\n      <td>NaN</td>\n      <td>NaN</td>\n      <td>NaN</td>\n      <td>0.135600</td>\n      <td>NaN</td>\n    </tr>\n    <tr>\n      <th>min</th>\n      <td>1.000000</td>\n      <td>3.000000</td>\n      <td>NaN</td>\n      <td>NaN</td>\n      <td>1.000000</td>\n      <td>2.240000</td>\n      <td>0.000000</td>\n      <td>NaN</td>\n      <td>-14140.701600</td>\n      <td>0.990000</td>\n      <td>...</td>\n      <td>NaN</td>\n      <td>NaN</td>\n      <td>NaN</td>\n      <td>NaN</td>\n      <td>NaN</td>\n      <td>NaN</td>\n      <td>NaN</td>\n      <td>NaN</td>\n      <td>0.350000</td>\n      <td>NaN</td>\n    </tr>\n    <tr>\n      <th>25%</th>\n      <td>2098.250000</td>\n      <td>14989.500000</td>\n      <td>NaN</td>\n      <td>NaN</td>\n      <td>13.000000</td>\n      <td>142.962500</td>\n      <td>0.020000</td>\n      <td>NaN</td>\n      <td>-83.295000</td>\n      <td>6.480000</td>\n      <td>...</td>\n      <td>NaN</td>\n      <td>NaN</td>\n      <td>NaN</td>\n      <td>NaN</td>\n      <td>NaN</td>\n      <td>NaN</td>\n      <td>NaN</td>\n      <td>NaN</td>\n      <td>0.380000</td>\n      <td>NaN</td>\n    </tr>\n    <tr>\n      <th>50%</th>\n      <td>4195.500000</td>\n      <td>29811.500000</td>\n      <td>NaN</td>\n      <td>NaN</td>\n      <td>26.000000</td>\n      <td>449.295000</td>\n      <td>0.050000</td>\n      <td>NaN</td>\n      <td>-1.515000</td>\n      <td>20.990000</td>\n      <td>...</td>\n      <td>NaN</td>\n      <td>NaN</td>\n      <td>NaN</td>\n      <td>NaN</td>\n      <td>NaN</td>\n      <td>NaN</td>\n      <td>NaN</td>\n      <td>NaN</td>\n      <td>0.520000</td>\n      <td>NaN</td>\n    </tr>\n    <tr>\n      <th>75%</th>\n      <td>6292.750000</td>\n      <td>44539.250000</td>\n      <td>NaN</td>\n      <td>NaN</td>\n      <td>38.000000</td>\n      <td>1709.985000</td>\n      <td>0.080000</td>\n      <td>NaN</td>\n      <td>162.544500</td>\n      <td>85.990000</td>\n      <td>...</td>\n      <td>NaN</td>\n      <td>NaN</td>\n      <td>NaN</td>\n      <td>NaN</td>\n      <td>NaN</td>\n      <td>NaN</td>\n      <td>NaN</td>\n      <td>NaN</td>\n      <td>0.590000</td>\n      <td>NaN</td>\n    </tr>\n    <tr>\n      <th>max</th>\n      <td>8390.000000</td>\n      <td>59939.000000</td>\n      <td>NaN</td>\n      <td>NaN</td>\n      <td>50.000000</td>\n      <td>89061.050000</td>\n      <td>0.250000</td>\n      <td>NaN</td>\n      <td>27220.690000</td>\n      <td>6783.020000</td>\n      <td>...</td>\n      <td>NaN</td>\n      <td>NaN</td>\n      <td>NaN</td>\n      <td>NaN</td>\n      <td>NaN</td>\n      <td>NaN</td>\n      <td>NaN</td>\n      <td>NaN</td>\n      <td>0.850000</td>\n      <td>NaN</td>\n    </tr>\n  </tbody>\n</table>\n<p>13 rows × 21 columns</p>\n</div>"
     },
     "metadata": {},
     "execution_count": 18
    }
   ],
   "source": [
    "order.describe(include='all')"
   ]
  },
  {
   "cell_type": "code",
   "execution_count": 20,
   "metadata": {},
   "outputs": [
    {
     "output_type": "execute_result",
     "data": {
      "text/plain": [
       "       Order Priority    Ship Mode Customer Name Province Region  \\\n",
       "count            8390         8390          8390     8390   8390   \n",
       "unique              5            3           795       13      8   \n",
       "top              High  Regular Air   Darren Budd  Ontario   West   \n",
       "freq             1766         6265            41     1826   1987   \n",
       "\n",
       "       Customer Segment Product Category Product Sub-Category  \\\n",
       "count              8390             8390                 8390   \n",
       "unique                4                3                   17   \n",
       "top           Corporate  Office Supplies                Paper   \n",
       "freq               3075             4605                 1223   \n",
       "\n",
       "                                     Product Name Product Container  \n",
       "count                                        8390              8390  \n",
       "unique                                       1263                 7  \n",
       "top     Global High-Back Leather Tilter, Burgundy         Small Box  \n",
       "freq                                           24              4342  "
      ],
      "text/html": "<div>\n<style scoped>\n    .dataframe tbody tr th:only-of-type {\n        vertical-align: middle;\n    }\n\n    .dataframe tbody tr th {\n        vertical-align: top;\n    }\n\n    .dataframe thead th {\n        text-align: right;\n    }\n</style>\n<table border=\"1\" class=\"dataframe\">\n  <thead>\n    <tr style=\"text-align: right;\">\n      <th></th>\n      <th>Order Priority</th>\n      <th>Ship Mode</th>\n      <th>Customer Name</th>\n      <th>Province</th>\n      <th>Region</th>\n      <th>Customer Segment</th>\n      <th>Product Category</th>\n      <th>Product Sub-Category</th>\n      <th>Product Name</th>\n      <th>Product Container</th>\n    </tr>\n  </thead>\n  <tbody>\n    <tr>\n      <th>count</th>\n      <td>8390</td>\n      <td>8390</td>\n      <td>8390</td>\n      <td>8390</td>\n      <td>8390</td>\n      <td>8390</td>\n      <td>8390</td>\n      <td>8390</td>\n      <td>8390</td>\n      <td>8390</td>\n    </tr>\n    <tr>\n      <th>unique</th>\n      <td>5</td>\n      <td>3</td>\n      <td>795</td>\n      <td>13</td>\n      <td>8</td>\n      <td>4</td>\n      <td>3</td>\n      <td>17</td>\n      <td>1263</td>\n      <td>7</td>\n    </tr>\n    <tr>\n      <th>top</th>\n      <td>High</td>\n      <td>Regular Air</td>\n      <td>Darren Budd</td>\n      <td>Ontario</td>\n      <td>West</td>\n      <td>Corporate</td>\n      <td>Office Supplies</td>\n      <td>Paper</td>\n      <td>Global High-Back Leather Tilter, Burgundy</td>\n      <td>Small Box</td>\n    </tr>\n    <tr>\n      <th>freq</th>\n      <td>1766</td>\n      <td>6265</td>\n      <td>41</td>\n      <td>1826</td>\n      <td>1987</td>\n      <td>3075</td>\n      <td>4605</td>\n      <td>1223</td>\n      <td>24</td>\n      <td>4342</td>\n    </tr>\n  </tbody>\n</table>\n</div>"
     },
     "metadata": {},
     "execution_count": 20
    }
   ],
   "source": [
    "order.describe(include=['object'])"
   ]
  },
  {
   "cell_type": "code",
   "execution_count": 31,
   "metadata": {},
   "outputs": [
    {
     "output_type": "execute_result",
     "data": {
      "text/plain": [
       "            Row ID      Order ID  Order Quantity         Sales     Discount  \\\n",
       "count  8390.000000   8390.000000     8390.000000   8390.000000  8390.000000   \n",
       "mean   4195.500000  29932.999166       25.564601   1775.466315     0.049677   \n",
       "std    2422.128713  17242.133927       14.481768   3585.180194     0.031817   \n",
       "min       1.000000      3.000000        1.000000      2.240000     0.000000   \n",
       "25%    2098.250000  14989.500000       13.000000    142.962500     0.020000   \n",
       "50%    4195.500000  29811.500000       26.000000    449.295000     0.050000   \n",
       "75%    6292.750000  44539.250000       38.000000   1709.985000     0.080000   \n",
       "max    8390.000000  59939.000000       50.000000  89061.050000     0.250000   \n",
       "\n",
       "             Profit   Unit Price  Shipping Cost  Product Base Margin  \n",
       "count   8390.000000  8390.000000    8390.000000          8327.000000  \n",
       "mean     181.060342    89.354539      12.841080             0.512504  \n",
       "std     1197.067399   290.479112      17.271407             0.135600  \n",
       "min   -14140.701600     0.990000       0.490000             0.350000  \n",
       "25%      -83.295000     6.480000       3.300000             0.380000  \n",
       "50%       -1.515000    20.990000       6.070000             0.520000  \n",
       "75%      162.544500    85.990000      13.990000             0.590000  \n",
       "max    27220.690000  6783.020000     164.730000             0.850000  "
      ],
      "text/html": "<div>\n<style scoped>\n    .dataframe tbody tr th:only-of-type {\n        vertical-align: middle;\n    }\n\n    .dataframe tbody tr th {\n        vertical-align: top;\n    }\n\n    .dataframe thead th {\n        text-align: right;\n    }\n</style>\n<table border=\"1\" class=\"dataframe\">\n  <thead>\n    <tr style=\"text-align: right;\">\n      <th></th>\n      <th>Row ID</th>\n      <th>Order ID</th>\n      <th>Order Quantity</th>\n      <th>Sales</th>\n      <th>Discount</th>\n      <th>Profit</th>\n      <th>Unit Price</th>\n      <th>Shipping Cost</th>\n      <th>Product Base Margin</th>\n    </tr>\n  </thead>\n  <tbody>\n    <tr>\n      <th>count</th>\n      <td>8390.000000</td>\n      <td>8390.000000</td>\n      <td>8390.000000</td>\n      <td>8390.000000</td>\n      <td>8390.000000</td>\n      <td>8390.000000</td>\n      <td>8390.000000</td>\n      <td>8390.000000</td>\n      <td>8327.000000</td>\n    </tr>\n    <tr>\n      <th>mean</th>\n      <td>4195.500000</td>\n      <td>29932.999166</td>\n      <td>25.564601</td>\n      <td>1775.466315</td>\n      <td>0.049677</td>\n      <td>181.060342</td>\n      <td>89.354539</td>\n      <td>12.841080</td>\n      <td>0.512504</td>\n    </tr>\n    <tr>\n      <th>std</th>\n      <td>2422.128713</td>\n      <td>17242.133927</td>\n      <td>14.481768</td>\n      <td>3585.180194</td>\n      <td>0.031817</td>\n      <td>1197.067399</td>\n      <td>290.479112</td>\n      <td>17.271407</td>\n      <td>0.135600</td>\n    </tr>\n    <tr>\n      <th>min</th>\n      <td>1.000000</td>\n      <td>3.000000</td>\n      <td>1.000000</td>\n      <td>2.240000</td>\n      <td>0.000000</td>\n      <td>-14140.701600</td>\n      <td>0.990000</td>\n      <td>0.490000</td>\n      <td>0.350000</td>\n    </tr>\n    <tr>\n      <th>25%</th>\n      <td>2098.250000</td>\n      <td>14989.500000</td>\n      <td>13.000000</td>\n      <td>142.962500</td>\n      <td>0.020000</td>\n      <td>-83.295000</td>\n      <td>6.480000</td>\n      <td>3.300000</td>\n      <td>0.380000</td>\n    </tr>\n    <tr>\n      <th>50%</th>\n      <td>4195.500000</td>\n      <td>29811.500000</td>\n      <td>26.000000</td>\n      <td>449.295000</td>\n      <td>0.050000</td>\n      <td>-1.515000</td>\n      <td>20.990000</td>\n      <td>6.070000</td>\n      <td>0.520000</td>\n    </tr>\n    <tr>\n      <th>75%</th>\n      <td>6292.750000</td>\n      <td>44539.250000</td>\n      <td>38.000000</td>\n      <td>1709.985000</td>\n      <td>0.080000</td>\n      <td>162.544500</td>\n      <td>85.990000</td>\n      <td>13.990000</td>\n      <td>0.590000</td>\n    </tr>\n    <tr>\n      <th>max</th>\n      <td>8390.000000</td>\n      <td>59939.000000</td>\n      <td>50.000000</td>\n      <td>89061.050000</td>\n      <td>0.250000</td>\n      <td>27220.690000</td>\n      <td>6783.020000</td>\n      <td>164.730000</td>\n      <td>0.850000</td>\n    </tr>\n  </tbody>\n</table>\n</div>"
     },
     "metadata": {},
     "execution_count": 31
    }
   ],
   "source": [
    "order[order['Order Priority']=='High'].describe()"
   ]
  },
  {
   "cell_type": "code",
   "execution_count": 8,
   "metadata": {},
   "outputs": [
    {
     "output_type": "execute_result",
     "data": {
      "text/plain": [
       "<bound method NDFrame.describe of       Row ID  Order ID Order Date Order Priority  Order Quantity     Sales  \\\n",
       "48        49       293 2012-10-01           High              49  10123.02   \n",
       "209      210      1383 2010-04-26           High              43  17129.97   \n",
       "249      250      1761 2010-12-23           High              25  12028.23   \n",
       "409      410      2790 2009-08-18           High              41  22319.58   \n",
       "448      449      3046 2011-11-29           High              24  10094.43   \n",
       "...      ...       ...        ...            ...             ...       ...   \n",
       "8118    8119     57984 2010-10-02           High              20  11829.40   \n",
       "8197    8198     58626 2011-12-30           High              21  10469.03   \n",
       "8242    8243     58917 2012-03-02           High              27  14300.26   \n",
       "8296    8297     59270 2010-01-11           High              48  25312.00   \n",
       "8324    8325     59491 2012-03-24           High              31  12470.31   \n",
       "\n",
       "      Discount       Ship Mode    Profit  Unit Price  ...      Customer Name  \\\n",
       "48        0.07  Delivery Truck   457.810      208.16  ...       Barry French   \n",
       "209       0.07     Regular Air  5616.080      415.88  ...       Frank Merwin   \n",
       "249       0.01  Delivery Truck  -547.610      449.99  ...        Carl Ludwig   \n",
       "409       0.02  Delivery Truck  -734.310      549.99  ...      Maribeth Dona   \n",
       "448       0.03     Regular Air  4451.008      420.98  ...           Sung Pak   \n",
       "...        ...             ...       ...         ...  ...                ...   \n",
       "8118      0.07     Regular Air  3899.720      599.99  ...      Toby Carlisle   \n",
       "8197      0.07  Delivery Truck  2608.720      500.98  ...      Henry Goldwyn   \n",
       "8242      0.01     Regular Air  6279.180      499.99  ...     John Stevenson   \n",
       "8296      0.01  Delivery Truck  8788.810      517.48  ...  Deborah Brumfield   \n",
       "8324      0.04     Regular Air  5528.502      387.99  ...        Greg Hansen   \n",
       "\n",
       "                  Province    Region Customer Segment Product Category  \\\n",
       "48                 Nunavut   Nunavut         Consumer  Office Supplies   \n",
       "209                Alberta      West         Consumer  Office Supplies   \n",
       "249                Nunavut   Nunavut        Corporate       Technology   \n",
       "409       British Columbia      West      Home Office       Technology   \n",
       "448                Alberta      West   Small Business  Office Supplies   \n",
       "...                    ...       ...              ...              ...   \n",
       "8118           Saskachewan    Prarie      Home Office       Technology   \n",
       "8197  Prince Edward Island  Atlantic   Small Business        Furniture   \n",
       "8242                Quebec    Quebec   Small Business       Technology   \n",
       "8296           Nova Scotia  Atlantic   Small Business       Technology   \n",
       "8324               Ontario   Ontario      Home Office  Office Supplies   \n",
       "\n",
       "                Product Sub-Category  \\\n",
       "48                        Appliances   \n",
       "209           Storage & Organization   \n",
       "249                  Copiers and Fax   \n",
       "409                  Copiers and Fax   \n",
       "448   Binders and Binder Accessories   \n",
       "...                              ...   \n",
       "8118                 Copiers and Fax   \n",
       "8197              Chairs & Chairmats   \n",
       "8242                 Copiers and Fax   \n",
       "8296                 Office Machines   \n",
       "8324  Binders and Binder Accessories   \n",
       "\n",
       "                                           Product Name Product Container  \\\n",
       "48    1.7 Cubic Foot Compact \"Cube\" Office Refrigera...        Jumbo Drum   \n",
       "209            Deluxe Rollaway Locking File with Drawer         Small Box   \n",
       "249                                  Canon PC940 Copier        Jumbo Drum   \n",
       "409                   Sharp 1540cs Digital Laser Copier        Jumbo Drum   \n",
       "448             GBC DocuBind 200 Manual Binding Machine         Small Box   \n",
       "...                                                 ...               ...   \n",
       "8118               Hewlett Packard LaserJet 3310 Copier         Large Box   \n",
       "8197     Global Troy™ Executive Leather Low-Back Tilter        Jumbo Drum   \n",
       "8242                     Sharp AL-1530CS Digital Copier         Large Box   \n",
       "8296              Panasonic KX-P3626 Dot Matrix Printer         Jumbo Box   \n",
       "8324        Fellowes PB300 Plastic Comb Binding Machine         Small Box   \n",
       "\n",
       "     Product Base Margin  Ship Date  \n",
       "48                  0.58 2012-10-02  \n",
       "209                 0.57 2010-04-27  \n",
       "249                 0.38 2010-12-25  \n",
       "409                 0.35 2009-08-20  \n",
       "448                 0.35 2011-12-01  \n",
       "...                  ...        ...  \n",
       "8118                0.37 2010-10-04  \n",
       "8197                0.60 2012-01-02  \n",
       "8242                0.36 2012-03-03  \n",
       "8296                0.59 2010-01-13  \n",
       "8324                0.38 2012-03-27  \n",
       "\n",
       "[68 rows x 21 columns]>"
      ]
     },
     "metadata": {},
     "execution_count": 8
    }
   ],
   "source": [
    "order[(order['Order Priority']=='High')& (order.Sales>=10000)].describe"
   ]
  },
  {
   "source": [
    "# sorting "
   ],
   "cell_type": "markdown",
   "metadata": {}
  },
  {
   "cell_type": "code",
   "execution_count": 40,
   "metadata": {},
   "outputs": [
    {
     "output_type": "execute_result",
     "data": {
      "text/plain": [
       "   Row ID  Order ID Order Date Order Priority  Order Quantity      Sales  \\\n",
       "0       1         3 2010-10-13           High               6   261.5400   \n",
       "1       2         6 2012-02-20           High               2     6.9300   \n",
       "2       3        32 2011-07-15           High              26  2808.0800   \n",
       "3       4        32 2011-07-15           High              24  1761.4000   \n",
       "4       5        32 2011-07-15           High              23   160.2335   \n",
       "\n",
       "   Discount       Ship Mode    Profit  Unit Price  ...       Customer Name  \\\n",
       "0      0.04     Regular Air  -213.250       38.94  ...  Muhammed MacIntyre   \n",
       "1      0.01     Regular Air    -4.640        2.08  ...         Ruben Dartt   \n",
       "2      0.07     Regular Air  1054.820      107.53  ...       Liz Pelletier   \n",
       "3      0.09  Delivery Truck -1748.560       70.89  ...       Liz Pelletier   \n",
       "4      0.04     Regular Air   -85.129        7.99  ...       Liz Pelletier   \n",
       "\n",
       "  Province   Region Customer Segment Product Category  \\\n",
       "0  Nunavut  Nunavut   Small Business  Office Supplies   \n",
       "1  Alberta     West        Corporate  Office Supplies   \n",
       "2  Alberta     West        Corporate        Furniture   \n",
       "3  Alberta     West        Corporate        Furniture   \n",
       "4  Alberta     West        Corporate       Technology   \n",
       "\n",
       "            Product Sub-Category  \\\n",
       "0         Storage & Organization   \n",
       "1  Scissors, Rulers and Trimmers   \n",
       "2             Office Furnishings   \n",
       "3                         Tables   \n",
       "4   Telephones and Communication   \n",
       "\n",
       "                                        Product Name Product Container  \\\n",
       "0   Eldon Base for stackable storage shelf, platinum         Large Box   \n",
       "1  Kleencut® Forged Office Shears by Acme United ...        Small Pack   \n",
       "2  Tenex Contemporary Contur Chairmats for Low an...        Medium Box   \n",
       "3                               KI Conference Tables         Jumbo Box   \n",
       "4                       Bell Sonecor JB700 Caller ID        Medium Box   \n",
       "\n",
       "  Product Base Margin  Ship Date  \n",
       "0                0.80 2010-10-20  \n",
       "1                0.55 2012-02-21  \n",
       "2                0.65 2011-07-17  \n",
       "3                0.72 2011-07-16  \n",
       "4                0.60 2011-07-17  \n",
       "\n",
       "[5 rows x 21 columns]"
      ],
      "text/html": "<div>\n<style scoped>\n    .dataframe tbody tr th:only-of-type {\n        vertical-align: middle;\n    }\n\n    .dataframe tbody tr th {\n        vertical-align: top;\n    }\n\n    .dataframe thead th {\n        text-align: right;\n    }\n</style>\n<table border=\"1\" class=\"dataframe\">\n  <thead>\n    <tr style=\"text-align: right;\">\n      <th></th>\n      <th>Row ID</th>\n      <th>Order ID</th>\n      <th>Order Date</th>\n      <th>Order Priority</th>\n      <th>Order Quantity</th>\n      <th>Sales</th>\n      <th>Discount</th>\n      <th>Ship Mode</th>\n      <th>Profit</th>\n      <th>Unit Price</th>\n      <th>...</th>\n      <th>Customer Name</th>\n      <th>Province</th>\n      <th>Region</th>\n      <th>Customer Segment</th>\n      <th>Product Category</th>\n      <th>Product Sub-Category</th>\n      <th>Product Name</th>\n      <th>Product Container</th>\n      <th>Product Base Margin</th>\n      <th>Ship Date</th>\n    </tr>\n  </thead>\n  <tbody>\n    <tr>\n      <th>0</th>\n      <td>1</td>\n      <td>3</td>\n      <td>2010-10-13</td>\n      <td>High</td>\n      <td>6</td>\n      <td>261.5400</td>\n      <td>0.04</td>\n      <td>Regular Air</td>\n      <td>-213.250</td>\n      <td>38.94</td>\n      <td>...</td>\n      <td>Muhammed MacIntyre</td>\n      <td>Nunavut</td>\n      <td>Nunavut</td>\n      <td>Small Business</td>\n      <td>Office Supplies</td>\n      <td>Storage &amp; Organization</td>\n      <td>Eldon Base for stackable storage shelf, platinum</td>\n      <td>Large Box</td>\n      <td>0.80</td>\n      <td>2010-10-20</td>\n    </tr>\n    <tr>\n      <th>1</th>\n      <td>2</td>\n      <td>6</td>\n      <td>2012-02-20</td>\n      <td>High</td>\n      <td>2</td>\n      <td>6.9300</td>\n      <td>0.01</td>\n      <td>Regular Air</td>\n      <td>-4.640</td>\n      <td>2.08</td>\n      <td>...</td>\n      <td>Ruben Dartt</td>\n      <td>Alberta</td>\n      <td>West</td>\n      <td>Corporate</td>\n      <td>Office Supplies</td>\n      <td>Scissors, Rulers and Trimmers</td>\n      <td>Kleencut® Forged Office Shears by Acme United ...</td>\n      <td>Small Pack</td>\n      <td>0.55</td>\n      <td>2012-02-21</td>\n    </tr>\n    <tr>\n      <th>2</th>\n      <td>3</td>\n      <td>32</td>\n      <td>2011-07-15</td>\n      <td>High</td>\n      <td>26</td>\n      <td>2808.0800</td>\n      <td>0.07</td>\n      <td>Regular Air</td>\n      <td>1054.820</td>\n      <td>107.53</td>\n      <td>...</td>\n      <td>Liz Pelletier</td>\n      <td>Alberta</td>\n      <td>West</td>\n      <td>Corporate</td>\n      <td>Furniture</td>\n      <td>Office Furnishings</td>\n      <td>Tenex Contemporary Contur Chairmats for Low an...</td>\n      <td>Medium Box</td>\n      <td>0.65</td>\n      <td>2011-07-17</td>\n    </tr>\n    <tr>\n      <th>3</th>\n      <td>4</td>\n      <td>32</td>\n      <td>2011-07-15</td>\n      <td>High</td>\n      <td>24</td>\n      <td>1761.4000</td>\n      <td>0.09</td>\n      <td>Delivery Truck</td>\n      <td>-1748.560</td>\n      <td>70.89</td>\n      <td>...</td>\n      <td>Liz Pelletier</td>\n      <td>Alberta</td>\n      <td>West</td>\n      <td>Corporate</td>\n      <td>Furniture</td>\n      <td>Tables</td>\n      <td>KI Conference Tables</td>\n      <td>Jumbo Box</td>\n      <td>0.72</td>\n      <td>2011-07-16</td>\n    </tr>\n    <tr>\n      <th>4</th>\n      <td>5</td>\n      <td>32</td>\n      <td>2011-07-15</td>\n      <td>High</td>\n      <td>23</td>\n      <td>160.2335</td>\n      <td>0.04</td>\n      <td>Regular Air</td>\n      <td>-85.129</td>\n      <td>7.99</td>\n      <td>...</td>\n      <td>Liz Pelletier</td>\n      <td>Alberta</td>\n      <td>West</td>\n      <td>Corporate</td>\n      <td>Technology</td>\n      <td>Telephones and Communication</td>\n      <td>Bell Sonecor JB700 Caller ID</td>\n      <td>Medium Box</td>\n      <td>0.60</td>\n      <td>2011-07-17</td>\n    </tr>\n  </tbody>\n</table>\n<p>5 rows × 21 columns</p>\n</div>"
     },
     "metadata": {},
     "execution_count": 40
    }
   ],
   "source": [
    "order.head()"
   ]
  },
  {
   "cell_type": "code",
   "execution_count": 43,
   "metadata": {},
   "outputs": [
    {
     "output_type": "execute_result",
     "data": {
      "text/plain": [
       "888     2.24\n",
       "3552    3.20\n",
       "3262    3.23\n",
       "6986    3.41\n",
       "1313    3.42\n",
       "Name: Sales, dtype: float64"
      ]
     },
     "metadata": {},
     "execution_count": 43
    }
   ],
   "source": [
    "order.Sales.sort_values().head()"
   ]
  },
  {
   "cell_type": "code",
   "execution_count": 46,
   "metadata": {},
   "outputs": [
    {
     "output_type": "execute_result",
     "data": {
      "text/plain": [
       "4189    89061.05\n",
       "451     45923.76\n",
       "4263    41343.21\n",
       "2025    33367.85\n",
       "4628    29884.60\n",
       "Name: Sales, dtype: float64"
      ]
     },
     "metadata": {},
     "execution_count": 46
    }
   ],
   "source": [
    "order.Sales.sort_values(ascending=False).head()"
   ]
  },
  {
   "cell_type": "code",
   "execution_count": 49,
   "metadata": {},
   "outputs": [
    {
     "output_type": "execute_result",
     "data": {
      "text/plain": [
       "1913   2009-01-01\n",
       "4030   2009-01-01\n",
       "5272   2009-01-02\n",
       "1278   2009-01-02\n",
       "5271   2009-01-02\n",
       "Name: Order Date, dtype: datetime64[ns]"
      ]
     },
     "metadata": {},
     "execution_count": 49
    }
   ],
   "source": [
    "order['Order Date'].sort_values().head()"
   ]
  },
  {
   "cell_type": "code",
   "execution_count": 50,
   "metadata": {},
   "outputs": [
    {
     "output_type": "execute_result",
     "data": {
      "text/plain": [
       "      Row ID  Order ID Order Date Order Priority  Order Quantity  Sales  \\\n",
       "888      889      6374 2011-08-07           High               1   2.24   \n",
       "3552    3553     25318 2011-11-19           High               1   3.20   \n",
       "3262    3263     23361 2010-07-03           High               2   3.23   \n",
       "6986    6987     49925 2010-01-22           High               1   3.41   \n",
       "1313    1314      9635 2009-04-13           High               1   3.42   \n",
       "\n",
       "      Discount    Ship Mode  Profit  Unit Price  ...       Customer Name  \\\n",
       "888       0.01  Regular Air -1.9700        1.48  ...     Ricardo Emerson   \n",
       "3552      0.09  Regular Air -3.1625        1.88  ...            Ken Dana   \n",
       "3262      0.06  Regular Air -2.7300        1.26  ...  Benjamin Patterson   \n",
       "6986      0.06  Regular Air -1.7800        2.88  ...           Adam Hart   \n",
       "1313      0.05  Regular Air -2.9095        1.88  ...         Andy Reiter   \n",
       "\n",
       "              Province  Region Customer Segment Product Category  \\\n",
       "888   British Columbia    West        Corporate  Office Supplies   \n",
       "3552           Alberta    West   Small Business  Office Supplies   \n",
       "3262             Yukon   Yukon        Corporate  Office Supplies   \n",
       "6986  British Columbia    West        Corporate  Office Supplies   \n",
       "1313            Quebec  Quebec        Corporate  Office Supplies   \n",
       "\n",
       "                Product Sub-Category                         Product Name  \\\n",
       "888                     Rubber Bands                  Binder Clips by OIC   \n",
       "3552  Binders and Binder Accessories  Staples® General Use 3-Ring Binders   \n",
       "3262                    Rubber Bands                  Bagged Rubber Bands   \n",
       "6986             Pens & Art Supplies                           Newell 346   \n",
       "1313  Binders and Binder Accessories  Staples® General Use 3-Ring Binders   \n",
       "\n",
       "     Product Container Product Base Margin  Ship Date  \n",
       "888           Wrap Bag                0.37 2011-08-09  \n",
       "3552         Small Box                0.37 2011-11-21  \n",
       "3262          Wrap Bag                0.81 2010-07-04  \n",
       "6986          Wrap Bag                0.56 2010-01-23  \n",
       "1313         Small Box                0.37 2009-04-15  \n",
       "\n",
       "[5 rows x 21 columns]"
      ],
      "text/html": "<div>\n<style scoped>\n    .dataframe tbody tr th:only-of-type {\n        vertical-align: middle;\n    }\n\n    .dataframe tbody tr th {\n        vertical-align: top;\n    }\n\n    .dataframe thead th {\n        text-align: right;\n    }\n</style>\n<table border=\"1\" class=\"dataframe\">\n  <thead>\n    <tr style=\"text-align: right;\">\n      <th></th>\n      <th>Row ID</th>\n      <th>Order ID</th>\n      <th>Order Date</th>\n      <th>Order Priority</th>\n      <th>Order Quantity</th>\n      <th>Sales</th>\n      <th>Discount</th>\n      <th>Ship Mode</th>\n      <th>Profit</th>\n      <th>Unit Price</th>\n      <th>...</th>\n      <th>Customer Name</th>\n      <th>Province</th>\n      <th>Region</th>\n      <th>Customer Segment</th>\n      <th>Product Category</th>\n      <th>Product Sub-Category</th>\n      <th>Product Name</th>\n      <th>Product Container</th>\n      <th>Product Base Margin</th>\n      <th>Ship Date</th>\n    </tr>\n  </thead>\n  <tbody>\n    <tr>\n      <th>888</th>\n      <td>889</td>\n      <td>6374</td>\n      <td>2011-08-07</td>\n      <td>High</td>\n      <td>1</td>\n      <td>2.24</td>\n      <td>0.01</td>\n      <td>Regular Air</td>\n      <td>-1.9700</td>\n      <td>1.48</td>\n      <td>...</td>\n      <td>Ricardo Emerson</td>\n      <td>British Columbia</td>\n      <td>West</td>\n      <td>Corporate</td>\n      <td>Office Supplies</td>\n      <td>Rubber Bands</td>\n      <td>Binder Clips by OIC</td>\n      <td>Wrap Bag</td>\n      <td>0.37</td>\n      <td>2011-08-09</td>\n    </tr>\n    <tr>\n      <th>3552</th>\n      <td>3553</td>\n      <td>25318</td>\n      <td>2011-11-19</td>\n      <td>High</td>\n      <td>1</td>\n      <td>3.20</td>\n      <td>0.09</td>\n      <td>Regular Air</td>\n      <td>-3.1625</td>\n      <td>1.88</td>\n      <td>...</td>\n      <td>Ken Dana</td>\n      <td>Alberta</td>\n      <td>West</td>\n      <td>Small Business</td>\n      <td>Office Supplies</td>\n      <td>Binders and Binder Accessories</td>\n      <td>Staples® General Use 3-Ring Binders</td>\n      <td>Small Box</td>\n      <td>0.37</td>\n      <td>2011-11-21</td>\n    </tr>\n    <tr>\n      <th>3262</th>\n      <td>3263</td>\n      <td>23361</td>\n      <td>2010-07-03</td>\n      <td>High</td>\n      <td>2</td>\n      <td>3.23</td>\n      <td>0.06</td>\n      <td>Regular Air</td>\n      <td>-2.7300</td>\n      <td>1.26</td>\n      <td>...</td>\n      <td>Benjamin Patterson</td>\n      <td>Yukon</td>\n      <td>Yukon</td>\n      <td>Corporate</td>\n      <td>Office Supplies</td>\n      <td>Rubber Bands</td>\n      <td>Bagged Rubber Bands</td>\n      <td>Wrap Bag</td>\n      <td>0.81</td>\n      <td>2010-07-04</td>\n    </tr>\n    <tr>\n      <th>6986</th>\n      <td>6987</td>\n      <td>49925</td>\n      <td>2010-01-22</td>\n      <td>High</td>\n      <td>1</td>\n      <td>3.41</td>\n      <td>0.06</td>\n      <td>Regular Air</td>\n      <td>-1.7800</td>\n      <td>2.88</td>\n      <td>...</td>\n      <td>Adam Hart</td>\n      <td>British Columbia</td>\n      <td>West</td>\n      <td>Corporate</td>\n      <td>Office Supplies</td>\n      <td>Pens &amp; Art Supplies</td>\n      <td>Newell 346</td>\n      <td>Wrap Bag</td>\n      <td>0.56</td>\n      <td>2010-01-23</td>\n    </tr>\n    <tr>\n      <th>1313</th>\n      <td>1314</td>\n      <td>9635</td>\n      <td>2009-04-13</td>\n      <td>High</td>\n      <td>1</td>\n      <td>3.42</td>\n      <td>0.05</td>\n      <td>Regular Air</td>\n      <td>-2.9095</td>\n      <td>1.88</td>\n      <td>...</td>\n      <td>Andy Reiter</td>\n      <td>Quebec</td>\n      <td>Quebec</td>\n      <td>Corporate</td>\n      <td>Office Supplies</td>\n      <td>Binders and Binder Accessories</td>\n      <td>Staples® General Use 3-Ring Binders</td>\n      <td>Small Box</td>\n      <td>0.37</td>\n      <td>2009-04-15</td>\n    </tr>\n  </tbody>\n</table>\n<p>5 rows × 21 columns</p>\n</div>"
     },
     "metadata": {},
     "execution_count": 50
    }
   ],
   "source": [
    "order.sort_values('Sales').head()"
   ]
  },
  {
   "cell_type": "code",
   "execution_count": 51,
   "metadata": {},
   "outputs": [
    {
     "output_type": "execute_result",
     "data": {
      "text/plain": [
       "      Row ID  Order ID Order Date Order Priority  Order Quantity  Sales  \\\n",
       "888      889      6374 2011-08-07           High               1   2.24   \n",
       "3552    3553     25318 2011-11-19           High               1   3.20   \n",
       "3262    3263     23361 2010-07-03           High               2   3.23   \n",
       "6986    6987     49925 2010-01-22           High               1   3.41   \n",
       "1313    1314      9635 2009-04-13           High               1   3.42   \n",
       "\n",
       "      Discount    Ship Mode  Profit  Unit Price  ...       Customer Name  \\\n",
       "888       0.01  Regular Air -1.9700        1.48  ...     Ricardo Emerson   \n",
       "3552      0.09  Regular Air -3.1625        1.88  ...            Ken Dana   \n",
       "3262      0.06  Regular Air -2.7300        1.26  ...  Benjamin Patterson   \n",
       "6986      0.06  Regular Air -1.7800        2.88  ...           Adam Hart   \n",
       "1313      0.05  Regular Air -2.9095        1.88  ...         Andy Reiter   \n",
       "\n",
       "              Province  Region Customer Segment Product Category  \\\n",
       "888   British Columbia    West        Corporate  Office Supplies   \n",
       "3552           Alberta    West   Small Business  Office Supplies   \n",
       "3262             Yukon   Yukon        Corporate  Office Supplies   \n",
       "6986  British Columbia    West        Corporate  Office Supplies   \n",
       "1313            Quebec  Quebec        Corporate  Office Supplies   \n",
       "\n",
       "                Product Sub-Category                         Product Name  \\\n",
       "888                     Rubber Bands                  Binder Clips by OIC   \n",
       "3552  Binders and Binder Accessories  Staples® General Use 3-Ring Binders   \n",
       "3262                    Rubber Bands                  Bagged Rubber Bands   \n",
       "6986             Pens & Art Supplies                           Newell 346   \n",
       "1313  Binders and Binder Accessories  Staples® General Use 3-Ring Binders   \n",
       "\n",
       "     Product Container Product Base Margin  Ship Date  \n",
       "888           Wrap Bag                0.37 2011-08-09  \n",
       "3552         Small Box                0.37 2011-11-21  \n",
       "3262          Wrap Bag                0.81 2010-07-04  \n",
       "6986          Wrap Bag                0.56 2010-01-23  \n",
       "1313         Small Box                0.37 2009-04-15  \n",
       "\n",
       "[5 rows x 21 columns]"
      ],
      "text/html": "<div>\n<style scoped>\n    .dataframe tbody tr th:only-of-type {\n        vertical-align: middle;\n    }\n\n    .dataframe tbody tr th {\n        vertical-align: top;\n    }\n\n    .dataframe thead th {\n        text-align: right;\n    }\n</style>\n<table border=\"1\" class=\"dataframe\">\n  <thead>\n    <tr style=\"text-align: right;\">\n      <th></th>\n      <th>Row ID</th>\n      <th>Order ID</th>\n      <th>Order Date</th>\n      <th>Order Priority</th>\n      <th>Order Quantity</th>\n      <th>Sales</th>\n      <th>Discount</th>\n      <th>Ship Mode</th>\n      <th>Profit</th>\n      <th>Unit Price</th>\n      <th>...</th>\n      <th>Customer Name</th>\n      <th>Province</th>\n      <th>Region</th>\n      <th>Customer Segment</th>\n      <th>Product Category</th>\n      <th>Product Sub-Category</th>\n      <th>Product Name</th>\n      <th>Product Container</th>\n      <th>Product Base Margin</th>\n      <th>Ship Date</th>\n    </tr>\n  </thead>\n  <tbody>\n    <tr>\n      <th>888</th>\n      <td>889</td>\n      <td>6374</td>\n      <td>2011-08-07</td>\n      <td>High</td>\n      <td>1</td>\n      <td>2.24</td>\n      <td>0.01</td>\n      <td>Regular Air</td>\n      <td>-1.9700</td>\n      <td>1.48</td>\n      <td>...</td>\n      <td>Ricardo Emerson</td>\n      <td>British Columbia</td>\n      <td>West</td>\n      <td>Corporate</td>\n      <td>Office Supplies</td>\n      <td>Rubber Bands</td>\n      <td>Binder Clips by OIC</td>\n      <td>Wrap Bag</td>\n      <td>0.37</td>\n      <td>2011-08-09</td>\n    </tr>\n    <tr>\n      <th>3552</th>\n      <td>3553</td>\n      <td>25318</td>\n      <td>2011-11-19</td>\n      <td>High</td>\n      <td>1</td>\n      <td>3.20</td>\n      <td>0.09</td>\n      <td>Regular Air</td>\n      <td>-3.1625</td>\n      <td>1.88</td>\n      <td>...</td>\n      <td>Ken Dana</td>\n      <td>Alberta</td>\n      <td>West</td>\n      <td>Small Business</td>\n      <td>Office Supplies</td>\n      <td>Binders and Binder Accessories</td>\n      <td>Staples® General Use 3-Ring Binders</td>\n      <td>Small Box</td>\n      <td>0.37</td>\n      <td>2011-11-21</td>\n    </tr>\n    <tr>\n      <th>3262</th>\n      <td>3263</td>\n      <td>23361</td>\n      <td>2010-07-03</td>\n      <td>High</td>\n      <td>2</td>\n      <td>3.23</td>\n      <td>0.06</td>\n      <td>Regular Air</td>\n      <td>-2.7300</td>\n      <td>1.26</td>\n      <td>...</td>\n      <td>Benjamin Patterson</td>\n      <td>Yukon</td>\n      <td>Yukon</td>\n      <td>Corporate</td>\n      <td>Office Supplies</td>\n      <td>Rubber Bands</td>\n      <td>Bagged Rubber Bands</td>\n      <td>Wrap Bag</td>\n      <td>0.81</td>\n      <td>2010-07-04</td>\n    </tr>\n    <tr>\n      <th>6986</th>\n      <td>6987</td>\n      <td>49925</td>\n      <td>2010-01-22</td>\n      <td>High</td>\n      <td>1</td>\n      <td>3.41</td>\n      <td>0.06</td>\n      <td>Regular Air</td>\n      <td>-1.7800</td>\n      <td>2.88</td>\n      <td>...</td>\n      <td>Adam Hart</td>\n      <td>British Columbia</td>\n      <td>West</td>\n      <td>Corporate</td>\n      <td>Office Supplies</td>\n      <td>Pens &amp; Art Supplies</td>\n      <td>Newell 346</td>\n      <td>Wrap Bag</td>\n      <td>0.56</td>\n      <td>2010-01-23</td>\n    </tr>\n    <tr>\n      <th>1313</th>\n      <td>1314</td>\n      <td>9635</td>\n      <td>2009-04-13</td>\n      <td>High</td>\n      <td>1</td>\n      <td>3.42</td>\n      <td>0.05</td>\n      <td>Regular Air</td>\n      <td>-2.9095</td>\n      <td>1.88</td>\n      <td>...</td>\n      <td>Andy Reiter</td>\n      <td>Quebec</td>\n      <td>Quebec</td>\n      <td>Corporate</td>\n      <td>Office Supplies</td>\n      <td>Binders and Binder Accessories</td>\n      <td>Staples® General Use 3-Ring Binders</td>\n      <td>Small Box</td>\n      <td>0.37</td>\n      <td>2009-04-15</td>\n    </tr>\n  </tbody>\n</table>\n<p>5 rows × 21 columns</p>\n</div>"
     },
     "metadata": {},
     "execution_count": 51
    }
   ],
   "source": [
    "order.sort_values(['Sales','Order Priority']).head()"
   ]
  },
  {
   "cell_type": "code",
   "execution_count": 52,
   "metadata": {},
   "outputs": [
    {
     "output_type": "execute_result",
     "data": {
      "text/plain": [
       "      Row ID  Order ID Order Date Order Priority  Order Quantity     Sales  \\\n",
       "4189    4190     29766 2009-03-21           High              13  89061.05   \n",
       "451      452      3073 2009-01-07           High               7  45923.76   \n",
       "4263    4264     30343 2012-05-21           High               8  41343.21   \n",
       "2025    2026     14435 2012-12-01           High               9  33367.85   \n",
       "4628    4629     32932 2010-01-09           High              49  29884.60   \n",
       "\n",
       "      Discount    Ship Mode    Profit  Unit Price  ...    Customer Name  \\\n",
       "4189      0.00  Regular Air  27220.69     6783.02  ...       Emily Phan   \n",
       "451       0.07  Regular Air    102.61     6783.02  ...  Jasper Cacioppo   \n",
       "4263      0.09  Regular Air   3852.19     6783.02  ...   Craig Carreira   \n",
       "2025      0.01  Regular Air   3992.52     3499.99  ...      Dennis Kane   \n",
       "4628      0.05  Regular Air  12748.86      599.99  ...   Karen Carlisle   \n",
       "\n",
       "              Province    Region Customer Segment Product Category  \\\n",
       "4189     New Brunswick  Atlantic         Consumer       Technology   \n",
       "451             Quebec    Quebec      Home Office       Technology   \n",
       "4263       Saskachewan    Prarie        Corporate       Technology   \n",
       "2025            Quebec    Quebec   Small Business       Technology   \n",
       "4628  British Columbia      West        Corporate       Technology   \n",
       "\n",
       "     Product Sub-Category                                      Product Name  \\\n",
       "4189      Office Machines  Polycom ViewStation™ ISDN Videoconferencing Unit   \n",
       "451       Office Machines  Polycom ViewStation™ ISDN Videoconferencing Unit   \n",
       "4263      Office Machines  Polycom ViewStation™ ISDN Videoconferencing Unit   \n",
       "2025      Copiers and Fax             Canon imageCLASS 2200 Advanced Copier   \n",
       "4628      Copiers and Fax                     Canon Image Class D660 Copier   \n",
       "\n",
       "     Product Container Product Base Margin  Ship Date  \n",
       "4189         Large Box                0.39 2009-03-22  \n",
       "451          Large Box                0.39 2009-01-08  \n",
       "4263         Large Box                0.39 2012-05-23  \n",
       "2025         Large Box                0.37 2012-12-04  \n",
       "4628         Large Box                0.44 2010-01-13  \n",
       "\n",
       "[5 rows x 21 columns]"
      ],
      "text/html": "<div>\n<style scoped>\n    .dataframe tbody tr th:only-of-type {\n        vertical-align: middle;\n    }\n\n    .dataframe tbody tr th {\n        vertical-align: top;\n    }\n\n    .dataframe thead th {\n        text-align: right;\n    }\n</style>\n<table border=\"1\" class=\"dataframe\">\n  <thead>\n    <tr style=\"text-align: right;\">\n      <th></th>\n      <th>Row ID</th>\n      <th>Order ID</th>\n      <th>Order Date</th>\n      <th>Order Priority</th>\n      <th>Order Quantity</th>\n      <th>Sales</th>\n      <th>Discount</th>\n      <th>Ship Mode</th>\n      <th>Profit</th>\n      <th>Unit Price</th>\n      <th>...</th>\n      <th>Customer Name</th>\n      <th>Province</th>\n      <th>Region</th>\n      <th>Customer Segment</th>\n      <th>Product Category</th>\n      <th>Product Sub-Category</th>\n      <th>Product Name</th>\n      <th>Product Container</th>\n      <th>Product Base Margin</th>\n      <th>Ship Date</th>\n    </tr>\n  </thead>\n  <tbody>\n    <tr>\n      <th>4189</th>\n      <td>4190</td>\n      <td>29766</td>\n      <td>2009-03-21</td>\n      <td>High</td>\n      <td>13</td>\n      <td>89061.05</td>\n      <td>0.00</td>\n      <td>Regular Air</td>\n      <td>27220.69</td>\n      <td>6783.02</td>\n      <td>...</td>\n      <td>Emily Phan</td>\n      <td>New Brunswick</td>\n      <td>Atlantic</td>\n      <td>Consumer</td>\n      <td>Technology</td>\n      <td>Office Machines</td>\n      <td>Polycom ViewStation™ ISDN Videoconferencing Unit</td>\n      <td>Large Box</td>\n      <td>0.39</td>\n      <td>2009-03-22</td>\n    </tr>\n    <tr>\n      <th>451</th>\n      <td>452</td>\n      <td>3073</td>\n      <td>2009-01-07</td>\n      <td>High</td>\n      <td>7</td>\n      <td>45923.76</td>\n      <td>0.07</td>\n      <td>Regular Air</td>\n      <td>102.61</td>\n      <td>6783.02</td>\n      <td>...</td>\n      <td>Jasper Cacioppo</td>\n      <td>Quebec</td>\n      <td>Quebec</td>\n      <td>Home Office</td>\n      <td>Technology</td>\n      <td>Office Machines</td>\n      <td>Polycom ViewStation™ ISDN Videoconferencing Unit</td>\n      <td>Large Box</td>\n      <td>0.39</td>\n      <td>2009-01-08</td>\n    </tr>\n    <tr>\n      <th>4263</th>\n      <td>4264</td>\n      <td>30343</td>\n      <td>2012-05-21</td>\n      <td>High</td>\n      <td>8</td>\n      <td>41343.21</td>\n      <td>0.09</td>\n      <td>Regular Air</td>\n      <td>3852.19</td>\n      <td>6783.02</td>\n      <td>...</td>\n      <td>Craig Carreira</td>\n      <td>Saskachewan</td>\n      <td>Prarie</td>\n      <td>Corporate</td>\n      <td>Technology</td>\n      <td>Office Machines</td>\n      <td>Polycom ViewStation™ ISDN Videoconferencing Unit</td>\n      <td>Large Box</td>\n      <td>0.39</td>\n      <td>2012-05-23</td>\n    </tr>\n    <tr>\n      <th>2025</th>\n      <td>2026</td>\n      <td>14435</td>\n      <td>2012-12-01</td>\n      <td>High</td>\n      <td>9</td>\n      <td>33367.85</td>\n      <td>0.01</td>\n      <td>Regular Air</td>\n      <td>3992.52</td>\n      <td>3499.99</td>\n      <td>...</td>\n      <td>Dennis Kane</td>\n      <td>Quebec</td>\n      <td>Quebec</td>\n      <td>Small Business</td>\n      <td>Technology</td>\n      <td>Copiers and Fax</td>\n      <td>Canon imageCLASS 2200 Advanced Copier</td>\n      <td>Large Box</td>\n      <td>0.37</td>\n      <td>2012-12-04</td>\n    </tr>\n    <tr>\n      <th>4628</th>\n      <td>4629</td>\n      <td>32932</td>\n      <td>2010-01-09</td>\n      <td>High</td>\n      <td>49</td>\n      <td>29884.60</td>\n      <td>0.05</td>\n      <td>Regular Air</td>\n      <td>12748.86</td>\n      <td>599.99</td>\n      <td>...</td>\n      <td>Karen Carlisle</td>\n      <td>British Columbia</td>\n      <td>West</td>\n      <td>Corporate</td>\n      <td>Technology</td>\n      <td>Copiers and Fax</td>\n      <td>Canon Image Class D660 Copier</td>\n      <td>Large Box</td>\n      <td>0.44</td>\n      <td>2010-01-13</td>\n    </tr>\n  </tbody>\n</table>\n<p>5 rows × 21 columns</p>\n</div>"
     },
     "metadata": {},
     "execution_count": 52
    }
   ],
   "source": [
    "order.sort_values(['Sales','Order Priority'],ascending=False).head()"
   ]
  },
  {
   "source": [
    "# filter the data"
   ],
   "cell_type": "markdown",
   "metadata": {}
  },
  {
   "cell_type": "code",
   "execution_count": 53,
   "metadata": {},
   "outputs": [],
   "source": [
    "import pandas as pd"
   ]
  },
  {
   "cell_type": "code",
   "execution_count": 73,
   "metadata": {},
   "outputs": [
    {
     "output_type": "execute_result",
     "data": {
      "text/plain": [
       "   Row ID  Order ID Order Date Order Priority  Order Quantity      Sales  \\\n",
       "0       1         3 2010-10-13            Low               6   261.5400   \n",
       "1       2         6 2012-02-20  Not Specified               2     6.9300   \n",
       "2       3        32 2011-07-15           High              26  2808.0800   \n",
       "3       4        32 2011-07-15           High              24  1761.4000   \n",
       "4       5        32 2011-07-15           High              23   160.2335   \n",
       "\n",
       "   Discount       Ship Mode    Profit  Unit Price  ...       Customer Name  \\\n",
       "0      0.04     Regular Air  -213.250       38.94  ...  Muhammed MacIntyre   \n",
       "1      0.01     Regular Air    -4.640        2.08  ...         Ruben Dartt   \n",
       "2      0.07     Regular Air  1054.820      107.53  ...       Liz Pelletier   \n",
       "3      0.09  Delivery Truck -1748.560       70.89  ...       Liz Pelletier   \n",
       "4      0.04     Regular Air   -85.129        7.99  ...       Liz Pelletier   \n",
       "\n",
       "  Province   Region Customer Segment Product Category  \\\n",
       "0  Nunavut  Nunavut   Small Business  Office Supplies   \n",
       "1  Alberta     West        Corporate  Office Supplies   \n",
       "2  Alberta     West        Corporate        Furniture   \n",
       "3  Alberta     West        Corporate        Furniture   \n",
       "4  Alberta     West        Corporate       Technology   \n",
       "\n",
       "            Product Sub-Category  \\\n",
       "0         Storage & Organization   \n",
       "1  Scissors, Rulers and Trimmers   \n",
       "2             Office Furnishings   \n",
       "3                         Tables   \n",
       "4   Telephones and Communication   \n",
       "\n",
       "                                        Product Name Product Container  \\\n",
       "0   Eldon Base for stackable storage shelf, platinum         Large Box   \n",
       "1  Kleencut® Forged Office Shears by Acme United ...        Small Pack   \n",
       "2  Tenex Contemporary Contur Chairmats for Low an...        Medium Box   \n",
       "3                               KI Conference Tables         Jumbo Box   \n",
       "4                       Bell Sonecor JB700 Caller ID        Medium Box   \n",
       "\n",
       "  Product Base Margin  Ship Date  \n",
       "0                0.80 2010-10-20  \n",
       "1                0.55 2012-02-21  \n",
       "2                0.65 2011-07-17  \n",
       "3                0.72 2011-07-16  \n",
       "4                0.60 2011-07-17  \n",
       "\n",
       "[5 rows x 21 columns]"
      ],
      "text/html": "<div>\n<style scoped>\n    .dataframe tbody tr th:only-of-type {\n        vertical-align: middle;\n    }\n\n    .dataframe tbody tr th {\n        vertical-align: top;\n    }\n\n    .dataframe thead th {\n        text-align: right;\n    }\n</style>\n<table border=\"1\" class=\"dataframe\">\n  <thead>\n    <tr style=\"text-align: right;\">\n      <th></th>\n      <th>Row ID</th>\n      <th>Order ID</th>\n      <th>Order Date</th>\n      <th>Order Priority</th>\n      <th>Order Quantity</th>\n      <th>Sales</th>\n      <th>Discount</th>\n      <th>Ship Mode</th>\n      <th>Profit</th>\n      <th>Unit Price</th>\n      <th>...</th>\n      <th>Customer Name</th>\n      <th>Province</th>\n      <th>Region</th>\n      <th>Customer Segment</th>\n      <th>Product Category</th>\n      <th>Product Sub-Category</th>\n      <th>Product Name</th>\n      <th>Product Container</th>\n      <th>Product Base Margin</th>\n      <th>Ship Date</th>\n    </tr>\n  </thead>\n  <tbody>\n    <tr>\n      <th>0</th>\n      <td>1</td>\n      <td>3</td>\n      <td>2010-10-13</td>\n      <td>Low</td>\n      <td>6</td>\n      <td>261.5400</td>\n      <td>0.04</td>\n      <td>Regular Air</td>\n      <td>-213.250</td>\n      <td>38.94</td>\n      <td>...</td>\n      <td>Muhammed MacIntyre</td>\n      <td>Nunavut</td>\n      <td>Nunavut</td>\n      <td>Small Business</td>\n      <td>Office Supplies</td>\n      <td>Storage &amp; Organization</td>\n      <td>Eldon Base for stackable storage shelf, platinum</td>\n      <td>Large Box</td>\n      <td>0.80</td>\n      <td>2010-10-20</td>\n    </tr>\n    <tr>\n      <th>1</th>\n      <td>2</td>\n      <td>6</td>\n      <td>2012-02-20</td>\n      <td>Not Specified</td>\n      <td>2</td>\n      <td>6.9300</td>\n      <td>0.01</td>\n      <td>Regular Air</td>\n      <td>-4.640</td>\n      <td>2.08</td>\n      <td>...</td>\n      <td>Ruben Dartt</td>\n      <td>Alberta</td>\n      <td>West</td>\n      <td>Corporate</td>\n      <td>Office Supplies</td>\n      <td>Scissors, Rulers and Trimmers</td>\n      <td>Kleencut® Forged Office Shears by Acme United ...</td>\n      <td>Small Pack</td>\n      <td>0.55</td>\n      <td>2012-02-21</td>\n    </tr>\n    <tr>\n      <th>2</th>\n      <td>3</td>\n      <td>32</td>\n      <td>2011-07-15</td>\n      <td>High</td>\n      <td>26</td>\n      <td>2808.0800</td>\n      <td>0.07</td>\n      <td>Regular Air</td>\n      <td>1054.820</td>\n      <td>107.53</td>\n      <td>...</td>\n      <td>Liz Pelletier</td>\n      <td>Alberta</td>\n      <td>West</td>\n      <td>Corporate</td>\n      <td>Furniture</td>\n      <td>Office Furnishings</td>\n      <td>Tenex Contemporary Contur Chairmats for Low an...</td>\n      <td>Medium Box</td>\n      <td>0.65</td>\n      <td>2011-07-17</td>\n    </tr>\n    <tr>\n      <th>3</th>\n      <td>4</td>\n      <td>32</td>\n      <td>2011-07-15</td>\n      <td>High</td>\n      <td>24</td>\n      <td>1761.4000</td>\n      <td>0.09</td>\n      <td>Delivery Truck</td>\n      <td>-1748.560</td>\n      <td>70.89</td>\n      <td>...</td>\n      <td>Liz Pelletier</td>\n      <td>Alberta</td>\n      <td>West</td>\n      <td>Corporate</td>\n      <td>Furniture</td>\n      <td>Tables</td>\n      <td>KI Conference Tables</td>\n      <td>Jumbo Box</td>\n      <td>0.72</td>\n      <td>2011-07-16</td>\n    </tr>\n    <tr>\n      <th>4</th>\n      <td>5</td>\n      <td>32</td>\n      <td>2011-07-15</td>\n      <td>High</td>\n      <td>23</td>\n      <td>160.2335</td>\n      <td>0.04</td>\n      <td>Regular Air</td>\n      <td>-85.129</td>\n      <td>7.99</td>\n      <td>...</td>\n      <td>Liz Pelletier</td>\n      <td>Alberta</td>\n      <td>West</td>\n      <td>Corporate</td>\n      <td>Technology</td>\n      <td>Telephones and Communication</td>\n      <td>Bell Sonecor JB700 Caller ID</td>\n      <td>Medium Box</td>\n      <td>0.60</td>\n      <td>2011-07-17</td>\n    </tr>\n  </tbody>\n</table>\n<p>5 rows × 21 columns</p>\n</div>"
     },
     "metadata": {},
     "execution_count": 73
    }
   ],
   "source": [
    "order = pd.read_excel('Sample - Superstore Sales.xls',0)\n",
    "order.head()"
   ]
  },
  {
   "cell_type": "code",
   "execution_count": 56,
   "metadata": {},
   "outputs": [
    {
     "output_type": "execute_result",
     "data": {
      "text/plain": [
       "      Row ID  Order ID Order Date Order Priority  Order Quantity      Sales  \\\n",
       "2          3        32 2011-07-15           High              26  2808.0800   \n",
       "3          4        32 2011-07-15           High              24  1761.4000   \n",
       "4          5        32 2011-07-15           High              23   160.2335   \n",
       "5          6        32 2011-07-15           High              15   140.5600   \n",
       "15        16        96 2009-04-16           High              37  4158.1235   \n",
       "...      ...       ...        ...            ...             ...        ...   \n",
       "8381    8382     59905 2012-04-14           High              19   159.2400   \n",
       "8382    8383     59905 2012-04-14           High               6    48.7700   \n",
       "8383    8384     59905 2012-04-14           High               5    26.5000   \n",
       "8384    8385     59906 2010-05-20           High              32   284.9200   \n",
       "8388    8389     59937 2009-12-28           High               7   235.9800   \n",
       "\n",
       "      Discount       Ship Mode    Profit  Unit Price  ...     Customer Name  \\\n",
       "2         0.07     Regular Air  1054.820      107.53  ...     Liz Pelletier   \n",
       "3         0.09  Delivery Truck -1748.560       70.89  ...     Liz Pelletier   \n",
       "4         0.04     Regular Air   -85.129        7.99  ...     Liz Pelletier   \n",
       "5         0.04     Regular Air  -128.380        8.46  ...     Liz Pelletier   \n",
       "15        0.01     Regular Air  1228.887      125.99  ...     Keith Dawkins   \n",
       "...        ...             ...       ...         ...  ...               ...   \n",
       "8381      0.09     Regular Air     8.300        8.50  ...       Daniel Lacy   \n",
       "8382      0.00     Regular Air     5.950        7.40  ...       Daniel Lacy   \n",
       "8383      0.01     Express Air     2.610        4.26  ...       Daniel Lacy   \n",
       "8384      0.03     Regular Air    81.290        9.11  ...  Lindsay Shagiari   \n",
       "8388      0.02     Regular Air   -32.280       30.98  ...    John Stevenson   \n",
       "\n",
       "              Province   Region Customer Segment Product Category  \\\n",
       "2              Alberta     West        Corporate        Furniture   \n",
       "3              Alberta     West        Corporate        Furniture   \n",
       "4              Alberta     West        Corporate       Technology   \n",
       "5          Saskachewan   Prarie        Corporate       Technology   \n",
       "15            Manitoba   Prarie      Home Office       Technology   \n",
       "...                ...      ...              ...              ...   \n",
       "8381  British Columbia     West   Small Business       Technology   \n",
       "8382  British Columbia     West   Small Business  Office Supplies   \n",
       "8383  British Columbia     West   Small Business  Office Supplies   \n",
       "8384           Ontario  Ontario      Home Office  Office Supplies   \n",
       "8388            Quebec   Quebec   Small Business  Office Supplies   \n",
       "\n",
       "              Product Sub-Category  \\\n",
       "2               Office Furnishings   \n",
       "3                           Tables   \n",
       "4     Telephones and Communication   \n",
       "5             Computer Peripherals   \n",
       "15    Telephones and Communication   \n",
       "...                            ...   \n",
       "8381          Computer Peripherals   \n",
       "8382                         Paper   \n",
       "8383           Pens & Art Supplies   \n",
       "8384                         Paper   \n",
       "8388                         Paper   \n",
       "\n",
       "                                           Product Name Product Container  \\\n",
       "2     Tenex Contemporary Contur Chairmats for Low an...        Medium Box   \n",
       "3                                  KI Conference Tables         Jumbo Box   \n",
       "4                          Bell Sonecor JB700 Caller ID        Medium Box   \n",
       "5                     Imation 3.5 IBM Diskettes, 10/Box        Small Pack   \n",
       "15                                              SC7868i         Small Box   \n",
       "...                                                 ...               ...   \n",
       "8381                  Hewlett-Packard 4.7GB DVD+R Discs        Small Pack   \n",
       "8382  It's Hot Message Books with Stickers, 2 3/4\" x 5\"          Wrap Bag   \n",
       "8383  Dixon Prang® Watercolor Pencils, 10-Color Set ...          Wrap Bag   \n",
       "8384  Black Print Carbonless Snap-Off® Rapid Letter,...          Wrap Bag   \n",
       "8388                                          Xerox 197         Small Box   \n",
       "\n",
       "     Product Base Margin  Ship Date  \n",
       "2                   0.65 2011-07-17  \n",
       "3                   0.72 2011-07-16  \n",
       "4                   0.60 2011-07-17  \n",
       "5                   0.79 2011-07-16  \n",
       "15                  0.55 2009-04-18  \n",
       "...                  ...        ...  \n",
       "8381                0.49 2012-04-16  \n",
       "8382                0.40 2012-04-16  \n",
       "8383                0.44 2012-04-15  \n",
       "8384                0.40 2010-05-22  \n",
       "8388                0.40 2009-12-29  \n",
       "\n",
       "[1766 rows x 21 columns]"
      ],
      "text/html": "<div>\n<style scoped>\n    .dataframe tbody tr th:only-of-type {\n        vertical-align: middle;\n    }\n\n    .dataframe tbody tr th {\n        vertical-align: top;\n    }\n\n    .dataframe thead th {\n        text-align: right;\n    }\n</style>\n<table border=\"1\" class=\"dataframe\">\n  <thead>\n    <tr style=\"text-align: right;\">\n      <th></th>\n      <th>Row ID</th>\n      <th>Order ID</th>\n      <th>Order Date</th>\n      <th>Order Priority</th>\n      <th>Order Quantity</th>\n      <th>Sales</th>\n      <th>Discount</th>\n      <th>Ship Mode</th>\n      <th>Profit</th>\n      <th>Unit Price</th>\n      <th>...</th>\n      <th>Customer Name</th>\n      <th>Province</th>\n      <th>Region</th>\n      <th>Customer Segment</th>\n      <th>Product Category</th>\n      <th>Product Sub-Category</th>\n      <th>Product Name</th>\n      <th>Product Container</th>\n      <th>Product Base Margin</th>\n      <th>Ship Date</th>\n    </tr>\n  </thead>\n  <tbody>\n    <tr>\n      <th>2</th>\n      <td>3</td>\n      <td>32</td>\n      <td>2011-07-15</td>\n      <td>High</td>\n      <td>26</td>\n      <td>2808.0800</td>\n      <td>0.07</td>\n      <td>Regular Air</td>\n      <td>1054.820</td>\n      <td>107.53</td>\n      <td>...</td>\n      <td>Liz Pelletier</td>\n      <td>Alberta</td>\n      <td>West</td>\n      <td>Corporate</td>\n      <td>Furniture</td>\n      <td>Office Furnishings</td>\n      <td>Tenex Contemporary Contur Chairmats for Low an...</td>\n      <td>Medium Box</td>\n      <td>0.65</td>\n      <td>2011-07-17</td>\n    </tr>\n    <tr>\n      <th>3</th>\n      <td>4</td>\n      <td>32</td>\n      <td>2011-07-15</td>\n      <td>High</td>\n      <td>24</td>\n      <td>1761.4000</td>\n      <td>0.09</td>\n      <td>Delivery Truck</td>\n      <td>-1748.560</td>\n      <td>70.89</td>\n      <td>...</td>\n      <td>Liz Pelletier</td>\n      <td>Alberta</td>\n      <td>West</td>\n      <td>Corporate</td>\n      <td>Furniture</td>\n      <td>Tables</td>\n      <td>KI Conference Tables</td>\n      <td>Jumbo Box</td>\n      <td>0.72</td>\n      <td>2011-07-16</td>\n    </tr>\n    <tr>\n      <th>4</th>\n      <td>5</td>\n      <td>32</td>\n      <td>2011-07-15</td>\n      <td>High</td>\n      <td>23</td>\n      <td>160.2335</td>\n      <td>0.04</td>\n      <td>Regular Air</td>\n      <td>-85.129</td>\n      <td>7.99</td>\n      <td>...</td>\n      <td>Liz Pelletier</td>\n      <td>Alberta</td>\n      <td>West</td>\n      <td>Corporate</td>\n      <td>Technology</td>\n      <td>Telephones and Communication</td>\n      <td>Bell Sonecor JB700 Caller ID</td>\n      <td>Medium Box</td>\n      <td>0.60</td>\n      <td>2011-07-17</td>\n    </tr>\n    <tr>\n      <th>5</th>\n      <td>6</td>\n      <td>32</td>\n      <td>2011-07-15</td>\n      <td>High</td>\n      <td>15</td>\n      <td>140.5600</td>\n      <td>0.04</td>\n      <td>Regular Air</td>\n      <td>-128.380</td>\n      <td>8.46</td>\n      <td>...</td>\n      <td>Liz Pelletier</td>\n      <td>Saskachewan</td>\n      <td>Prarie</td>\n      <td>Corporate</td>\n      <td>Technology</td>\n      <td>Computer Peripherals</td>\n      <td>Imation 3.5 IBM Diskettes, 10/Box</td>\n      <td>Small Pack</td>\n      <td>0.79</td>\n      <td>2011-07-16</td>\n    </tr>\n    <tr>\n      <th>15</th>\n      <td>16</td>\n      <td>96</td>\n      <td>2009-04-16</td>\n      <td>High</td>\n      <td>37</td>\n      <td>4158.1235</td>\n      <td>0.01</td>\n      <td>Regular Air</td>\n      <td>1228.887</td>\n      <td>125.99</td>\n      <td>...</td>\n      <td>Keith Dawkins</td>\n      <td>Manitoba</td>\n      <td>Prarie</td>\n      <td>Home Office</td>\n      <td>Technology</td>\n      <td>Telephones and Communication</td>\n      <td>SC7868i</td>\n      <td>Small Box</td>\n      <td>0.55</td>\n      <td>2009-04-18</td>\n    </tr>\n    <tr>\n      <th>...</th>\n      <td>...</td>\n      <td>...</td>\n      <td>...</td>\n      <td>...</td>\n      <td>...</td>\n      <td>...</td>\n      <td>...</td>\n      <td>...</td>\n      <td>...</td>\n      <td>...</td>\n      <td>...</td>\n      <td>...</td>\n      <td>...</td>\n      <td>...</td>\n      <td>...</td>\n      <td>...</td>\n      <td>...</td>\n      <td>...</td>\n      <td>...</td>\n      <td>...</td>\n      <td>...</td>\n    </tr>\n    <tr>\n      <th>8381</th>\n      <td>8382</td>\n      <td>59905</td>\n      <td>2012-04-14</td>\n      <td>High</td>\n      <td>19</td>\n      <td>159.2400</td>\n      <td>0.09</td>\n      <td>Regular Air</td>\n      <td>8.300</td>\n      <td>8.50</td>\n      <td>...</td>\n      <td>Daniel Lacy</td>\n      <td>British Columbia</td>\n      <td>West</td>\n      <td>Small Business</td>\n      <td>Technology</td>\n      <td>Computer Peripherals</td>\n      <td>Hewlett-Packard 4.7GB DVD+R Discs</td>\n      <td>Small Pack</td>\n      <td>0.49</td>\n      <td>2012-04-16</td>\n    </tr>\n    <tr>\n      <th>8382</th>\n      <td>8383</td>\n      <td>59905</td>\n      <td>2012-04-14</td>\n      <td>High</td>\n      <td>6</td>\n      <td>48.7700</td>\n      <td>0.00</td>\n      <td>Regular Air</td>\n      <td>5.950</td>\n      <td>7.40</td>\n      <td>...</td>\n      <td>Daniel Lacy</td>\n      <td>British Columbia</td>\n      <td>West</td>\n      <td>Small Business</td>\n      <td>Office Supplies</td>\n      <td>Paper</td>\n      <td>It's Hot Message Books with Stickers, 2 3/4\" x 5\"</td>\n      <td>Wrap Bag</td>\n      <td>0.40</td>\n      <td>2012-04-16</td>\n    </tr>\n    <tr>\n      <th>8383</th>\n      <td>8384</td>\n      <td>59905</td>\n      <td>2012-04-14</td>\n      <td>High</td>\n      <td>5</td>\n      <td>26.5000</td>\n      <td>0.01</td>\n      <td>Express Air</td>\n      <td>2.610</td>\n      <td>4.26</td>\n      <td>...</td>\n      <td>Daniel Lacy</td>\n      <td>British Columbia</td>\n      <td>West</td>\n      <td>Small Business</td>\n      <td>Office Supplies</td>\n      <td>Pens &amp; Art Supplies</td>\n      <td>Dixon Prang® Watercolor Pencils, 10-Color Set ...</td>\n      <td>Wrap Bag</td>\n      <td>0.44</td>\n      <td>2012-04-15</td>\n    </tr>\n    <tr>\n      <th>8384</th>\n      <td>8385</td>\n      <td>59906</td>\n      <td>2010-05-20</td>\n      <td>High</td>\n      <td>32</td>\n      <td>284.9200</td>\n      <td>0.03</td>\n      <td>Regular Air</td>\n      <td>81.290</td>\n      <td>9.11</td>\n      <td>...</td>\n      <td>Lindsay Shagiari</td>\n      <td>Ontario</td>\n      <td>Ontario</td>\n      <td>Home Office</td>\n      <td>Office Supplies</td>\n      <td>Paper</td>\n      <td>Black Print Carbonless Snap-Off® Rapid Letter,...</td>\n      <td>Wrap Bag</td>\n      <td>0.40</td>\n      <td>2010-05-22</td>\n    </tr>\n    <tr>\n      <th>8388</th>\n      <td>8389</td>\n      <td>59937</td>\n      <td>2009-12-28</td>\n      <td>High</td>\n      <td>7</td>\n      <td>235.9800</td>\n      <td>0.02</td>\n      <td>Regular Air</td>\n      <td>-32.280</td>\n      <td>30.98</td>\n      <td>...</td>\n      <td>John Stevenson</td>\n      <td>Quebec</td>\n      <td>Quebec</td>\n      <td>Small Business</td>\n      <td>Office Supplies</td>\n      <td>Paper</td>\n      <td>Xerox 197</td>\n      <td>Small Box</td>\n      <td>0.40</td>\n      <td>2009-12-29</td>\n    </tr>\n  </tbody>\n</table>\n<p>1766 rows × 21 columns</p>\n</div>"
     },
     "metadata": {},
     "execution_count": 56
    }
   ],
   "source": [
    "order[order['Order Priority']=='High']"
   ]
  },
  {
   "cell_type": "code",
   "execution_count": 58,
   "metadata": {},
   "outputs": [
    {
     "output_type": "execute_result",
     "data": {
      "text/plain": [
       "      Row ID  Order ID Order Date Order Priority  Order Quantity      Sales  \\\n",
       "0          1         3 2010-10-13            Low               6   261.5400   \n",
       "2          3        32 2011-07-15           High              26  2808.0800   \n",
       "3          4        32 2011-07-15           High              24  1761.4000   \n",
       "4          5        32 2011-07-15           High              23   160.2335   \n",
       "5          6        32 2011-07-15           High              15   140.5600   \n",
       "...      ...       ...        ...            ...             ...        ...   \n",
       "8384    8385     59906 2010-05-20           High              32   284.9200   \n",
       "8385    8386     59909 2012-08-05            Low              11  1255.4800   \n",
       "8386    8387     59909 2012-08-05            Low              46   411.5600   \n",
       "8388    8389     59937 2009-12-28           High               7   235.9800   \n",
       "8389    8390     59939 2010-09-01         Medium              42   130.9600   \n",
       "\n",
       "      Discount       Ship Mode     Profit  Unit Price  ...  \\\n",
       "0         0.04     Regular Air  -213.2500       38.94  ...   \n",
       "2         0.07     Regular Air  1054.8200      107.53  ...   \n",
       "3         0.09  Delivery Truck -1748.5600       70.89  ...   \n",
       "4         0.04     Regular Air   -85.1290        7.99  ...   \n",
       "5         0.04     Regular Air  -128.3800        8.46  ...   \n",
       "...        ...             ...        ...         ...  ...   \n",
       "8384      0.03     Regular Air    81.2900        9.11  ...   \n",
       "8385      0.06  Delivery Truck  -292.6506      115.99  ...   \n",
       "8386      0.09     Express Air  -188.0200        9.38  ...   \n",
       "8388      0.02     Regular Air   -32.2800       30.98  ...   \n",
       "8389      0.05     Regular Air   -66.7400        3.14  ...   \n",
       "\n",
       "               Customer Name     Province   Region Customer Segment  \\\n",
       "0         Muhammed MacIntyre      Nunavut  Nunavut   Small Business   \n",
       "2              Liz Pelletier      Alberta     West        Corporate   \n",
       "3              Liz Pelletier      Alberta     West        Corporate   \n",
       "4              Liz Pelletier      Alberta     West        Corporate   \n",
       "5              Liz Pelletier  Saskachewan   Prarie        Corporate   \n",
       "...                      ...          ...      ...              ...   \n",
       "8384        Lindsay Shagiari      Ontario  Ontario      Home Office   \n",
       "8385  Christina Vanderzanden      Ontario  Ontario   Small Business   \n",
       "8386  Christina Vanderzanden      Ontario  Ontario   Small Business   \n",
       "8388          John Stevenson       Quebec   Quebec   Small Business   \n",
       "8389            Nicole Fjeld  Saskachewan   Prarie   Small Business   \n",
       "\n",
       "     Product Category           Product Sub-Category  \\\n",
       "0     Office Supplies         Storage & Organization   \n",
       "2           Furniture             Office Furnishings   \n",
       "3           Furniture                         Tables   \n",
       "4          Technology   Telephones and Communication   \n",
       "5          Technology           Computer Peripherals   \n",
       "...               ...                            ...   \n",
       "8384  Office Supplies                          Paper   \n",
       "8385       Technology                Office Machines   \n",
       "8386  Office Supplies         Storage & Organization   \n",
       "8388  Office Supplies                          Paper   \n",
       "8389  Office Supplies  Scissors, Rulers and Trimmers   \n",
       "\n",
       "                                           Product Name Product Container  \\\n",
       "0      Eldon Base for stackable storage shelf, platinum         Large Box   \n",
       "2     Tenex Contemporary Contur Chairmats for Low an...        Medium Box   \n",
       "3                                  KI Conference Tables         Jumbo Box   \n",
       "4                          Bell Sonecor JB700 Caller ID        Medium Box   \n",
       "5                     Imation 3.5 IBM Diskettes, 10/Box        Small Pack   \n",
       "...                                                 ...               ...   \n",
       "8384  Black Print Carbonless Snap-Off® Rapid Letter,...          Wrap Bag   \n",
       "8385  Hewlett-Packard Deskjet 5550 Color Inkjet Printer        Jumbo Drum   \n",
       "8386                                 Staples File Caddy         Small Box   \n",
       "8388                                          Xerox 197         Small Box   \n",
       "8389  Serrated Blade or Curved Handle Hand Letter Op...          Wrap Bag   \n",
       "\n",
       "     Product Base Margin  Ship Date  \n",
       "0                   0.80 2010-10-20  \n",
       "2                   0.65 2011-07-17  \n",
       "3                   0.72 2011-07-16  \n",
       "4                   0.60 2011-07-17  \n",
       "5                   0.79 2011-07-16  \n",
       "...                  ...        ...  \n",
       "8384                0.40 2010-05-22  \n",
       "8385                0.40 2012-08-07  \n",
       "8386                0.57 2012-08-12  \n",
       "8388                0.40 2009-12-29  \n",
       "8389                0.84 2010-09-01  \n",
       "\n",
       "[6940 rows x 21 columns]"
      ],
      "text/html": "<div>\n<style scoped>\n    .dataframe tbody tr th:only-of-type {\n        vertical-align: middle;\n    }\n\n    .dataframe tbody tr th {\n        vertical-align: top;\n    }\n\n    .dataframe thead th {\n        text-align: right;\n    }\n</style>\n<table border=\"1\" class=\"dataframe\">\n  <thead>\n    <tr style=\"text-align: right;\">\n      <th></th>\n      <th>Row ID</th>\n      <th>Order ID</th>\n      <th>Order Date</th>\n      <th>Order Priority</th>\n      <th>Order Quantity</th>\n      <th>Sales</th>\n      <th>Discount</th>\n      <th>Ship Mode</th>\n      <th>Profit</th>\n      <th>Unit Price</th>\n      <th>...</th>\n      <th>Customer Name</th>\n      <th>Province</th>\n      <th>Region</th>\n      <th>Customer Segment</th>\n      <th>Product Category</th>\n      <th>Product Sub-Category</th>\n      <th>Product Name</th>\n      <th>Product Container</th>\n      <th>Product Base Margin</th>\n      <th>Ship Date</th>\n    </tr>\n  </thead>\n  <tbody>\n    <tr>\n      <th>0</th>\n      <td>1</td>\n      <td>3</td>\n      <td>2010-10-13</td>\n      <td>Low</td>\n      <td>6</td>\n      <td>261.5400</td>\n      <td>0.04</td>\n      <td>Regular Air</td>\n      <td>-213.2500</td>\n      <td>38.94</td>\n      <td>...</td>\n      <td>Muhammed MacIntyre</td>\n      <td>Nunavut</td>\n      <td>Nunavut</td>\n      <td>Small Business</td>\n      <td>Office Supplies</td>\n      <td>Storage &amp; Organization</td>\n      <td>Eldon Base for stackable storage shelf, platinum</td>\n      <td>Large Box</td>\n      <td>0.80</td>\n      <td>2010-10-20</td>\n    </tr>\n    <tr>\n      <th>2</th>\n      <td>3</td>\n      <td>32</td>\n      <td>2011-07-15</td>\n      <td>High</td>\n      <td>26</td>\n      <td>2808.0800</td>\n      <td>0.07</td>\n      <td>Regular Air</td>\n      <td>1054.8200</td>\n      <td>107.53</td>\n      <td>...</td>\n      <td>Liz Pelletier</td>\n      <td>Alberta</td>\n      <td>West</td>\n      <td>Corporate</td>\n      <td>Furniture</td>\n      <td>Office Furnishings</td>\n      <td>Tenex Contemporary Contur Chairmats for Low an...</td>\n      <td>Medium Box</td>\n      <td>0.65</td>\n      <td>2011-07-17</td>\n    </tr>\n    <tr>\n      <th>3</th>\n      <td>4</td>\n      <td>32</td>\n      <td>2011-07-15</td>\n      <td>High</td>\n      <td>24</td>\n      <td>1761.4000</td>\n      <td>0.09</td>\n      <td>Delivery Truck</td>\n      <td>-1748.5600</td>\n      <td>70.89</td>\n      <td>...</td>\n      <td>Liz Pelletier</td>\n      <td>Alberta</td>\n      <td>West</td>\n      <td>Corporate</td>\n      <td>Furniture</td>\n      <td>Tables</td>\n      <td>KI Conference Tables</td>\n      <td>Jumbo Box</td>\n      <td>0.72</td>\n      <td>2011-07-16</td>\n    </tr>\n    <tr>\n      <th>4</th>\n      <td>5</td>\n      <td>32</td>\n      <td>2011-07-15</td>\n      <td>High</td>\n      <td>23</td>\n      <td>160.2335</td>\n      <td>0.04</td>\n      <td>Regular Air</td>\n      <td>-85.1290</td>\n      <td>7.99</td>\n      <td>...</td>\n      <td>Liz Pelletier</td>\n      <td>Alberta</td>\n      <td>West</td>\n      <td>Corporate</td>\n      <td>Technology</td>\n      <td>Telephones and Communication</td>\n      <td>Bell Sonecor JB700 Caller ID</td>\n      <td>Medium Box</td>\n      <td>0.60</td>\n      <td>2011-07-17</td>\n    </tr>\n    <tr>\n      <th>5</th>\n      <td>6</td>\n      <td>32</td>\n      <td>2011-07-15</td>\n      <td>High</td>\n      <td>15</td>\n      <td>140.5600</td>\n      <td>0.04</td>\n      <td>Regular Air</td>\n      <td>-128.3800</td>\n      <td>8.46</td>\n      <td>...</td>\n      <td>Liz Pelletier</td>\n      <td>Saskachewan</td>\n      <td>Prarie</td>\n      <td>Corporate</td>\n      <td>Technology</td>\n      <td>Computer Peripherals</td>\n      <td>Imation 3.5 IBM Diskettes, 10/Box</td>\n      <td>Small Pack</td>\n      <td>0.79</td>\n      <td>2011-07-16</td>\n    </tr>\n    <tr>\n      <th>...</th>\n      <td>...</td>\n      <td>...</td>\n      <td>...</td>\n      <td>...</td>\n      <td>...</td>\n      <td>...</td>\n      <td>...</td>\n      <td>...</td>\n      <td>...</td>\n      <td>...</td>\n      <td>...</td>\n      <td>...</td>\n      <td>...</td>\n      <td>...</td>\n      <td>...</td>\n      <td>...</td>\n      <td>...</td>\n      <td>...</td>\n      <td>...</td>\n      <td>...</td>\n      <td>...</td>\n    </tr>\n    <tr>\n      <th>8384</th>\n      <td>8385</td>\n      <td>59906</td>\n      <td>2010-05-20</td>\n      <td>High</td>\n      <td>32</td>\n      <td>284.9200</td>\n      <td>0.03</td>\n      <td>Regular Air</td>\n      <td>81.2900</td>\n      <td>9.11</td>\n      <td>...</td>\n      <td>Lindsay Shagiari</td>\n      <td>Ontario</td>\n      <td>Ontario</td>\n      <td>Home Office</td>\n      <td>Office Supplies</td>\n      <td>Paper</td>\n      <td>Black Print Carbonless Snap-Off® Rapid Letter,...</td>\n      <td>Wrap Bag</td>\n      <td>0.40</td>\n      <td>2010-05-22</td>\n    </tr>\n    <tr>\n      <th>8385</th>\n      <td>8386</td>\n      <td>59909</td>\n      <td>2012-08-05</td>\n      <td>Low</td>\n      <td>11</td>\n      <td>1255.4800</td>\n      <td>0.06</td>\n      <td>Delivery Truck</td>\n      <td>-292.6506</td>\n      <td>115.99</td>\n      <td>...</td>\n      <td>Christina Vanderzanden</td>\n      <td>Ontario</td>\n      <td>Ontario</td>\n      <td>Small Business</td>\n      <td>Technology</td>\n      <td>Office Machines</td>\n      <td>Hewlett-Packard Deskjet 5550 Color Inkjet Printer</td>\n      <td>Jumbo Drum</td>\n      <td>0.40</td>\n      <td>2012-08-07</td>\n    </tr>\n    <tr>\n      <th>8386</th>\n      <td>8387</td>\n      <td>59909</td>\n      <td>2012-08-05</td>\n      <td>Low</td>\n      <td>46</td>\n      <td>411.5600</td>\n      <td>0.09</td>\n      <td>Express Air</td>\n      <td>-188.0200</td>\n      <td>9.38</td>\n      <td>...</td>\n      <td>Christina Vanderzanden</td>\n      <td>Ontario</td>\n      <td>Ontario</td>\n      <td>Small Business</td>\n      <td>Office Supplies</td>\n      <td>Storage &amp; Organization</td>\n      <td>Staples File Caddy</td>\n      <td>Small Box</td>\n      <td>0.57</td>\n      <td>2012-08-12</td>\n    </tr>\n    <tr>\n      <th>8388</th>\n      <td>8389</td>\n      <td>59937</td>\n      <td>2009-12-28</td>\n      <td>High</td>\n      <td>7</td>\n      <td>235.9800</td>\n      <td>0.02</td>\n      <td>Regular Air</td>\n      <td>-32.2800</td>\n      <td>30.98</td>\n      <td>...</td>\n      <td>John Stevenson</td>\n      <td>Quebec</td>\n      <td>Quebec</td>\n      <td>Small Business</td>\n      <td>Office Supplies</td>\n      <td>Paper</td>\n      <td>Xerox 197</td>\n      <td>Small Box</td>\n      <td>0.40</td>\n      <td>2009-12-29</td>\n    </tr>\n    <tr>\n      <th>8389</th>\n      <td>8390</td>\n      <td>59939</td>\n      <td>2010-09-01</td>\n      <td>Medium</td>\n      <td>42</td>\n      <td>130.9600</td>\n      <td>0.05</td>\n      <td>Regular Air</td>\n      <td>-66.7400</td>\n      <td>3.14</td>\n      <td>...</td>\n      <td>Nicole Fjeld</td>\n      <td>Saskachewan</td>\n      <td>Prarie</td>\n      <td>Small Business</td>\n      <td>Office Supplies</td>\n      <td>Scissors, Rulers and Trimmers</td>\n      <td>Serrated Blade or Curved Handle Hand Letter Op...</td>\n      <td>Wrap Bag</td>\n      <td>0.84</td>\n      <td>2010-09-01</td>\n    </tr>\n  </tbody>\n</table>\n<p>6940 rows × 21 columns</p>\n</div>"
     },
     "metadata": {},
     "execution_count": 58
    }
   ],
   "source": [
    "# salees > 100\n",
    "order[order.Sales>100]"
   ]
  },
  {
   "cell_type": "code",
   "execution_count": 60,
   "metadata": {},
   "outputs": [
    {
     "output_type": "execute_result",
     "data": {
      "text/plain": [
       "      Row ID  Order ID Order Date Order Priority  Order Quantity      Sales  \\\n",
       "0          1         3 2010-10-13            Low               6   261.5400   \n",
       "6          7        35 2011-10-22  Not Specified              30   288.5600   \n",
       "7          8        35 2011-10-22  Not Specified              14  1892.8480   \n",
       "8          9        36 2011-11-02       Critical              46  2484.7455   \n",
       "9         10        65 2011-03-17       Critical              32  3812.7300   \n",
       "...      ...       ...        ...            ...             ...        ...   \n",
       "8377    8378     59845 2009-12-22            Low              28   120.5400   \n",
       "8380    8381     59879 2009-03-09  Not Specified              33   987.3175   \n",
       "8385    8386     59909 2012-08-05            Low              11  1255.4800   \n",
       "8386    8387     59909 2012-08-05            Low              46   411.5600   \n",
       "8389    8390     59939 2010-09-01         Medium              42   130.9600   \n",
       "\n",
       "      Discount       Ship Mode     Profit  Unit Price  ...  \\\n",
       "0         0.04     Regular Air  -213.2500       38.94  ...   \n",
       "6         0.03     Regular Air    60.7200        9.11  ...   \n",
       "7         0.01     Regular Air    48.9870      155.99  ...   \n",
       "8         0.10     Regular Air   657.4770       65.99  ...   \n",
       "9         0.02     Regular Air  1470.3000      115.79  ...   \n",
       "...        ...             ...        ...         ...  ...   \n",
       "8377      0.06     Regular Air     6.5200        4.20  ...   \n",
       "8380      0.04     Express Air   368.5590       35.99  ...   \n",
       "8385      0.06  Delivery Truck  -292.6506      115.99  ...   \n",
       "8386      0.09     Express Air  -188.0200        9.38  ...   \n",
       "8389      0.05     Regular Air   -66.7400        3.14  ...   \n",
       "\n",
       "               Customer Name          Province   Region Customer Segment  \\\n",
       "0         Muhammed MacIntyre           Nunavut  Nunavut   Small Business   \n",
       "6            Julie Creighton  British Columbia     West        Corporate   \n",
       "7            Julie Creighton  British Columbia     West        Corporate   \n",
       "8           Sample Company A           Alberta     West      Home Office   \n",
       "9              Tamara Dahlen           Ontario  Ontario        Corporate   \n",
       "...                      ...               ...      ...              ...   \n",
       "8377               Ed Ludwig           Ontario  Ontario         Consumer   \n",
       "8380              Karen Bern       Saskachewan   Prarie        Corporate   \n",
       "8385  Christina Vanderzanden           Ontario  Ontario   Small Business   \n",
       "8386  Christina Vanderzanden           Ontario  Ontario   Small Business   \n",
       "8389            Nicole Fjeld       Saskachewan   Prarie   Small Business   \n",
       "\n",
       "     Product Category           Product Sub-Category  \\\n",
       "0     Office Supplies         Storage & Organization   \n",
       "6     Office Supplies            Pens & Art Supplies   \n",
       "7          Technology   Telephones and Communication   \n",
       "8          Technology   Telephones and Communication   \n",
       "9          Technology           Computer Peripherals   \n",
       "...               ...                            ...   \n",
       "8377  Office Supplies                          Paper   \n",
       "8380       Technology   Telephones and Communication   \n",
       "8385       Technology                Office Machines   \n",
       "8386  Office Supplies         Storage & Organization   \n",
       "8389  Office Supplies  Scissors, Rulers and Trimmers   \n",
       "\n",
       "                                           Product Name Product Container  \\\n",
       "0      Eldon Base for stackable storage shelf, platinum         Large Box   \n",
       "6           Dixon Ticonderoga Core-Lock Colored Pencils          Wrap Bag   \n",
       "7                                                CF 688         Small Box   \n",
       "8                                                 6162i         Small Box   \n",
       "9     Verbatim DVD-R, 4.7GB, Spindle, WE, Blank, Ink...        Small Pack   \n",
       "...                                                 ...               ...   \n",
       "8377  Important Message Pads, 50 4-1/4 x 5-1/2 Forms...          Wrap Bag   \n",
       "8380                                         Accessory9        Small Pack   \n",
       "8385  Hewlett-Packard Deskjet 5550 Color Inkjet Printer        Jumbo Drum   \n",
       "8386                                 Staples File Caddy         Small Box   \n",
       "8389  Serrated Blade or Curved Handle Hand Letter Op...          Wrap Bag   \n",
       "\n",
       "     Product Base Margin  Ship Date  \n",
       "0                   0.80 2010-10-20  \n",
       "6                   0.52 2011-10-23  \n",
       "7                   0.58 2011-10-24  \n",
       "8                   0.55 2011-11-02  \n",
       "9                   0.49 2011-03-18  \n",
       "...                  ...        ...  \n",
       "8377                0.36 2009-12-27  \n",
       "8380                0.39 2009-03-11  \n",
       "8385                0.40 2012-08-07  \n",
       "8386                0.57 2012-08-12  \n",
       "8389                0.84 2010-09-01  \n",
       "\n",
       "[5463 rows x 21 columns]"
      ],
      "text/html": "<div>\n<style scoped>\n    .dataframe tbody tr th:only-of-type {\n        vertical-align: middle;\n    }\n\n    .dataframe tbody tr th {\n        vertical-align: top;\n    }\n\n    .dataframe thead th {\n        text-align: right;\n    }\n</style>\n<table border=\"1\" class=\"dataframe\">\n  <thead>\n    <tr style=\"text-align: right;\">\n      <th></th>\n      <th>Row ID</th>\n      <th>Order ID</th>\n      <th>Order Date</th>\n      <th>Order Priority</th>\n      <th>Order Quantity</th>\n      <th>Sales</th>\n      <th>Discount</th>\n      <th>Ship Mode</th>\n      <th>Profit</th>\n      <th>Unit Price</th>\n      <th>...</th>\n      <th>Customer Name</th>\n      <th>Province</th>\n      <th>Region</th>\n      <th>Customer Segment</th>\n      <th>Product Category</th>\n      <th>Product Sub-Category</th>\n      <th>Product Name</th>\n      <th>Product Container</th>\n      <th>Product Base Margin</th>\n      <th>Ship Date</th>\n    </tr>\n  </thead>\n  <tbody>\n    <tr>\n      <th>0</th>\n      <td>1</td>\n      <td>3</td>\n      <td>2010-10-13</td>\n      <td>Low</td>\n      <td>6</td>\n      <td>261.5400</td>\n      <td>0.04</td>\n      <td>Regular Air</td>\n      <td>-213.2500</td>\n      <td>38.94</td>\n      <td>...</td>\n      <td>Muhammed MacIntyre</td>\n      <td>Nunavut</td>\n      <td>Nunavut</td>\n      <td>Small Business</td>\n      <td>Office Supplies</td>\n      <td>Storage &amp; Organization</td>\n      <td>Eldon Base for stackable storage shelf, platinum</td>\n      <td>Large Box</td>\n      <td>0.80</td>\n      <td>2010-10-20</td>\n    </tr>\n    <tr>\n      <th>6</th>\n      <td>7</td>\n      <td>35</td>\n      <td>2011-10-22</td>\n      <td>Not Specified</td>\n      <td>30</td>\n      <td>288.5600</td>\n      <td>0.03</td>\n      <td>Regular Air</td>\n      <td>60.7200</td>\n      <td>9.11</td>\n      <td>...</td>\n      <td>Julie Creighton</td>\n      <td>British Columbia</td>\n      <td>West</td>\n      <td>Corporate</td>\n      <td>Office Supplies</td>\n      <td>Pens &amp; Art Supplies</td>\n      <td>Dixon Ticonderoga Core-Lock Colored Pencils</td>\n      <td>Wrap Bag</td>\n      <td>0.52</td>\n      <td>2011-10-23</td>\n    </tr>\n    <tr>\n      <th>7</th>\n      <td>8</td>\n      <td>35</td>\n      <td>2011-10-22</td>\n      <td>Not Specified</td>\n      <td>14</td>\n      <td>1892.8480</td>\n      <td>0.01</td>\n      <td>Regular Air</td>\n      <td>48.9870</td>\n      <td>155.99</td>\n      <td>...</td>\n      <td>Julie Creighton</td>\n      <td>British Columbia</td>\n      <td>West</td>\n      <td>Corporate</td>\n      <td>Technology</td>\n      <td>Telephones and Communication</td>\n      <td>CF 688</td>\n      <td>Small Box</td>\n      <td>0.58</td>\n      <td>2011-10-24</td>\n    </tr>\n    <tr>\n      <th>8</th>\n      <td>9</td>\n      <td>36</td>\n      <td>2011-11-02</td>\n      <td>Critical</td>\n      <td>46</td>\n      <td>2484.7455</td>\n      <td>0.10</td>\n      <td>Regular Air</td>\n      <td>657.4770</td>\n      <td>65.99</td>\n      <td>...</td>\n      <td>Sample Company A</td>\n      <td>Alberta</td>\n      <td>West</td>\n      <td>Home Office</td>\n      <td>Technology</td>\n      <td>Telephones and Communication</td>\n      <td>6162i</td>\n      <td>Small Box</td>\n      <td>0.55</td>\n      <td>2011-11-02</td>\n    </tr>\n    <tr>\n      <th>9</th>\n      <td>10</td>\n      <td>65</td>\n      <td>2011-03-17</td>\n      <td>Critical</td>\n      <td>32</td>\n      <td>3812.7300</td>\n      <td>0.02</td>\n      <td>Regular Air</td>\n      <td>1470.3000</td>\n      <td>115.79</td>\n      <td>...</td>\n      <td>Tamara Dahlen</td>\n      <td>Ontario</td>\n      <td>Ontario</td>\n      <td>Corporate</td>\n      <td>Technology</td>\n      <td>Computer Peripherals</td>\n      <td>Verbatim DVD-R, 4.7GB, Spindle, WE, Blank, Ink...</td>\n      <td>Small Pack</td>\n      <td>0.49</td>\n      <td>2011-03-18</td>\n    </tr>\n    <tr>\n      <th>...</th>\n      <td>...</td>\n      <td>...</td>\n      <td>...</td>\n      <td>...</td>\n      <td>...</td>\n      <td>...</td>\n      <td>...</td>\n      <td>...</td>\n      <td>...</td>\n      <td>...</td>\n      <td>...</td>\n      <td>...</td>\n      <td>...</td>\n      <td>...</td>\n      <td>...</td>\n      <td>...</td>\n      <td>...</td>\n      <td>...</td>\n      <td>...</td>\n      <td>...</td>\n      <td>...</td>\n    </tr>\n    <tr>\n      <th>8377</th>\n      <td>8378</td>\n      <td>59845</td>\n      <td>2009-12-22</td>\n      <td>Low</td>\n      <td>28</td>\n      <td>120.5400</td>\n      <td>0.06</td>\n      <td>Regular Air</td>\n      <td>6.5200</td>\n      <td>4.20</td>\n      <td>...</td>\n      <td>Ed Ludwig</td>\n      <td>Ontario</td>\n      <td>Ontario</td>\n      <td>Consumer</td>\n      <td>Office Supplies</td>\n      <td>Paper</td>\n      <td>Important Message Pads, 50 4-1/4 x 5-1/2 Forms...</td>\n      <td>Wrap Bag</td>\n      <td>0.36</td>\n      <td>2009-12-27</td>\n    </tr>\n    <tr>\n      <th>8380</th>\n      <td>8381</td>\n      <td>59879</td>\n      <td>2009-03-09</td>\n      <td>Not Specified</td>\n      <td>33</td>\n      <td>987.3175</td>\n      <td>0.04</td>\n      <td>Express Air</td>\n      <td>368.5590</td>\n      <td>35.99</td>\n      <td>...</td>\n      <td>Karen Bern</td>\n      <td>Saskachewan</td>\n      <td>Prarie</td>\n      <td>Corporate</td>\n      <td>Technology</td>\n      <td>Telephones and Communication</td>\n      <td>Accessory9</td>\n      <td>Small Pack</td>\n      <td>0.39</td>\n      <td>2009-03-11</td>\n    </tr>\n    <tr>\n      <th>8385</th>\n      <td>8386</td>\n      <td>59909</td>\n      <td>2012-08-05</td>\n      <td>Low</td>\n      <td>11</td>\n      <td>1255.4800</td>\n      <td>0.06</td>\n      <td>Delivery Truck</td>\n      <td>-292.6506</td>\n      <td>115.99</td>\n      <td>...</td>\n      <td>Christina Vanderzanden</td>\n      <td>Ontario</td>\n      <td>Ontario</td>\n      <td>Small Business</td>\n      <td>Technology</td>\n      <td>Office Machines</td>\n      <td>Hewlett-Packard Deskjet 5550 Color Inkjet Printer</td>\n      <td>Jumbo Drum</td>\n      <td>0.40</td>\n      <td>2012-08-07</td>\n    </tr>\n    <tr>\n      <th>8386</th>\n      <td>8387</td>\n      <td>59909</td>\n      <td>2012-08-05</td>\n      <td>Low</td>\n      <td>46</td>\n      <td>411.5600</td>\n      <td>0.09</td>\n      <td>Express Air</td>\n      <td>-188.0200</td>\n      <td>9.38</td>\n      <td>...</td>\n      <td>Christina Vanderzanden</td>\n      <td>Ontario</td>\n      <td>Ontario</td>\n      <td>Small Business</td>\n      <td>Office Supplies</td>\n      <td>Storage &amp; Organization</td>\n      <td>Staples File Caddy</td>\n      <td>Small Box</td>\n      <td>0.57</td>\n      <td>2012-08-12</td>\n    </tr>\n    <tr>\n      <th>8389</th>\n      <td>8390</td>\n      <td>59939</td>\n      <td>2010-09-01</td>\n      <td>Medium</td>\n      <td>42</td>\n      <td>130.9600</td>\n      <td>0.05</td>\n      <td>Regular Air</td>\n      <td>-66.7400</td>\n      <td>3.14</td>\n      <td>...</td>\n      <td>Nicole Fjeld</td>\n      <td>Saskachewan</td>\n      <td>Prarie</td>\n      <td>Small Business</td>\n      <td>Office Supplies</td>\n      <td>Scissors, Rulers and Trimmers</td>\n      <td>Serrated Blade or Curved Handle Hand Letter Op...</td>\n      <td>Wrap Bag</td>\n      <td>0.84</td>\n      <td>2010-09-01</td>\n    </tr>\n  </tbody>\n</table>\n<p>5463 rows × 21 columns</p>\n</div>"
     },
     "metadata": {},
     "execution_count": 60
    }
   ],
   "source": [
    "order[(order.Sales>100) & (order['Order Priority']!='High')]"
   ]
  },
  {
   "cell_type": "code",
   "execution_count": 67,
   "metadata": {},
   "outputs": [
    {
     "output_type": "execute_result",
     "data": {
      "text/plain": [
       "      Row ID  Order ID Order Date Order Priority  Order Quantity      Sales  \\\n",
       "2          3        32 2011-07-15           High              26  2808.0800   \n",
       "3          4        32 2011-07-15           High              24  1761.4000   \n",
       "4          5        32 2011-07-15           High              23   160.2335   \n",
       "5          6        32 2011-07-15           High              15   140.5600   \n",
       "15        16        96 2009-04-16           High              37  4158.1235   \n",
       "...      ...       ...        ...            ...             ...        ...   \n",
       "8379    8380     59878 2012-05-28           High              23   249.6400   \n",
       "8381    8382     59905 2012-04-14           High              19   159.2400   \n",
       "8382    8383     59905 2012-04-14           High               6    48.7700   \n",
       "8384    8385     59906 2010-05-20           High              32   284.9200   \n",
       "8388    8389     59937 2009-12-28           High               7   235.9800   \n",
       "\n",
       "      Discount       Ship Mode    Profit  Unit Price  ...     Customer Name  \\\n",
       "2         0.07     Regular Air  1054.820      107.53  ...     Liz Pelletier   \n",
       "3         0.09  Delivery Truck -1748.560       70.89  ...     Liz Pelletier   \n",
       "4         0.04     Regular Air   -85.129        7.99  ...     Liz Pelletier   \n",
       "5         0.04     Regular Air  -128.380        8.46  ...     Liz Pelletier   \n",
       "15        0.01     Regular Air  1228.887      125.99  ...     Keith Dawkins   \n",
       "...        ...             ...       ...         ...  ...               ...   \n",
       "8379      0.08     Regular Air   -91.650       10.90  ...       Ivan Gibson   \n",
       "8381      0.09     Regular Air     8.300        8.50  ...       Daniel Lacy   \n",
       "8382      0.00     Regular Air     5.950        7.40  ...       Daniel Lacy   \n",
       "8384      0.03     Regular Air    81.290        9.11  ...  Lindsay Shagiari   \n",
       "8388      0.02     Regular Air   -32.280       30.98  ...    John Stevenson   \n",
       "\n",
       "              Province   Region Customer Segment Product Category  \\\n",
       "2              Alberta     West        Corporate        Furniture   \n",
       "3              Alberta     West        Corporate        Furniture   \n",
       "4              Alberta     West        Corporate       Technology   \n",
       "5          Saskachewan   Prarie        Corporate       Technology   \n",
       "15            Manitoba   Prarie      Home Office       Technology   \n",
       "...                ...      ...              ...              ...   \n",
       "8379           Ontario  Ontario        Corporate  Office Supplies   \n",
       "8381  British Columbia     West   Small Business       Technology   \n",
       "8382  British Columbia     West   Small Business  Office Supplies   \n",
       "8384           Ontario  Ontario      Home Office  Office Supplies   \n",
       "8388            Quebec   Quebec   Small Business  Office Supplies   \n",
       "\n",
       "              Product Sub-Category  \\\n",
       "2               Office Furnishings   \n",
       "3                           Tables   \n",
       "4     Telephones and Communication   \n",
       "5             Computer Peripherals   \n",
       "15    Telephones and Communication   \n",
       "...                            ...   \n",
       "8379        Storage & Organization   \n",
       "8381          Computer Peripherals   \n",
       "8382                         Paper   \n",
       "8384                         Paper   \n",
       "8388                         Paper   \n",
       "\n",
       "                                           Product Name Product Container  \\\n",
       "2     Tenex Contemporary Contur Chairmats for Low an...        Medium Box   \n",
       "3                                  KI Conference Tables         Jumbo Box   \n",
       "4                          Bell Sonecor JB700 Caller ID        Medium Box   \n",
       "5                     Imation 3.5 IBM Diskettes, 10/Box        Small Pack   \n",
       "15                                              SC7868i         Small Box   \n",
       "...                                                 ...               ...   \n",
       "8379                                     Crate-A-Files™         Small Box   \n",
       "8381                  Hewlett-Packard 4.7GB DVD+R Discs        Small Pack   \n",
       "8382  It's Hot Message Books with Stickers, 2 3/4\" x 5\"          Wrap Bag   \n",
       "8384  Black Print Carbonless Snap-Off® Rapid Letter,...          Wrap Bag   \n",
       "8388                                          Xerox 197         Small Box   \n",
       "\n",
       "     Product Base Margin  Ship Date  \n",
       "2                   0.65 2011-07-17  \n",
       "3                   0.72 2011-07-16  \n",
       "4                   0.60 2011-07-17  \n",
       "5                   0.79 2011-07-16  \n",
       "15                  0.55 2009-04-18  \n",
       "...                  ...        ...  \n",
       "8379                0.59 2012-05-29  \n",
       "8381                0.49 2012-04-16  \n",
       "8382                0.40 2012-04-16  \n",
       "8384                0.40 2010-05-22  \n",
       "8388                0.40 2009-12-29  \n",
       "\n",
       "[1554 rows x 21 columns]"
      ],
      "text/html": "<div>\n<style scoped>\n    .dataframe tbody tr th:only-of-type {\n        vertical-align: middle;\n    }\n\n    .dataframe tbody tr th {\n        vertical-align: top;\n    }\n\n    .dataframe thead th {\n        text-align: right;\n    }\n</style>\n<table border=\"1\" class=\"dataframe\">\n  <thead>\n    <tr style=\"text-align: right;\">\n      <th></th>\n      <th>Row ID</th>\n      <th>Order ID</th>\n      <th>Order Date</th>\n      <th>Order Priority</th>\n      <th>Order Quantity</th>\n      <th>Sales</th>\n      <th>Discount</th>\n      <th>Ship Mode</th>\n      <th>Profit</th>\n      <th>Unit Price</th>\n      <th>...</th>\n      <th>Customer Name</th>\n      <th>Province</th>\n      <th>Region</th>\n      <th>Customer Segment</th>\n      <th>Product Category</th>\n      <th>Product Sub-Category</th>\n      <th>Product Name</th>\n      <th>Product Container</th>\n      <th>Product Base Margin</th>\n      <th>Ship Date</th>\n    </tr>\n  </thead>\n  <tbody>\n    <tr>\n      <th>2</th>\n      <td>3</td>\n      <td>32</td>\n      <td>2011-07-15</td>\n      <td>High</td>\n      <td>26</td>\n      <td>2808.0800</td>\n      <td>0.07</td>\n      <td>Regular Air</td>\n      <td>1054.820</td>\n      <td>107.53</td>\n      <td>...</td>\n      <td>Liz Pelletier</td>\n      <td>Alberta</td>\n      <td>West</td>\n      <td>Corporate</td>\n      <td>Furniture</td>\n      <td>Office Furnishings</td>\n      <td>Tenex Contemporary Contur Chairmats for Low an...</td>\n      <td>Medium Box</td>\n      <td>0.65</td>\n      <td>2011-07-17</td>\n    </tr>\n    <tr>\n      <th>3</th>\n      <td>4</td>\n      <td>32</td>\n      <td>2011-07-15</td>\n      <td>High</td>\n      <td>24</td>\n      <td>1761.4000</td>\n      <td>0.09</td>\n      <td>Delivery Truck</td>\n      <td>-1748.560</td>\n      <td>70.89</td>\n      <td>...</td>\n      <td>Liz Pelletier</td>\n      <td>Alberta</td>\n      <td>West</td>\n      <td>Corporate</td>\n      <td>Furniture</td>\n      <td>Tables</td>\n      <td>KI Conference Tables</td>\n      <td>Jumbo Box</td>\n      <td>0.72</td>\n      <td>2011-07-16</td>\n    </tr>\n    <tr>\n      <th>4</th>\n      <td>5</td>\n      <td>32</td>\n      <td>2011-07-15</td>\n      <td>High</td>\n      <td>23</td>\n      <td>160.2335</td>\n      <td>0.04</td>\n      <td>Regular Air</td>\n      <td>-85.129</td>\n      <td>7.99</td>\n      <td>...</td>\n      <td>Liz Pelletier</td>\n      <td>Alberta</td>\n      <td>West</td>\n      <td>Corporate</td>\n      <td>Technology</td>\n      <td>Telephones and Communication</td>\n      <td>Bell Sonecor JB700 Caller ID</td>\n      <td>Medium Box</td>\n      <td>0.60</td>\n      <td>2011-07-17</td>\n    </tr>\n    <tr>\n      <th>5</th>\n      <td>6</td>\n      <td>32</td>\n      <td>2011-07-15</td>\n      <td>High</td>\n      <td>15</td>\n      <td>140.5600</td>\n      <td>0.04</td>\n      <td>Regular Air</td>\n      <td>-128.380</td>\n      <td>8.46</td>\n      <td>...</td>\n      <td>Liz Pelletier</td>\n      <td>Saskachewan</td>\n      <td>Prarie</td>\n      <td>Corporate</td>\n      <td>Technology</td>\n      <td>Computer Peripherals</td>\n      <td>Imation 3.5 IBM Diskettes, 10/Box</td>\n      <td>Small Pack</td>\n      <td>0.79</td>\n      <td>2011-07-16</td>\n    </tr>\n    <tr>\n      <th>15</th>\n      <td>16</td>\n      <td>96</td>\n      <td>2009-04-16</td>\n      <td>High</td>\n      <td>37</td>\n      <td>4158.1235</td>\n      <td>0.01</td>\n      <td>Regular Air</td>\n      <td>1228.887</td>\n      <td>125.99</td>\n      <td>...</td>\n      <td>Keith Dawkins</td>\n      <td>Manitoba</td>\n      <td>Prarie</td>\n      <td>Home Office</td>\n      <td>Technology</td>\n      <td>Telephones and Communication</td>\n      <td>SC7868i</td>\n      <td>Small Box</td>\n      <td>0.55</td>\n      <td>2009-04-18</td>\n    </tr>\n    <tr>\n      <th>...</th>\n      <td>...</td>\n      <td>...</td>\n      <td>...</td>\n      <td>...</td>\n      <td>...</td>\n      <td>...</td>\n      <td>...</td>\n      <td>...</td>\n      <td>...</td>\n      <td>...</td>\n      <td>...</td>\n      <td>...</td>\n      <td>...</td>\n      <td>...</td>\n      <td>...</td>\n      <td>...</td>\n      <td>...</td>\n      <td>...</td>\n      <td>...</td>\n      <td>...</td>\n      <td>...</td>\n    </tr>\n    <tr>\n      <th>8379</th>\n      <td>8380</td>\n      <td>59878</td>\n      <td>2012-05-28</td>\n      <td>High</td>\n      <td>23</td>\n      <td>249.6400</td>\n      <td>0.08</td>\n      <td>Regular Air</td>\n      <td>-91.650</td>\n      <td>10.90</td>\n      <td>...</td>\n      <td>Ivan Gibson</td>\n      <td>Ontario</td>\n      <td>Ontario</td>\n      <td>Corporate</td>\n      <td>Office Supplies</td>\n      <td>Storage &amp; Organization</td>\n      <td>Crate-A-Files™</td>\n      <td>Small Box</td>\n      <td>0.59</td>\n      <td>2012-05-29</td>\n    </tr>\n    <tr>\n      <th>8381</th>\n      <td>8382</td>\n      <td>59905</td>\n      <td>2012-04-14</td>\n      <td>High</td>\n      <td>19</td>\n      <td>159.2400</td>\n      <td>0.09</td>\n      <td>Regular Air</td>\n      <td>8.300</td>\n      <td>8.50</td>\n      <td>...</td>\n      <td>Daniel Lacy</td>\n      <td>British Columbia</td>\n      <td>West</td>\n      <td>Small Business</td>\n      <td>Technology</td>\n      <td>Computer Peripherals</td>\n      <td>Hewlett-Packard 4.7GB DVD+R Discs</td>\n      <td>Small Pack</td>\n      <td>0.49</td>\n      <td>2012-04-16</td>\n    </tr>\n    <tr>\n      <th>8382</th>\n      <td>8383</td>\n      <td>59905</td>\n      <td>2012-04-14</td>\n      <td>High</td>\n      <td>6</td>\n      <td>48.7700</td>\n      <td>0.00</td>\n      <td>Regular Air</td>\n      <td>5.950</td>\n      <td>7.40</td>\n      <td>...</td>\n      <td>Daniel Lacy</td>\n      <td>British Columbia</td>\n      <td>West</td>\n      <td>Small Business</td>\n      <td>Office Supplies</td>\n      <td>Paper</td>\n      <td>It's Hot Message Books with Stickers, 2 3/4\" x 5\"</td>\n      <td>Wrap Bag</td>\n      <td>0.40</td>\n      <td>2012-04-16</td>\n    </tr>\n    <tr>\n      <th>8384</th>\n      <td>8385</td>\n      <td>59906</td>\n      <td>2010-05-20</td>\n      <td>High</td>\n      <td>32</td>\n      <td>284.9200</td>\n      <td>0.03</td>\n      <td>Regular Air</td>\n      <td>81.290</td>\n      <td>9.11</td>\n      <td>...</td>\n      <td>Lindsay Shagiari</td>\n      <td>Ontario</td>\n      <td>Ontario</td>\n      <td>Home Office</td>\n      <td>Office Supplies</td>\n      <td>Paper</td>\n      <td>Black Print Carbonless Snap-Off® Rapid Letter,...</td>\n      <td>Wrap Bag</td>\n      <td>0.40</td>\n      <td>2010-05-22</td>\n    </tr>\n    <tr>\n      <th>8388</th>\n      <td>8389</td>\n      <td>59937</td>\n      <td>2009-12-28</td>\n      <td>High</td>\n      <td>7</td>\n      <td>235.9800</td>\n      <td>0.02</td>\n      <td>Regular Air</td>\n      <td>-32.280</td>\n      <td>30.98</td>\n      <td>...</td>\n      <td>John Stevenson</td>\n      <td>Quebec</td>\n      <td>Quebec</td>\n      <td>Small Business</td>\n      <td>Office Supplies</td>\n      <td>Paper</td>\n      <td>Xerox 197</td>\n      <td>Small Box</td>\n      <td>0.40</td>\n      <td>2009-12-29</td>\n    </tr>\n  </tbody>\n</table>\n<p>1554 rows × 21 columns</p>\n</div>"
     },
     "metadata": {},
     "execution_count": 67
    }
   ],
   "source": [
    "order[(order['Ship Mode'].isin (['Regular Air','Delivery Truck'])) & (order['Order Priority']=='High') ] "
   ]
  },
  {
   "source": [
    "# deleting the row"
   ],
   "cell_type": "markdown",
   "metadata": {}
  },
  {
   "cell_type": "code",
   "execution_count": 2,
   "metadata": {},
   "outputs": [],
   "source": [
    "import pandas as pd "
   ]
  },
  {
   "cell_type": "code",
   "execution_count": 8,
   "metadata": {},
   "outputs": [],
   "source": [
    "order= pd.read_excel('Sample - Superstore Sales.xls',0)"
   ]
  },
  {
   "cell_type": "code",
   "execution_count": 9,
   "metadata": {},
   "outputs": [
    {
     "output_type": "execute_result",
     "data": {
      "text/plain": [
       "   Row ID  Order ID Order Date Order Priority  Order Quantity      Sales  \\\n",
       "0       1         3 2010-10-13            Low               6   261.5400   \n",
       "1       2         6 2012-02-20  Not Specified               2     6.9300   \n",
       "2       3        32 2011-07-15           High              26  2808.0800   \n",
       "3       4        32 2011-07-15           High              24  1761.4000   \n",
       "4       5        32 2011-07-15           High              23   160.2335   \n",
       "\n",
       "   Discount       Ship Mode    Profit  Unit Price  ...       Customer Name  \\\n",
       "0      0.04     Regular Air  -213.250       38.94  ...  Muhammed MacIntyre   \n",
       "1      0.01     Regular Air    -4.640        2.08  ...         Ruben Dartt   \n",
       "2      0.07     Regular Air  1054.820      107.53  ...       Liz Pelletier   \n",
       "3      0.09  Delivery Truck -1748.560       70.89  ...       Liz Pelletier   \n",
       "4      0.04     Regular Air   -85.129        7.99  ...       Liz Pelletier   \n",
       "\n",
       "  Province   Region Customer Segment Product Category  \\\n",
       "0  Nunavut  Nunavut   Small Business  Office Supplies   \n",
       "1  Alberta     West        Corporate  Office Supplies   \n",
       "2  Alberta     West        Corporate        Furniture   \n",
       "3  Alberta     West        Corporate        Furniture   \n",
       "4  Alberta     West        Corporate       Technology   \n",
       "\n",
       "            Product Sub-Category  \\\n",
       "0         Storage & Organization   \n",
       "1  Scissors, Rulers and Trimmers   \n",
       "2             Office Furnishings   \n",
       "3                         Tables   \n",
       "4   Telephones and Communication   \n",
       "\n",
       "                                        Product Name Product Container  \\\n",
       "0   Eldon Base for stackable storage shelf, platinum         Large Box   \n",
       "1  Kleencut® Forged Office Shears by Acme United ...        Small Pack   \n",
       "2  Tenex Contemporary Contur Chairmats for Low an...        Medium Box   \n",
       "3                               KI Conference Tables         Jumbo Box   \n",
       "4                       Bell Sonecor JB700 Caller ID        Medium Box   \n",
       "\n",
       "  Product Base Margin  Ship Date  \n",
       "0                0.80 2010-10-20  \n",
       "1                0.55 2012-02-21  \n",
       "2                0.65 2011-07-17  \n",
       "3                0.72 2011-07-16  \n",
       "4                0.60 2011-07-17  \n",
       "\n",
       "[5 rows x 21 columns]"
      ],
      "text/html": "<div>\n<style scoped>\n    .dataframe tbody tr th:only-of-type {\n        vertical-align: middle;\n    }\n\n    .dataframe tbody tr th {\n        vertical-align: top;\n    }\n\n    .dataframe thead th {\n        text-align: right;\n    }\n</style>\n<table border=\"1\" class=\"dataframe\">\n  <thead>\n    <tr style=\"text-align: right;\">\n      <th></th>\n      <th>Row ID</th>\n      <th>Order ID</th>\n      <th>Order Date</th>\n      <th>Order Priority</th>\n      <th>Order Quantity</th>\n      <th>Sales</th>\n      <th>Discount</th>\n      <th>Ship Mode</th>\n      <th>Profit</th>\n      <th>Unit Price</th>\n      <th>...</th>\n      <th>Customer Name</th>\n      <th>Province</th>\n      <th>Region</th>\n      <th>Customer Segment</th>\n      <th>Product Category</th>\n      <th>Product Sub-Category</th>\n      <th>Product Name</th>\n      <th>Product Container</th>\n      <th>Product Base Margin</th>\n      <th>Ship Date</th>\n    </tr>\n  </thead>\n  <tbody>\n    <tr>\n      <th>0</th>\n      <td>1</td>\n      <td>3</td>\n      <td>2010-10-13</td>\n      <td>Low</td>\n      <td>6</td>\n      <td>261.5400</td>\n      <td>0.04</td>\n      <td>Regular Air</td>\n      <td>-213.250</td>\n      <td>38.94</td>\n      <td>...</td>\n      <td>Muhammed MacIntyre</td>\n      <td>Nunavut</td>\n      <td>Nunavut</td>\n      <td>Small Business</td>\n      <td>Office Supplies</td>\n      <td>Storage &amp; Organization</td>\n      <td>Eldon Base for stackable storage shelf, platinum</td>\n      <td>Large Box</td>\n      <td>0.80</td>\n      <td>2010-10-20</td>\n    </tr>\n    <tr>\n      <th>1</th>\n      <td>2</td>\n      <td>6</td>\n      <td>2012-02-20</td>\n      <td>Not Specified</td>\n      <td>2</td>\n      <td>6.9300</td>\n      <td>0.01</td>\n      <td>Regular Air</td>\n      <td>-4.640</td>\n      <td>2.08</td>\n      <td>...</td>\n      <td>Ruben Dartt</td>\n      <td>Alberta</td>\n      <td>West</td>\n      <td>Corporate</td>\n      <td>Office Supplies</td>\n      <td>Scissors, Rulers and Trimmers</td>\n      <td>Kleencut® Forged Office Shears by Acme United ...</td>\n      <td>Small Pack</td>\n      <td>0.55</td>\n      <td>2012-02-21</td>\n    </tr>\n    <tr>\n      <th>2</th>\n      <td>3</td>\n      <td>32</td>\n      <td>2011-07-15</td>\n      <td>High</td>\n      <td>26</td>\n      <td>2808.0800</td>\n      <td>0.07</td>\n      <td>Regular Air</td>\n      <td>1054.820</td>\n      <td>107.53</td>\n      <td>...</td>\n      <td>Liz Pelletier</td>\n      <td>Alberta</td>\n      <td>West</td>\n      <td>Corporate</td>\n      <td>Furniture</td>\n      <td>Office Furnishings</td>\n      <td>Tenex Contemporary Contur Chairmats for Low an...</td>\n      <td>Medium Box</td>\n      <td>0.65</td>\n      <td>2011-07-17</td>\n    </tr>\n    <tr>\n      <th>3</th>\n      <td>4</td>\n      <td>32</td>\n      <td>2011-07-15</td>\n      <td>High</td>\n      <td>24</td>\n      <td>1761.4000</td>\n      <td>0.09</td>\n      <td>Delivery Truck</td>\n      <td>-1748.560</td>\n      <td>70.89</td>\n      <td>...</td>\n      <td>Liz Pelletier</td>\n      <td>Alberta</td>\n      <td>West</td>\n      <td>Corporate</td>\n      <td>Furniture</td>\n      <td>Tables</td>\n      <td>KI Conference Tables</td>\n      <td>Jumbo Box</td>\n      <td>0.72</td>\n      <td>2011-07-16</td>\n    </tr>\n    <tr>\n      <th>4</th>\n      <td>5</td>\n      <td>32</td>\n      <td>2011-07-15</td>\n      <td>High</td>\n      <td>23</td>\n      <td>160.2335</td>\n      <td>0.04</td>\n      <td>Regular Air</td>\n      <td>-85.129</td>\n      <td>7.99</td>\n      <td>...</td>\n      <td>Liz Pelletier</td>\n      <td>Alberta</td>\n      <td>West</td>\n      <td>Corporate</td>\n      <td>Technology</td>\n      <td>Telephones and Communication</td>\n      <td>Bell Sonecor JB700 Caller ID</td>\n      <td>Medium Box</td>\n      <td>0.60</td>\n      <td>2011-07-17</td>\n    </tr>\n  </tbody>\n</table>\n<p>5 rows × 21 columns</p>\n</div>"
     },
     "metadata": {},
     "execution_count": 9
    }
   ],
   "source": [
    "order.head()"
   ]
  },
  {
   "cell_type": "code",
   "execution_count": 10,
   "metadata": {},
   "outputs": [
    {
     "output_type": "execute_result",
     "data": {
      "text/plain": [
       "   Order ID Order Date Order Priority  Order Quantity      Sales  Discount  \\\n",
       "0         3 2010-10-13            Low               6   261.5400      0.04   \n",
       "1         6 2012-02-20  Not Specified               2     6.9300      0.01   \n",
       "2        32 2011-07-15           High              26  2808.0800      0.07   \n",
       "3        32 2011-07-15           High              24  1761.4000      0.09   \n",
       "4        32 2011-07-15           High              23   160.2335      0.04   \n",
       "\n",
       "        Ship Mode    Profit  Unit Price  Shipping Cost       Customer Name  \\\n",
       "0     Regular Air  -213.250       38.94          35.00  Muhammed MacIntyre   \n",
       "1     Regular Air    -4.640        2.08           2.56         Ruben Dartt   \n",
       "2     Regular Air  1054.820      107.53           5.81       Liz Pelletier   \n",
       "3  Delivery Truck -1748.560       70.89          89.30       Liz Pelletier   \n",
       "4     Regular Air   -85.129        7.99           5.03       Liz Pelletier   \n",
       "\n",
       "  Province   Region Customer Segment Product Category  \\\n",
       "0  Nunavut  Nunavut   Small Business  Office Supplies   \n",
       "1  Alberta     West        Corporate  Office Supplies   \n",
       "2  Alberta     West        Corporate        Furniture   \n",
       "3  Alberta     West        Corporate        Furniture   \n",
       "4  Alberta     West        Corporate       Technology   \n",
       "\n",
       "            Product Sub-Category  \\\n",
       "0         Storage & Organization   \n",
       "1  Scissors, Rulers and Trimmers   \n",
       "2             Office Furnishings   \n",
       "3                         Tables   \n",
       "4   Telephones and Communication   \n",
       "\n",
       "                                        Product Name Product Container  \\\n",
       "0   Eldon Base for stackable storage shelf, platinum         Large Box   \n",
       "1  Kleencut® Forged Office Shears by Acme United ...        Small Pack   \n",
       "2  Tenex Contemporary Contur Chairmats for Low an...        Medium Box   \n",
       "3                               KI Conference Tables         Jumbo Box   \n",
       "4                       Bell Sonecor JB700 Caller ID        Medium Box   \n",
       "\n",
       "   Product Base Margin  Ship Date  \n",
       "0                 0.80 2010-10-20  \n",
       "1                 0.55 2012-02-21  \n",
       "2                 0.65 2011-07-17  \n",
       "3                 0.72 2011-07-16  \n",
       "4                 0.60 2011-07-17  "
      ],
      "text/html": "<div>\n<style scoped>\n    .dataframe tbody tr th:only-of-type {\n        vertical-align: middle;\n    }\n\n    .dataframe tbody tr th {\n        vertical-align: top;\n    }\n\n    .dataframe thead th {\n        text-align: right;\n    }\n</style>\n<table border=\"1\" class=\"dataframe\">\n  <thead>\n    <tr style=\"text-align: right;\">\n      <th></th>\n      <th>Order ID</th>\n      <th>Order Date</th>\n      <th>Order Priority</th>\n      <th>Order Quantity</th>\n      <th>Sales</th>\n      <th>Discount</th>\n      <th>Ship Mode</th>\n      <th>Profit</th>\n      <th>Unit Price</th>\n      <th>Shipping Cost</th>\n      <th>Customer Name</th>\n      <th>Province</th>\n      <th>Region</th>\n      <th>Customer Segment</th>\n      <th>Product Category</th>\n      <th>Product Sub-Category</th>\n      <th>Product Name</th>\n      <th>Product Container</th>\n      <th>Product Base Margin</th>\n      <th>Ship Date</th>\n    </tr>\n  </thead>\n  <tbody>\n    <tr>\n      <th>0</th>\n      <td>3</td>\n      <td>2010-10-13</td>\n      <td>Low</td>\n      <td>6</td>\n      <td>261.5400</td>\n      <td>0.04</td>\n      <td>Regular Air</td>\n      <td>-213.250</td>\n      <td>38.94</td>\n      <td>35.00</td>\n      <td>Muhammed MacIntyre</td>\n      <td>Nunavut</td>\n      <td>Nunavut</td>\n      <td>Small Business</td>\n      <td>Office Supplies</td>\n      <td>Storage &amp; Organization</td>\n      <td>Eldon Base for stackable storage shelf, platinum</td>\n      <td>Large Box</td>\n      <td>0.80</td>\n      <td>2010-10-20</td>\n    </tr>\n    <tr>\n      <th>1</th>\n      <td>6</td>\n      <td>2012-02-20</td>\n      <td>Not Specified</td>\n      <td>2</td>\n      <td>6.9300</td>\n      <td>0.01</td>\n      <td>Regular Air</td>\n      <td>-4.640</td>\n      <td>2.08</td>\n      <td>2.56</td>\n      <td>Ruben Dartt</td>\n      <td>Alberta</td>\n      <td>West</td>\n      <td>Corporate</td>\n      <td>Office Supplies</td>\n      <td>Scissors, Rulers and Trimmers</td>\n      <td>Kleencut® Forged Office Shears by Acme United ...</td>\n      <td>Small Pack</td>\n      <td>0.55</td>\n      <td>2012-02-21</td>\n    </tr>\n    <tr>\n      <th>2</th>\n      <td>32</td>\n      <td>2011-07-15</td>\n      <td>High</td>\n      <td>26</td>\n      <td>2808.0800</td>\n      <td>0.07</td>\n      <td>Regular Air</td>\n      <td>1054.820</td>\n      <td>107.53</td>\n      <td>5.81</td>\n      <td>Liz Pelletier</td>\n      <td>Alberta</td>\n      <td>West</td>\n      <td>Corporate</td>\n      <td>Furniture</td>\n      <td>Office Furnishings</td>\n      <td>Tenex Contemporary Contur Chairmats for Low an...</td>\n      <td>Medium Box</td>\n      <td>0.65</td>\n      <td>2011-07-17</td>\n    </tr>\n    <tr>\n      <th>3</th>\n      <td>32</td>\n      <td>2011-07-15</td>\n      <td>High</td>\n      <td>24</td>\n      <td>1761.4000</td>\n      <td>0.09</td>\n      <td>Delivery Truck</td>\n      <td>-1748.560</td>\n      <td>70.89</td>\n      <td>89.30</td>\n      <td>Liz Pelletier</td>\n      <td>Alberta</td>\n      <td>West</td>\n      <td>Corporate</td>\n      <td>Furniture</td>\n      <td>Tables</td>\n      <td>KI Conference Tables</td>\n      <td>Jumbo Box</td>\n      <td>0.72</td>\n      <td>2011-07-16</td>\n    </tr>\n    <tr>\n      <th>4</th>\n      <td>32</td>\n      <td>2011-07-15</td>\n      <td>High</td>\n      <td>23</td>\n      <td>160.2335</td>\n      <td>0.04</td>\n      <td>Regular Air</td>\n      <td>-85.129</td>\n      <td>7.99</td>\n      <td>5.03</td>\n      <td>Liz Pelletier</td>\n      <td>Alberta</td>\n      <td>West</td>\n      <td>Corporate</td>\n      <td>Technology</td>\n      <td>Telephones and Communication</td>\n      <td>Bell Sonecor JB700 Caller ID</td>\n      <td>Medium Box</td>\n      <td>0.60</td>\n      <td>2011-07-17</td>\n    </tr>\n  </tbody>\n</table>\n</div>"
     },
     "metadata": {},
     "execution_count": 10
    }
   ],
   "source": [
    "order.drop('Row ID',axis=1,inplace=True)\n",
    "order.head()"
   ]
  },
  {
   "cell_type": "code",
   "execution_count": 80,
   "metadata": {},
   "outputs": [
    {
     "output_type": "execute_result",
     "data": {
      "text/plain": [
       "  Order Priority  Order Quantity      Sales  Discount       Ship Mode  \\\n",
       "0            Low               6   261.5400      0.04     Regular Air   \n",
       "1  Not Specified               2     6.9300      0.01     Regular Air   \n",
       "2           High              26  2808.0800      0.07     Regular Air   \n",
       "3           High              24  1761.4000      0.09  Delivery Truck   \n",
       "4           High              23   160.2335      0.04     Regular Air   \n",
       "\n",
       "     Profit  Unit Price  Shipping Cost       Customer Name Province   Region  \\\n",
       "0  -213.250       38.94          35.00  Muhammed MacIntyre  Nunavut  Nunavut   \n",
       "1    -4.640        2.08           2.56         Ruben Dartt  Alberta     West   \n",
       "2  1054.820      107.53           5.81       Liz Pelletier  Alberta     West   \n",
       "3 -1748.560       70.89          89.30       Liz Pelletier  Alberta     West   \n",
       "4   -85.129        7.99           5.03       Liz Pelletier  Alberta     West   \n",
       "\n",
       "  Customer Segment Product Category           Product Sub-Category  \\\n",
       "0   Small Business  Office Supplies         Storage & Organization   \n",
       "1        Corporate  Office Supplies  Scissors, Rulers and Trimmers   \n",
       "2        Corporate        Furniture             Office Furnishings   \n",
       "3        Corporate        Furniture                         Tables   \n",
       "4        Corporate       Technology   Telephones and Communication   \n",
       "\n",
       "                                        Product Name Product Container  \\\n",
       "0   Eldon Base for stackable storage shelf, platinum         Large Box   \n",
       "1  Kleencut® Forged Office Shears by Acme United ...        Small Pack   \n",
       "2  Tenex Contemporary Contur Chairmats for Low an...        Medium Box   \n",
       "3                               KI Conference Tables         Jumbo Box   \n",
       "4                       Bell Sonecor JB700 Caller ID        Medium Box   \n",
       "\n",
       "   Product Base Margin  Ship Date  \n",
       "0                 0.80 2010-10-20  \n",
       "1                 0.55 2012-02-21  \n",
       "2                 0.65 2011-07-17  \n",
       "3                 0.72 2011-07-16  \n",
       "4                 0.60 2011-07-17  "
      ],
      "text/html": "<div>\n<style scoped>\n    .dataframe tbody tr th:only-of-type {\n        vertical-align: middle;\n    }\n\n    .dataframe tbody tr th {\n        vertical-align: top;\n    }\n\n    .dataframe thead th {\n        text-align: right;\n    }\n</style>\n<table border=\"1\" class=\"dataframe\">\n  <thead>\n    <tr style=\"text-align: right;\">\n      <th></th>\n      <th>Order Priority</th>\n      <th>Order Quantity</th>\n      <th>Sales</th>\n      <th>Discount</th>\n      <th>Ship Mode</th>\n      <th>Profit</th>\n      <th>Unit Price</th>\n      <th>Shipping Cost</th>\n      <th>Customer Name</th>\n      <th>Province</th>\n      <th>Region</th>\n      <th>Customer Segment</th>\n      <th>Product Category</th>\n      <th>Product Sub-Category</th>\n      <th>Product Name</th>\n      <th>Product Container</th>\n      <th>Product Base Margin</th>\n      <th>Ship Date</th>\n    </tr>\n  </thead>\n  <tbody>\n    <tr>\n      <th>0</th>\n      <td>Low</td>\n      <td>6</td>\n      <td>261.5400</td>\n      <td>0.04</td>\n      <td>Regular Air</td>\n      <td>-213.250</td>\n      <td>38.94</td>\n      <td>35.00</td>\n      <td>Muhammed MacIntyre</td>\n      <td>Nunavut</td>\n      <td>Nunavut</td>\n      <td>Small Business</td>\n      <td>Office Supplies</td>\n      <td>Storage &amp; Organization</td>\n      <td>Eldon Base for stackable storage shelf, platinum</td>\n      <td>Large Box</td>\n      <td>0.80</td>\n      <td>2010-10-20</td>\n    </tr>\n    <tr>\n      <th>1</th>\n      <td>Not Specified</td>\n      <td>2</td>\n      <td>6.9300</td>\n      <td>0.01</td>\n      <td>Regular Air</td>\n      <td>-4.640</td>\n      <td>2.08</td>\n      <td>2.56</td>\n      <td>Ruben Dartt</td>\n      <td>Alberta</td>\n      <td>West</td>\n      <td>Corporate</td>\n      <td>Office Supplies</td>\n      <td>Scissors, Rulers and Trimmers</td>\n      <td>Kleencut® Forged Office Shears by Acme United ...</td>\n      <td>Small Pack</td>\n      <td>0.55</td>\n      <td>2012-02-21</td>\n    </tr>\n    <tr>\n      <th>2</th>\n      <td>High</td>\n      <td>26</td>\n      <td>2808.0800</td>\n      <td>0.07</td>\n      <td>Regular Air</td>\n      <td>1054.820</td>\n      <td>107.53</td>\n      <td>5.81</td>\n      <td>Liz Pelletier</td>\n      <td>Alberta</td>\n      <td>West</td>\n      <td>Corporate</td>\n      <td>Furniture</td>\n      <td>Office Furnishings</td>\n      <td>Tenex Contemporary Contur Chairmats for Low an...</td>\n      <td>Medium Box</td>\n      <td>0.65</td>\n      <td>2011-07-17</td>\n    </tr>\n    <tr>\n      <th>3</th>\n      <td>High</td>\n      <td>24</td>\n      <td>1761.4000</td>\n      <td>0.09</td>\n      <td>Delivery Truck</td>\n      <td>-1748.560</td>\n      <td>70.89</td>\n      <td>89.30</td>\n      <td>Liz Pelletier</td>\n      <td>Alberta</td>\n      <td>West</td>\n      <td>Corporate</td>\n      <td>Furniture</td>\n      <td>Tables</td>\n      <td>KI Conference Tables</td>\n      <td>Jumbo Box</td>\n      <td>0.72</td>\n      <td>2011-07-16</td>\n    </tr>\n    <tr>\n      <th>4</th>\n      <td>High</td>\n      <td>23</td>\n      <td>160.2335</td>\n      <td>0.04</td>\n      <td>Regular Air</td>\n      <td>-85.129</td>\n      <td>7.99</td>\n      <td>5.03</td>\n      <td>Liz Pelletier</td>\n      <td>Alberta</td>\n      <td>West</td>\n      <td>Corporate</td>\n      <td>Technology</td>\n      <td>Telephones and Communication</td>\n      <td>Bell Sonecor JB700 Caller ID</td>\n      <td>Medium Box</td>\n      <td>0.60</td>\n      <td>2011-07-17</td>\n    </tr>\n  </tbody>\n</table>\n</div>"
     },
     "metadata": {},
     "execution_count": 80
    }
   ],
   "source": [
    "order.drop(['Order ID','Order Date'],axis=1,inplace=True)\n",
    "order.head()"
   ]
  },
  {
   "cell_type": "code",
   "execution_count": 11,
   "metadata": {},
   "outputs": [
    {
     "output_type": "execute_result",
     "data": {
      "text/plain": [
       "   Order ID Order Date Order Priority  Order Quantity    Sales  Discount  \\\n",
       "0         3 2010-10-13            Low               6   261.54      0.04   \n",
       "1         6 2012-02-20  Not Specified               2     6.93      0.01   \n",
       "3        32 2011-07-15           High              24  1761.40      0.09   \n",
       "5        32 2011-07-15           High              15   140.56      0.04   \n",
       "6        35 2011-10-22  Not Specified              30   288.56      0.03   \n",
       "\n",
       "        Ship Mode   Profit  Unit Price  Shipping Cost       Customer Name  \\\n",
       "0     Regular Air  -213.25       38.94          35.00  Muhammed MacIntyre   \n",
       "1     Regular Air    -4.64        2.08           2.56         Ruben Dartt   \n",
       "3  Delivery Truck -1748.56       70.89          89.30       Liz Pelletier   \n",
       "5     Regular Air  -128.38        8.46           8.99       Liz Pelletier   \n",
       "6     Regular Air    60.72        9.11           2.25     Julie Creighton   \n",
       "\n",
       "           Province   Region Customer Segment Product Category  \\\n",
       "0           Nunavut  Nunavut   Small Business  Office Supplies   \n",
       "1           Alberta     West        Corporate  Office Supplies   \n",
       "3           Alberta     West        Corporate        Furniture   \n",
       "5       Saskachewan   Prarie        Corporate       Technology   \n",
       "6  British Columbia     West        Corporate  Office Supplies   \n",
       "\n",
       "            Product Sub-Category  \\\n",
       "0         Storage & Organization   \n",
       "1  Scissors, Rulers and Trimmers   \n",
       "3                         Tables   \n",
       "5           Computer Peripherals   \n",
       "6            Pens & Art Supplies   \n",
       "\n",
       "                                        Product Name Product Container  \\\n",
       "0   Eldon Base for stackable storage shelf, platinum         Large Box   \n",
       "1  Kleencut® Forged Office Shears by Acme United ...        Small Pack   \n",
       "3                               KI Conference Tables         Jumbo Box   \n",
       "5                  Imation 3.5 IBM Diskettes, 10/Box        Small Pack   \n",
       "6        Dixon Ticonderoga Core-Lock Colored Pencils          Wrap Bag   \n",
       "\n",
       "   Product Base Margin  Ship Date  \n",
       "0                 0.80 2010-10-20  \n",
       "1                 0.55 2012-02-21  \n",
       "3                 0.72 2011-07-16  \n",
       "5                 0.79 2011-07-16  \n",
       "6                 0.52 2011-10-23  "
      ],
      "text/html": "<div>\n<style scoped>\n    .dataframe tbody tr th:only-of-type {\n        vertical-align: middle;\n    }\n\n    .dataframe tbody tr th {\n        vertical-align: top;\n    }\n\n    .dataframe thead th {\n        text-align: right;\n    }\n</style>\n<table border=\"1\" class=\"dataframe\">\n  <thead>\n    <tr style=\"text-align: right;\">\n      <th></th>\n      <th>Order ID</th>\n      <th>Order Date</th>\n      <th>Order Priority</th>\n      <th>Order Quantity</th>\n      <th>Sales</th>\n      <th>Discount</th>\n      <th>Ship Mode</th>\n      <th>Profit</th>\n      <th>Unit Price</th>\n      <th>Shipping Cost</th>\n      <th>Customer Name</th>\n      <th>Province</th>\n      <th>Region</th>\n      <th>Customer Segment</th>\n      <th>Product Category</th>\n      <th>Product Sub-Category</th>\n      <th>Product Name</th>\n      <th>Product Container</th>\n      <th>Product Base Margin</th>\n      <th>Ship Date</th>\n    </tr>\n  </thead>\n  <tbody>\n    <tr>\n      <th>0</th>\n      <td>3</td>\n      <td>2010-10-13</td>\n      <td>Low</td>\n      <td>6</td>\n      <td>261.54</td>\n      <td>0.04</td>\n      <td>Regular Air</td>\n      <td>-213.25</td>\n      <td>38.94</td>\n      <td>35.00</td>\n      <td>Muhammed MacIntyre</td>\n      <td>Nunavut</td>\n      <td>Nunavut</td>\n      <td>Small Business</td>\n      <td>Office Supplies</td>\n      <td>Storage &amp; Organization</td>\n      <td>Eldon Base for stackable storage shelf, platinum</td>\n      <td>Large Box</td>\n      <td>0.80</td>\n      <td>2010-10-20</td>\n    </tr>\n    <tr>\n      <th>1</th>\n      <td>6</td>\n      <td>2012-02-20</td>\n      <td>Not Specified</td>\n      <td>2</td>\n      <td>6.93</td>\n      <td>0.01</td>\n      <td>Regular Air</td>\n      <td>-4.64</td>\n      <td>2.08</td>\n      <td>2.56</td>\n      <td>Ruben Dartt</td>\n      <td>Alberta</td>\n      <td>West</td>\n      <td>Corporate</td>\n      <td>Office Supplies</td>\n      <td>Scissors, Rulers and Trimmers</td>\n      <td>Kleencut® Forged Office Shears by Acme United ...</td>\n      <td>Small Pack</td>\n      <td>0.55</td>\n      <td>2012-02-21</td>\n    </tr>\n    <tr>\n      <th>3</th>\n      <td>32</td>\n      <td>2011-07-15</td>\n      <td>High</td>\n      <td>24</td>\n      <td>1761.40</td>\n      <td>0.09</td>\n      <td>Delivery Truck</td>\n      <td>-1748.56</td>\n      <td>70.89</td>\n      <td>89.30</td>\n      <td>Liz Pelletier</td>\n      <td>Alberta</td>\n      <td>West</td>\n      <td>Corporate</td>\n      <td>Furniture</td>\n      <td>Tables</td>\n      <td>KI Conference Tables</td>\n      <td>Jumbo Box</td>\n      <td>0.72</td>\n      <td>2011-07-16</td>\n    </tr>\n    <tr>\n      <th>5</th>\n      <td>32</td>\n      <td>2011-07-15</td>\n      <td>High</td>\n      <td>15</td>\n      <td>140.56</td>\n      <td>0.04</td>\n      <td>Regular Air</td>\n      <td>-128.38</td>\n      <td>8.46</td>\n      <td>8.99</td>\n      <td>Liz Pelletier</td>\n      <td>Saskachewan</td>\n      <td>Prarie</td>\n      <td>Corporate</td>\n      <td>Technology</td>\n      <td>Computer Peripherals</td>\n      <td>Imation 3.5 IBM Diskettes, 10/Box</td>\n      <td>Small Pack</td>\n      <td>0.79</td>\n      <td>2011-07-16</td>\n    </tr>\n    <tr>\n      <th>6</th>\n      <td>35</td>\n      <td>2011-10-22</td>\n      <td>Not Specified</td>\n      <td>30</td>\n      <td>288.56</td>\n      <td>0.03</td>\n      <td>Regular Air</td>\n      <td>60.72</td>\n      <td>9.11</td>\n      <td>2.25</td>\n      <td>Julie Creighton</td>\n      <td>British Columbia</td>\n      <td>West</td>\n      <td>Corporate</td>\n      <td>Office Supplies</td>\n      <td>Pens &amp; Art Supplies</td>\n      <td>Dixon Ticonderoga Core-Lock Colored Pencils</td>\n      <td>Wrap Bag</td>\n      <td>0.52</td>\n      <td>2011-10-23</td>\n    </tr>\n  </tbody>\n</table>\n</div>"
     },
     "metadata": {},
     "execution_count": 11
    }
   ],
   "source": [
    "# column drop\n",
    "\n",
    "order.drop([2,4],axis=0,inplace=True)\n",
    "order.head()"
   ]
  },
  {
   "source": [
    "# Data frame"
   ],
   "cell_type": "markdown",
   "metadata": {}
  },
  {
   "cell_type": "code",
   "execution_count": 12,
   "metadata": {},
   "outputs": [],
   "source": [
    "import pandas as pd \n",
    "from pandas import DataFrame "
   ]
  },
  {
   "cell_type": "code",
   "execution_count": 13,
   "metadata": {},
   "outputs": [
    {
     "output_type": "execute_result",
     "data": {
      "text/plain": [
       "   Row ID  Order ID Order Date Order Priority  Order Quantity      Sales  \\\n",
       "0       1         3 2010-10-13            Low               6   261.5400   \n",
       "1       2         6 2012-02-20  Not Specified               2     6.9300   \n",
       "2       3        32 2011-07-15           High              26  2808.0800   \n",
       "3       4        32 2011-07-15           High              24  1761.4000   \n",
       "4       5        32 2011-07-15           High              23   160.2335   \n",
       "\n",
       "   Discount       Ship Mode    Profit  Unit Price  ...       Customer Name  \\\n",
       "0      0.04     Regular Air  -213.250       38.94  ...  Muhammed MacIntyre   \n",
       "1      0.01     Regular Air    -4.640        2.08  ...         Ruben Dartt   \n",
       "2      0.07     Regular Air  1054.820      107.53  ...       Liz Pelletier   \n",
       "3      0.09  Delivery Truck -1748.560       70.89  ...       Liz Pelletier   \n",
       "4      0.04     Regular Air   -85.129        7.99  ...       Liz Pelletier   \n",
       "\n",
       "  Province   Region Customer Segment Product Category  \\\n",
       "0  Nunavut  Nunavut   Small Business  Office Supplies   \n",
       "1  Alberta     West        Corporate  Office Supplies   \n",
       "2  Alberta     West        Corporate        Furniture   \n",
       "3  Alberta     West        Corporate        Furniture   \n",
       "4  Alberta     West        Corporate       Technology   \n",
       "\n",
       "            Product Sub-Category  \\\n",
       "0         Storage & Organization   \n",
       "1  Scissors, Rulers and Trimmers   \n",
       "2             Office Furnishings   \n",
       "3                         Tables   \n",
       "4   Telephones and Communication   \n",
       "\n",
       "                                        Product Name Product Container  \\\n",
       "0   Eldon Base for stackable storage shelf, platinum         Large Box   \n",
       "1  Kleencut® Forged Office Shears by Acme United ...        Small Pack   \n",
       "2  Tenex Contemporary Contur Chairmats for Low an...        Medium Box   \n",
       "3                               KI Conference Tables         Jumbo Box   \n",
       "4                       Bell Sonecor JB700 Caller ID        Medium Box   \n",
       "\n",
       "  Product Base Margin  Ship Date  \n",
       "0                0.80 2010-10-20  \n",
       "1                0.55 2012-02-21  \n",
       "2                0.65 2011-07-17  \n",
       "3                0.72 2011-07-16  \n",
       "4                0.60 2011-07-17  \n",
       "\n",
       "[5 rows x 21 columns]"
      ],
      "text/html": "<div>\n<style scoped>\n    .dataframe tbody tr th:only-of-type {\n        vertical-align: middle;\n    }\n\n    .dataframe tbody tr th {\n        vertical-align: top;\n    }\n\n    .dataframe thead th {\n        text-align: right;\n    }\n</style>\n<table border=\"1\" class=\"dataframe\">\n  <thead>\n    <tr style=\"text-align: right;\">\n      <th></th>\n      <th>Row ID</th>\n      <th>Order ID</th>\n      <th>Order Date</th>\n      <th>Order Priority</th>\n      <th>Order Quantity</th>\n      <th>Sales</th>\n      <th>Discount</th>\n      <th>Ship Mode</th>\n      <th>Profit</th>\n      <th>Unit Price</th>\n      <th>...</th>\n      <th>Customer Name</th>\n      <th>Province</th>\n      <th>Region</th>\n      <th>Customer Segment</th>\n      <th>Product Category</th>\n      <th>Product Sub-Category</th>\n      <th>Product Name</th>\n      <th>Product Container</th>\n      <th>Product Base Margin</th>\n      <th>Ship Date</th>\n    </tr>\n  </thead>\n  <tbody>\n    <tr>\n      <th>0</th>\n      <td>1</td>\n      <td>3</td>\n      <td>2010-10-13</td>\n      <td>Low</td>\n      <td>6</td>\n      <td>261.5400</td>\n      <td>0.04</td>\n      <td>Regular Air</td>\n      <td>-213.250</td>\n      <td>38.94</td>\n      <td>...</td>\n      <td>Muhammed MacIntyre</td>\n      <td>Nunavut</td>\n      <td>Nunavut</td>\n      <td>Small Business</td>\n      <td>Office Supplies</td>\n      <td>Storage &amp; Organization</td>\n      <td>Eldon Base for stackable storage shelf, platinum</td>\n      <td>Large Box</td>\n      <td>0.80</td>\n      <td>2010-10-20</td>\n    </tr>\n    <tr>\n      <th>1</th>\n      <td>2</td>\n      <td>6</td>\n      <td>2012-02-20</td>\n      <td>Not Specified</td>\n      <td>2</td>\n      <td>6.9300</td>\n      <td>0.01</td>\n      <td>Regular Air</td>\n      <td>-4.640</td>\n      <td>2.08</td>\n      <td>...</td>\n      <td>Ruben Dartt</td>\n      <td>Alberta</td>\n      <td>West</td>\n      <td>Corporate</td>\n      <td>Office Supplies</td>\n      <td>Scissors, Rulers and Trimmers</td>\n      <td>Kleencut® Forged Office Shears by Acme United ...</td>\n      <td>Small Pack</td>\n      <td>0.55</td>\n      <td>2012-02-21</td>\n    </tr>\n    <tr>\n      <th>2</th>\n      <td>3</td>\n      <td>32</td>\n      <td>2011-07-15</td>\n      <td>High</td>\n      <td>26</td>\n      <td>2808.0800</td>\n      <td>0.07</td>\n      <td>Regular Air</td>\n      <td>1054.820</td>\n      <td>107.53</td>\n      <td>...</td>\n      <td>Liz Pelletier</td>\n      <td>Alberta</td>\n      <td>West</td>\n      <td>Corporate</td>\n      <td>Furniture</td>\n      <td>Office Furnishings</td>\n      <td>Tenex Contemporary Contur Chairmats for Low an...</td>\n      <td>Medium Box</td>\n      <td>0.65</td>\n      <td>2011-07-17</td>\n    </tr>\n    <tr>\n      <th>3</th>\n      <td>4</td>\n      <td>32</td>\n      <td>2011-07-15</td>\n      <td>High</td>\n      <td>24</td>\n      <td>1761.4000</td>\n      <td>0.09</td>\n      <td>Delivery Truck</td>\n      <td>-1748.560</td>\n      <td>70.89</td>\n      <td>...</td>\n      <td>Liz Pelletier</td>\n      <td>Alberta</td>\n      <td>West</td>\n      <td>Corporate</td>\n      <td>Furniture</td>\n      <td>Tables</td>\n      <td>KI Conference Tables</td>\n      <td>Jumbo Box</td>\n      <td>0.72</td>\n      <td>2011-07-16</td>\n    </tr>\n    <tr>\n      <th>4</th>\n      <td>5</td>\n      <td>32</td>\n      <td>2011-07-15</td>\n      <td>High</td>\n      <td>23</td>\n      <td>160.2335</td>\n      <td>0.04</td>\n      <td>Regular Air</td>\n      <td>-85.129</td>\n      <td>7.99</td>\n      <td>...</td>\n      <td>Liz Pelletier</td>\n      <td>Alberta</td>\n      <td>West</td>\n      <td>Corporate</td>\n      <td>Technology</td>\n      <td>Telephones and Communication</td>\n      <td>Bell Sonecor JB700 Caller ID</td>\n      <td>Medium Box</td>\n      <td>0.60</td>\n      <td>2011-07-17</td>\n    </tr>\n  </tbody>\n</table>\n<p>5 rows × 21 columns</p>\n</div>"
     },
     "metadata": {},
     "execution_count": 13
    }
   ],
   "source": [
    "order = pd.read_excel('Sample - Superstore Sales.xls',0)\n",
    "order.head()"
   ]
  },
  {
   "cell_type": "code",
   "execution_count": 14,
   "metadata": {},
   "outputs": [
    {
     "output_type": "execute_result",
     "data": {
      "text/plain": [
       "Index(['Row ID', 'Order ID', 'Order Date', 'Order Priority', 'Order Quantity',\n",
       "       'Sales', 'Discount', 'Ship Mode', 'Profit', 'Unit Price',\n",
       "       'Shipping Cost', 'Customer Name', 'Province', 'Region',\n",
       "       'Customer Segment', 'Product Category', 'Product Sub-Category',\n",
       "       'Product Name', 'Product Container', 'Product Base Margin',\n",
       "       'Ship Date'],\n",
       "      dtype='object')"
      ]
     },
     "metadata": {},
     "execution_count": 14
    }
   ],
   "source": [
    "order.columns"
   ]
  },
  {
   "cell_type": "code",
   "execution_count": 17,
   "metadata": {},
   "outputs": [
    {
     "output_type": "execute_result",
     "data": {
      "text/plain": [
       "   Row ID  Order ID Order Date Order Priority  Order Quantity      Sales  \\\n",
       "0       1         3 2010-10-13            Low               6   261.5400   \n",
       "1       2         6 2012-02-20  Not Specified               2     6.9300   \n",
       "2       3        32 2011-07-15           High              26  2808.0800   \n",
       "3       4        32 2011-07-15           High              24  1761.4000   \n",
       "4       5        32 2011-07-15           High              23   160.2335   \n",
       "\n",
       "   Discount       Ship Mode    Profit  Unit Price  Shipping Cost  mataoo  \n",
       "0      0.04     Regular Air  -213.250       38.94          35.00     NaN  \n",
       "1      0.01     Regular Air    -4.640        2.08           2.56     NaN  \n",
       "2      0.07     Regular Air  1054.820      107.53           5.81     NaN  \n",
       "3      0.09  Delivery Truck -1748.560       70.89          89.30     NaN  \n",
       "4      0.04     Regular Air   -85.129        7.99           5.03     NaN  "
      ],
      "text/html": "<div>\n<style scoped>\n    .dataframe tbody tr th:only-of-type {\n        vertical-align: middle;\n    }\n\n    .dataframe tbody tr th {\n        vertical-align: top;\n    }\n\n    .dataframe thead th {\n        text-align: right;\n    }\n</style>\n<table border=\"1\" class=\"dataframe\">\n  <thead>\n    <tr style=\"text-align: right;\">\n      <th></th>\n      <th>Row ID</th>\n      <th>Order ID</th>\n      <th>Order Date</th>\n      <th>Order Priority</th>\n      <th>Order Quantity</th>\n      <th>Sales</th>\n      <th>Discount</th>\n      <th>Ship Mode</th>\n      <th>Profit</th>\n      <th>Unit Price</th>\n      <th>Shipping Cost</th>\n      <th>mataoo</th>\n    </tr>\n  </thead>\n  <tbody>\n    <tr>\n      <th>0</th>\n      <td>1</td>\n      <td>3</td>\n      <td>2010-10-13</td>\n      <td>Low</td>\n      <td>6</td>\n      <td>261.5400</td>\n      <td>0.04</td>\n      <td>Regular Air</td>\n      <td>-213.250</td>\n      <td>38.94</td>\n      <td>35.00</td>\n      <td>NaN</td>\n    </tr>\n    <tr>\n      <th>1</th>\n      <td>2</td>\n      <td>6</td>\n      <td>2012-02-20</td>\n      <td>Not Specified</td>\n      <td>2</td>\n      <td>6.9300</td>\n      <td>0.01</td>\n      <td>Regular Air</td>\n      <td>-4.640</td>\n      <td>2.08</td>\n      <td>2.56</td>\n      <td>NaN</td>\n    </tr>\n    <tr>\n      <th>2</th>\n      <td>3</td>\n      <td>32</td>\n      <td>2011-07-15</td>\n      <td>High</td>\n      <td>26</td>\n      <td>2808.0800</td>\n      <td>0.07</td>\n      <td>Regular Air</td>\n      <td>1054.820</td>\n      <td>107.53</td>\n      <td>5.81</td>\n      <td>NaN</td>\n    </tr>\n    <tr>\n      <th>3</th>\n      <td>4</td>\n      <td>32</td>\n      <td>2011-07-15</td>\n      <td>High</td>\n      <td>24</td>\n      <td>1761.4000</td>\n      <td>0.09</td>\n      <td>Delivery Truck</td>\n      <td>-1748.560</td>\n      <td>70.89</td>\n      <td>89.30</td>\n      <td>NaN</td>\n    </tr>\n    <tr>\n      <th>4</th>\n      <td>5</td>\n      <td>32</td>\n      <td>2011-07-15</td>\n      <td>High</td>\n      <td>23</td>\n      <td>160.2335</td>\n      <td>0.04</td>\n      <td>Regular Air</td>\n      <td>-85.129</td>\n      <td>7.99</td>\n      <td>5.03</td>\n      <td>NaN</td>\n    </tr>\n  </tbody>\n</table>\n</div>"
     },
     "metadata": {},
     "execution_count": 17
    }
   ],
   "source": [
    "order_subset=DataFrame(order,columns=['Row ID', 'Order ID', 'Order Date', 'Order Priority', 'Order Quantity',\n",
    "       'Sales', 'Discount', 'Ship Mode', 'Profit', 'Unit Price',\n",
    "       'Shipping Cost','mataoo'])\n",
    "order_subset.head()"
   ]
  },
  {
   "cell_type": "code",
   "execution_count": 16,
   "metadata": {},
   "outputs": [
    {
     "output_type": "execute_result",
     "data": {
      "text/plain": [
       "   Row ID  Order ID Order Date Order Priority  Order Quantity      Sales  \\\n",
       "0       1         3 2010-10-13            Low               6   261.5400   \n",
       "1       2         6 2012-02-20  Not Specified               2     6.9300   \n",
       "2       3        32 2011-07-15           High              26  2808.0800   \n",
       "3       4        32 2011-07-15           High              24  1761.4000   \n",
       "4       5        32 2011-07-15           High              23   160.2335   \n",
       "\n",
       "   Discount       Ship Mode    Profit  Unit Price  Shipping Cost  \n",
       "0      0.04     Regular Air  -213.250       38.94          35.00  \n",
       "1      0.01     Regular Air    -4.640        2.08           2.56  \n",
       "2      0.07     Regular Air  1054.820      107.53           5.81  \n",
       "3      0.09  Delivery Truck -1748.560       70.89          89.30  \n",
       "4      0.04     Regular Air   -85.129        7.99           5.03  "
      ],
      "text/html": "<div>\n<style scoped>\n    .dataframe tbody tr th:only-of-type {\n        vertical-align: middle;\n    }\n\n    .dataframe tbody tr th {\n        vertical-align: top;\n    }\n\n    .dataframe thead th {\n        text-align: right;\n    }\n</style>\n<table border=\"1\" class=\"dataframe\">\n  <thead>\n    <tr style=\"text-align: right;\">\n      <th></th>\n      <th>Row ID</th>\n      <th>Order ID</th>\n      <th>Order Date</th>\n      <th>Order Priority</th>\n      <th>Order Quantity</th>\n      <th>Sales</th>\n      <th>Discount</th>\n      <th>Ship Mode</th>\n      <th>Profit</th>\n      <th>Unit Price</th>\n      <th>Shipping Cost</th>\n    </tr>\n  </thead>\n  <tbody>\n    <tr>\n      <th>0</th>\n      <td>1</td>\n      <td>3</td>\n      <td>2010-10-13</td>\n      <td>Low</td>\n      <td>6</td>\n      <td>261.5400</td>\n      <td>0.04</td>\n      <td>Regular Air</td>\n      <td>-213.250</td>\n      <td>38.94</td>\n      <td>35.00</td>\n    </tr>\n    <tr>\n      <th>1</th>\n      <td>2</td>\n      <td>6</td>\n      <td>2012-02-20</td>\n      <td>Not Specified</td>\n      <td>2</td>\n      <td>6.9300</td>\n      <td>0.01</td>\n      <td>Regular Air</td>\n      <td>-4.640</td>\n      <td>2.08</td>\n      <td>2.56</td>\n    </tr>\n    <tr>\n      <th>2</th>\n      <td>3</td>\n      <td>32</td>\n      <td>2011-07-15</td>\n      <td>High</td>\n      <td>26</td>\n      <td>2808.0800</td>\n      <td>0.07</td>\n      <td>Regular Air</td>\n      <td>1054.820</td>\n      <td>107.53</td>\n      <td>5.81</td>\n    </tr>\n    <tr>\n      <th>3</th>\n      <td>4</td>\n      <td>32</td>\n      <td>2011-07-15</td>\n      <td>High</td>\n      <td>24</td>\n      <td>1761.4000</td>\n      <td>0.09</td>\n      <td>Delivery Truck</td>\n      <td>-1748.560</td>\n      <td>70.89</td>\n      <td>89.30</td>\n    </tr>\n    <tr>\n      <th>4</th>\n      <td>5</td>\n      <td>32</td>\n      <td>2011-07-15</td>\n      <td>High</td>\n      <td>23</td>\n      <td>160.2335</td>\n      <td>0.04</td>\n      <td>Regular Air</td>\n      <td>-85.129</td>\n      <td>7.99</td>\n      <td>5.03</td>\n    </tr>\n  </tbody>\n</table>\n</div>"
     },
     "metadata": {},
     "execution_count": 16
    }
   ],
   "source": [
    "del order_subset['mataoo']\n",
    "\n",
    "order_subset.head()"
   ]
  },
  {
   "cell_type": "code",
   "execution_count": 18,
   "metadata": {},
   "outputs": [
    {
     "output_type": "execute_result",
     "data": {
      "text/plain": [
       "   Row ID  Order ID Order Date Order Priority  Order Quantity      Sales  \\\n",
       "0       1         3 2010-10-13            Low               6   261.5400   \n",
       "1       2         6 2012-02-20  Not Specified               2     6.9300   \n",
       "2       3        32 2011-07-15           High              26  2808.0800   \n",
       "3       4        32 2011-07-15           High              24  1761.4000   \n",
       "4       5        32 2011-07-15           High              23   160.2335   \n",
       "\n",
       "   Discount       Ship Mode    Profit  Unit Price  Shipping Cost  \n",
       "0      0.04     Regular Air  -213.250       38.94          35.00  \n",
       "1      0.01     Regular Air    -4.640        2.08           2.56  \n",
       "2      0.07     Regular Air  1054.820      107.53           5.81  \n",
       "3      0.09  Delivery Truck -1748.560       70.89          89.30  \n",
       "4      0.04     Regular Air   -85.129        7.99           5.03  "
      ],
      "text/html": "<div>\n<style scoped>\n    .dataframe tbody tr th:only-of-type {\n        vertical-align: middle;\n    }\n\n    .dataframe tbody tr th {\n        vertical-align: top;\n    }\n\n    .dataframe thead th {\n        text-align: right;\n    }\n</style>\n<table border=\"1\" class=\"dataframe\">\n  <thead>\n    <tr style=\"text-align: right;\">\n      <th></th>\n      <th>Row ID</th>\n      <th>Order ID</th>\n      <th>Order Date</th>\n      <th>Order Priority</th>\n      <th>Order Quantity</th>\n      <th>Sales</th>\n      <th>Discount</th>\n      <th>Ship Mode</th>\n      <th>Profit</th>\n      <th>Unit Price</th>\n      <th>Shipping Cost</th>\n    </tr>\n  </thead>\n  <tbody>\n    <tr>\n      <th>0</th>\n      <td>1</td>\n      <td>3</td>\n      <td>2010-10-13</td>\n      <td>Low</td>\n      <td>6</td>\n      <td>261.5400</td>\n      <td>0.04</td>\n      <td>Regular Air</td>\n      <td>-213.250</td>\n      <td>38.94</td>\n      <td>35.00</td>\n    </tr>\n    <tr>\n      <th>1</th>\n      <td>2</td>\n      <td>6</td>\n      <td>2012-02-20</td>\n      <td>Not Specified</td>\n      <td>2</td>\n      <td>6.9300</td>\n      <td>0.01</td>\n      <td>Regular Air</td>\n      <td>-4.640</td>\n      <td>2.08</td>\n      <td>2.56</td>\n    </tr>\n    <tr>\n      <th>2</th>\n      <td>3</td>\n      <td>32</td>\n      <td>2011-07-15</td>\n      <td>High</td>\n      <td>26</td>\n      <td>2808.0800</td>\n      <td>0.07</td>\n      <td>Regular Air</td>\n      <td>1054.820</td>\n      <td>107.53</td>\n      <td>5.81</td>\n    </tr>\n    <tr>\n      <th>3</th>\n      <td>4</td>\n      <td>32</td>\n      <td>2011-07-15</td>\n      <td>High</td>\n      <td>24</td>\n      <td>1761.4000</td>\n      <td>0.09</td>\n      <td>Delivery Truck</td>\n      <td>-1748.560</td>\n      <td>70.89</td>\n      <td>89.30</td>\n    </tr>\n    <tr>\n      <th>4</th>\n      <td>5</td>\n      <td>32</td>\n      <td>2011-07-15</td>\n      <td>High</td>\n      <td>23</td>\n      <td>160.2335</td>\n      <td>0.04</td>\n      <td>Regular Air</td>\n      <td>-85.129</td>\n      <td>7.99</td>\n      <td>5.03</td>\n    </tr>\n  </tbody>\n</table>\n</div>"
     },
     "metadata": {},
     "execution_count": 18
    }
   ],
   "source": [
    "order_subset.drop('mataoo',axis=1,inplace=True)\n",
    "order_subset.head()"
   ]
  },
  {
   "source": [
    "# series"
   ],
   "cell_type": "markdown",
   "metadata": {}
  },
  {
   "cell_type": "code",
   "execution_count": 19,
   "metadata": {},
   "outputs": [],
   "source": [
    "import pandas as pd \n",
    "from pandas import Series"
   ]
  },
  {
   "cell_type": "code",
   "execution_count": 20,
   "metadata": {},
   "outputs": [
    {
     "output_type": "execute_result",
     "data": {
      "text/plain": [
       "0    1\n",
       "1    2\n",
       "2    3\n",
       "3    4\n",
       "4    5\n",
       "5    6\n",
       "6    7\n",
       "7    8\n",
       "8    9\n",
       "dtype: int64"
      ]
     },
     "metadata": {},
     "execution_count": 20
    }
   ],
   "source": [
    "ser1=Series([1,2,3,4,5,6,7,8,9])\n",
    "ser1"
   ]
  },
  {
   "cell_type": "code",
   "execution_count": 21,
   "metadata": {},
   "outputs": [
    {
     "output_type": "execute_result",
     "data": {
      "text/plain": [
       "4"
      ]
     },
     "metadata": {},
     "execution_count": 21
    }
   ],
   "source": [
    "ser1[3]"
   ]
  },
  {
   "cell_type": "code",
   "execution_count": 21,
   "metadata": {},
   "outputs": [
    {
     "output_type": "execute_result",
     "data": {
      "text/plain": [
       "RangeIndex(start=0, stop=9, step=1)"
      ]
     },
     "metadata": {},
     "execution_count": 21
    }
   ],
   "source": [
    "ser1.index"
   ]
  },
  {
   "cell_type": "code",
   "execution_count": 22,
   "metadata": {},
   "outputs": [
    {
     "output_type": "execute_result",
     "data": {
      "text/plain": [
       "a    2\n",
       "b    4\n",
       "c    6\n",
       "dtype: int64"
      ]
     },
     "metadata": {},
     "execution_count": 22
    }
   ],
   "source": [
    "ser2=Series([2,4,6],index=['a','b','c'])\n",
    "ser2"
   ]
  },
  {
   "cell_type": "code",
   "execution_count": 23,
   "metadata": {},
   "outputs": [],
   "source": [
    "import pandas as pd"
   ]
  },
  {
   "cell_type": "code",
   "execution_count": 24,
   "metadata": {},
   "outputs": [
    {
     "output_type": "execute_result",
     "data": {
      "text/plain": [
       "   Row ID  Order ID Order Date Order Priority  Order Quantity      Sales  \\\n",
       "0       1         3 2010-10-13            Low               6   261.5400   \n",
       "1       2         6 2012-02-20  Not Specified               2     6.9300   \n",
       "2       3        32 2011-07-15           High              26  2808.0800   \n",
       "3       4        32 2011-07-15           High              24  1761.4000   \n",
       "4       5        32 2011-07-15           High              23   160.2335   \n",
       "\n",
       "   Discount       Ship Mode    Profit  Unit Price  ...       Customer Name  \\\n",
       "0      0.04     Regular Air  -213.250       38.94  ...  Muhammed MacIntyre   \n",
       "1      0.01     Regular Air    -4.640        2.08  ...         Ruben Dartt   \n",
       "2      0.07     Regular Air  1054.820      107.53  ...       Liz Pelletier   \n",
       "3      0.09  Delivery Truck -1748.560       70.89  ...       Liz Pelletier   \n",
       "4      0.04     Regular Air   -85.129        7.99  ...       Liz Pelletier   \n",
       "\n",
       "  Province   Region Customer Segment Product Category  \\\n",
       "0  Nunavut  Nunavut   Small Business  Office Supplies   \n",
       "1  Alberta     West        Corporate  Office Supplies   \n",
       "2  Alberta     West        Corporate        Furniture   \n",
       "3  Alberta     West        Corporate        Furniture   \n",
       "4  Alberta     West        Corporate       Technology   \n",
       "\n",
       "            Product Sub-Category  \\\n",
       "0         Storage & Organization   \n",
       "1  Scissors, Rulers and Trimmers   \n",
       "2             Office Furnishings   \n",
       "3                         Tables   \n",
       "4   Telephones and Communication   \n",
       "\n",
       "                                        Product Name Product Container  \\\n",
       "0   Eldon Base for stackable storage shelf, platinum         Large Box   \n",
       "1  Kleencut® Forged Office Shears by Acme United ...        Small Pack   \n",
       "2  Tenex Contemporary Contur Chairmats for Low an...        Medium Box   \n",
       "3                               KI Conference Tables         Jumbo Box   \n",
       "4                       Bell Sonecor JB700 Caller ID        Medium Box   \n",
       "\n",
       "  Product Base Margin  Ship Date  \n",
       "0                0.80 2010-10-20  \n",
       "1                0.55 2012-02-21  \n",
       "2                0.65 2011-07-17  \n",
       "3                0.72 2011-07-16  \n",
       "4                0.60 2011-07-17  \n",
       "\n",
       "[5 rows x 21 columns]"
      ],
      "text/html": "<div>\n<style scoped>\n    .dataframe tbody tr th:only-of-type {\n        vertical-align: middle;\n    }\n\n    .dataframe tbody tr th {\n        vertical-align: top;\n    }\n\n    .dataframe thead th {\n        text-align: right;\n    }\n</style>\n<table border=\"1\" class=\"dataframe\">\n  <thead>\n    <tr style=\"text-align: right;\">\n      <th></th>\n      <th>Row ID</th>\n      <th>Order ID</th>\n      <th>Order Date</th>\n      <th>Order Priority</th>\n      <th>Order Quantity</th>\n      <th>Sales</th>\n      <th>Discount</th>\n      <th>Ship Mode</th>\n      <th>Profit</th>\n      <th>Unit Price</th>\n      <th>...</th>\n      <th>Customer Name</th>\n      <th>Province</th>\n      <th>Region</th>\n      <th>Customer Segment</th>\n      <th>Product Category</th>\n      <th>Product Sub-Category</th>\n      <th>Product Name</th>\n      <th>Product Container</th>\n      <th>Product Base Margin</th>\n      <th>Ship Date</th>\n    </tr>\n  </thead>\n  <tbody>\n    <tr>\n      <th>0</th>\n      <td>1</td>\n      <td>3</td>\n      <td>2010-10-13</td>\n      <td>Low</td>\n      <td>6</td>\n      <td>261.5400</td>\n      <td>0.04</td>\n      <td>Regular Air</td>\n      <td>-213.250</td>\n      <td>38.94</td>\n      <td>...</td>\n      <td>Muhammed MacIntyre</td>\n      <td>Nunavut</td>\n      <td>Nunavut</td>\n      <td>Small Business</td>\n      <td>Office Supplies</td>\n      <td>Storage &amp; Organization</td>\n      <td>Eldon Base for stackable storage shelf, platinum</td>\n      <td>Large Box</td>\n      <td>0.80</td>\n      <td>2010-10-20</td>\n    </tr>\n    <tr>\n      <th>1</th>\n      <td>2</td>\n      <td>6</td>\n      <td>2012-02-20</td>\n      <td>Not Specified</td>\n      <td>2</td>\n      <td>6.9300</td>\n      <td>0.01</td>\n      <td>Regular Air</td>\n      <td>-4.640</td>\n      <td>2.08</td>\n      <td>...</td>\n      <td>Ruben Dartt</td>\n      <td>Alberta</td>\n      <td>West</td>\n      <td>Corporate</td>\n      <td>Office Supplies</td>\n      <td>Scissors, Rulers and Trimmers</td>\n      <td>Kleencut® Forged Office Shears by Acme United ...</td>\n      <td>Small Pack</td>\n      <td>0.55</td>\n      <td>2012-02-21</td>\n    </tr>\n    <tr>\n      <th>2</th>\n      <td>3</td>\n      <td>32</td>\n      <td>2011-07-15</td>\n      <td>High</td>\n      <td>26</td>\n      <td>2808.0800</td>\n      <td>0.07</td>\n      <td>Regular Air</td>\n      <td>1054.820</td>\n      <td>107.53</td>\n      <td>...</td>\n      <td>Liz Pelletier</td>\n      <td>Alberta</td>\n      <td>West</td>\n      <td>Corporate</td>\n      <td>Furniture</td>\n      <td>Office Furnishings</td>\n      <td>Tenex Contemporary Contur Chairmats for Low an...</td>\n      <td>Medium Box</td>\n      <td>0.65</td>\n      <td>2011-07-17</td>\n    </tr>\n    <tr>\n      <th>3</th>\n      <td>4</td>\n      <td>32</td>\n      <td>2011-07-15</td>\n      <td>High</td>\n      <td>24</td>\n      <td>1761.4000</td>\n      <td>0.09</td>\n      <td>Delivery Truck</td>\n      <td>-1748.560</td>\n      <td>70.89</td>\n      <td>...</td>\n      <td>Liz Pelletier</td>\n      <td>Alberta</td>\n      <td>West</td>\n      <td>Corporate</td>\n      <td>Furniture</td>\n      <td>Tables</td>\n      <td>KI Conference Tables</td>\n      <td>Jumbo Box</td>\n      <td>0.72</td>\n      <td>2011-07-16</td>\n    </tr>\n    <tr>\n      <th>4</th>\n      <td>5</td>\n      <td>32</td>\n      <td>2011-07-15</td>\n      <td>High</td>\n      <td>23</td>\n      <td>160.2335</td>\n      <td>0.04</td>\n      <td>Regular Air</td>\n      <td>-85.129</td>\n      <td>7.99</td>\n      <td>...</td>\n      <td>Liz Pelletier</td>\n      <td>Alberta</td>\n      <td>West</td>\n      <td>Corporate</td>\n      <td>Technology</td>\n      <td>Telephones and Communication</td>\n      <td>Bell Sonecor JB700 Caller ID</td>\n      <td>Medium Box</td>\n      <td>0.60</td>\n      <td>2011-07-17</td>\n    </tr>\n  </tbody>\n</table>\n<p>5 rows × 21 columns</p>\n</div>"
     },
     "metadata": {},
     "execution_count": 24
    }
   ],
   "source": [
    "order =pd.read_excel('Sample - Superstore Sales.xls',0)\n",
    "order.head()"
   ]
  },
  {
   "cell_type": "code",
   "execution_count": 25,
   "metadata": {},
   "outputs": [
    {
     "output_type": "execute_result",
     "data": {
      "text/plain": [
       "0       1362.9000\n",
       "1          5.3248\n",
       "2        624.7493\n",
       "3       6330.4770\n",
       "4         40.1897\n",
       "          ...    \n",
       "8385    6511.6786\n",
       "8386      68.2864\n",
       "8387      19.5865\n",
       "8388     529.1384\n",
       "8389       6.0288\n",
       "Length: 8390, dtype: float64"
      ]
     },
     "metadata": {},
     "execution_count": 25
    }
   ],
   "source": [
    "order['Unit Price']* order['Shipping Cost']"
   ]
  },
  {
   "cell_type": "code",
   "execution_count": 35,
   "metadata": {},
   "outputs": [
    {
     "output_type": "execute_result",
     "data": {
      "text/plain": [
       "0                 Low Regular Air\n",
       "1       Not Specified Regular Air\n",
       "2                High Regular Air\n",
       "3             High Delivery Truck\n",
       "4                High Regular Air\n",
       "                  ...            \n",
       "8385           Low Delivery Truck\n",
       "8386              Low Express Air\n",
       "8387    Not Specified Regular Air\n",
       "8388             High Regular Air\n",
       "8389           Medium Regular Air\n",
       "Length: 8390, dtype: object"
      ]
     },
     "metadata": {},
     "execution_count": 35
    }
   ],
   "source": [
    "order['Order Priority']+' ' + order['Ship Mode'] "
   ]
  },
  {
   "cell_type": "code",
   "execution_count": 38,
   "metadata": {},
   "outputs": [
    {
     "output_type": "execute_result",
     "data": {
      "text/plain": [
       "8390"
      ]
     },
     "metadata": {},
     "execution_count": 38
    }
   ],
   "source": [
    "order.Sales.size"
   ]
  },
  {
   "source": [
    "# impoart HTML data"
   ],
   "cell_type": "markdown",
   "metadata": {}
  },
  {
   "cell_type": "code",
   "execution_count": 39,
   "metadata": {},
   "outputs": [
    {
     "output_type": "stream",
     "name": "stdout",
     "text": [
      "Requirement already satisfied: html5lib in c:\\users\\rupeek\\anaconda3\\lib\\site-packages (1.0.1)\nRequirement already satisfied: six>=1.9 in c:\\users\\rupeek\\anaconda3\\lib\\site-packages (from html5lib) (1.14.0)\nRequirement already satisfied: webencodings in c:\\users\\rupeek\\anaconda3\\lib\\site-packages (from html5lib) (0.5.1)\n"
     ]
    }
   ],
   "source": [
    "!pip install html5lib"
   ]
  },
  {
   "cell_type": "code",
   "execution_count": 26,
   "metadata": {},
   "outputs": [],
   "source": [
    "import pandas as pandas\n",
    "from pandas import read_html\n",
    "import html5lib "
   ]
  },
  {
   "cell_type": "code",
   "execution_count": 27,
   "metadata": {},
   "outputs": [],
   "source": [
    "url=\"https://www.moneycontrol.com/mutual-funds/performance-tracker/returns/large-cap-fund.html\""
   ]
  },
  {
   "cell_type": "code",
   "execution_count": 28,
   "metadata": {},
   "outputs": [
    {
     "output_type": "execute_result",
     "data": {
      "text/plain": [
       "[                                          Scheme Name Crisil Rank  AuM (Cr)  \\\n",
       " 0   Canara Robeco Bluechip Equity Fund - Direct Pl...           5    923.93   \n",
       " 1   Canara Robeco Bluechip Equity Fund - Regular P...           5    923.93   \n",
       " 2   JM Large Cap Fund - (Direct) - GrowthLarge Cap...           5    337.94   \n",
       " 3   Axis Bluechip Fund - Direct Plan - GrowthLarge...           5  18282.98   \n",
       " 4            JM Large Cap Fund - GrowthLarge Cap Fund           5    337.94   \n",
       " ..                                                ...         ...       ...   \n",
       " 57  Nippon India Large Cap Fund - GrowthLarge Cap ...           1   9677.04   \n",
       " 58  Principal Large Cap Fund - Regular Plan - Grow...           -    186.33   \n",
       " 59  Principal Large Cap Fund - Direct Plan - Growt...           -    186.33   \n",
       " 60  Sundaram Bluechip Fund - Regular Plan - Growth...           -    708.22   \n",
       " 61  Sundaram Bluechip Fund - Direct Plan - GrowthL...           -    708.22   \n",
       " \n",
       "        1W      1M      3M      6M     YTD      1Y      2Y      3Y      5Y  \\\n",
       " 0   0.84%   8.27%  11.38%  35.62%  15.71%  16.95%  17.52%  12.98%  14.17%   \n",
       " 1   0.81%   8.16%  10.99%  34.59%  14.22%  15.28%  15.94%  11.57%  12.81%   \n",
       " 2   0.59%   6.10%   8.34%  25.52%  13.47%  13.73%   9.95%   7.36%   9.11%   \n",
       " 3   0.78%   9.06%  13.26%  34.03%  11.76%  12.96%  17.48%  14.24%  14.67%   \n",
       " 4   0.56%   6.00%   8.04%  24.82%  12.38%  12.56%   8.84%   6.24%   7.83%   \n",
       " ..    ...     ...     ...     ...     ...     ...     ...     ...     ...   \n",
       " 57  0.71%  11.01%   6.99%  36.24%  -3.89%  -3.31%   2.37%   1.59%   7.76%   \n",
       " 58  0.92%   8.86%       -       -       -       -       -       -       -   \n",
       " 59  0.83%   8.96%       -       -       -       -       -       -       -   \n",
       " 60  0.84%   8.34%       -       -       -       -       -       -       -   \n",
       " 61  0.88%   8.52%       -       -       -       -       -       -       -   \n",
       " \n",
       "        10Y  \n",
       " 0        -  \n",
       " 1   11.81%  \n",
       " 2        -  \n",
       " 3        -  \n",
       " 4    7.37%  \n",
       " ..     ...  \n",
       " 57  10.05%  \n",
       " 58       -  \n",
       " 59       -  \n",
       " 60       -  \n",
       " 61       -  \n",
       " \n",
       " [62 rows x 13 columns]]"
      ]
     },
     "metadata": {},
     "execution_count": 28
    }
   ],
   "source": [
    "table_list=pd.io.html.read_html(url)\n",
    "table_list "
   ]
  },
  {
   "cell_type": "code",
   "execution_count": 29,
   "metadata": {},
   "outputs": [
    {
     "output_type": "execute_result",
     "data": {
      "text/plain": [
       "                                          Scheme Name Crisil Rank  AuM (Cr)  \\\n",
       "0   Canara Robeco Bluechip Equity Fund - Direct Pl...           5    923.93   \n",
       "1   Canara Robeco Bluechip Equity Fund - Regular P...           5    923.93   \n",
       "2   JM Large Cap Fund - (Direct) - GrowthLarge Cap...           5    337.94   \n",
       "3   Axis Bluechip Fund - Direct Plan - GrowthLarge...           5  18282.98   \n",
       "4            JM Large Cap Fund - GrowthLarge Cap Fund           5    337.94   \n",
       "..                                                ...         ...       ...   \n",
       "57  Nippon India Large Cap Fund - GrowthLarge Cap ...           1   9677.04   \n",
       "58  Principal Large Cap Fund - Regular Plan - Grow...           -    186.33   \n",
       "59  Principal Large Cap Fund - Direct Plan - Growt...           -    186.33   \n",
       "60  Sundaram Bluechip Fund - Regular Plan - Growth...           -    708.22   \n",
       "61  Sundaram Bluechip Fund - Direct Plan - GrowthL...           -    708.22   \n",
       "\n",
       "       1W      1M      3M      6M     YTD      1Y      2Y      3Y      5Y  \\\n",
       "0   0.84%   8.27%  11.38%  35.62%  15.71%  16.95%  17.52%  12.98%  14.17%   \n",
       "1   0.81%   8.16%  10.99%  34.59%  14.22%  15.28%  15.94%  11.57%  12.81%   \n",
       "2   0.59%   6.10%   8.34%  25.52%  13.47%  13.73%   9.95%   7.36%   9.11%   \n",
       "3   0.78%   9.06%  13.26%  34.03%  11.76%  12.96%  17.48%  14.24%  14.67%   \n",
       "4   0.56%   6.00%   8.04%  24.82%  12.38%  12.56%   8.84%   6.24%   7.83%   \n",
       "..    ...     ...     ...     ...     ...     ...     ...     ...     ...   \n",
       "57  0.71%  11.01%   6.99%  36.24%  -3.89%  -3.31%   2.37%   1.59%   7.76%   \n",
       "58  0.92%   8.86%       -       -       -       -       -       -       -   \n",
       "59  0.83%   8.96%       -       -       -       -       -       -       -   \n",
       "60  0.84%   8.34%       -       -       -       -       -       -       -   \n",
       "61  0.88%   8.52%       -       -       -       -       -       -       -   \n",
       "\n",
       "       10Y  \n",
       "0        -  \n",
       "1   11.81%  \n",
       "2        -  \n",
       "3        -  \n",
       "4    7.37%  \n",
       "..     ...  \n",
       "57  10.05%  \n",
       "58       -  \n",
       "59       -  \n",
       "60       -  \n",
       "61       -  \n",
       "\n",
       "[62 rows x 13 columns]"
      ],
      "text/html": "<div>\n<style scoped>\n    .dataframe tbody tr th:only-of-type {\n        vertical-align: middle;\n    }\n\n    .dataframe tbody tr th {\n        vertical-align: top;\n    }\n\n    .dataframe thead th {\n        text-align: right;\n    }\n</style>\n<table border=\"1\" class=\"dataframe\">\n  <thead>\n    <tr style=\"text-align: right;\">\n      <th></th>\n      <th>Scheme Name</th>\n      <th>Crisil Rank</th>\n      <th>AuM (Cr)</th>\n      <th>1W</th>\n      <th>1M</th>\n      <th>3M</th>\n      <th>6M</th>\n      <th>YTD</th>\n      <th>1Y</th>\n      <th>2Y</th>\n      <th>3Y</th>\n      <th>5Y</th>\n      <th>10Y</th>\n    </tr>\n  </thead>\n  <tbody>\n    <tr>\n      <th>0</th>\n      <td>Canara Robeco Bluechip Equity Fund - Direct Pl...</td>\n      <td>5</td>\n      <td>923.93</td>\n      <td>0.84%</td>\n      <td>8.27%</td>\n      <td>11.38%</td>\n      <td>35.62%</td>\n      <td>15.71%</td>\n      <td>16.95%</td>\n      <td>17.52%</td>\n      <td>12.98%</td>\n      <td>14.17%</td>\n      <td>-</td>\n    </tr>\n    <tr>\n      <th>1</th>\n      <td>Canara Robeco Bluechip Equity Fund - Regular P...</td>\n      <td>5</td>\n      <td>923.93</td>\n      <td>0.81%</td>\n      <td>8.16%</td>\n      <td>10.99%</td>\n      <td>34.59%</td>\n      <td>14.22%</td>\n      <td>15.28%</td>\n      <td>15.94%</td>\n      <td>11.57%</td>\n      <td>12.81%</td>\n      <td>11.81%</td>\n    </tr>\n    <tr>\n      <th>2</th>\n      <td>JM Large Cap Fund - (Direct) - GrowthLarge Cap...</td>\n      <td>5</td>\n      <td>337.94</td>\n      <td>0.59%</td>\n      <td>6.10%</td>\n      <td>8.34%</td>\n      <td>25.52%</td>\n      <td>13.47%</td>\n      <td>13.73%</td>\n      <td>9.95%</td>\n      <td>7.36%</td>\n      <td>9.11%</td>\n      <td>-</td>\n    </tr>\n    <tr>\n      <th>3</th>\n      <td>Axis Bluechip Fund - Direct Plan - GrowthLarge...</td>\n      <td>5</td>\n      <td>18282.98</td>\n      <td>0.78%</td>\n      <td>9.06%</td>\n      <td>13.26%</td>\n      <td>34.03%</td>\n      <td>11.76%</td>\n      <td>12.96%</td>\n      <td>17.48%</td>\n      <td>14.24%</td>\n      <td>14.67%</td>\n      <td>-</td>\n    </tr>\n    <tr>\n      <th>4</th>\n      <td>JM Large Cap Fund - GrowthLarge Cap Fund</td>\n      <td>5</td>\n      <td>337.94</td>\n      <td>0.56%</td>\n      <td>6.00%</td>\n      <td>8.04%</td>\n      <td>24.82%</td>\n      <td>12.38%</td>\n      <td>12.56%</td>\n      <td>8.84%</td>\n      <td>6.24%</td>\n      <td>7.83%</td>\n      <td>7.37%</td>\n    </tr>\n    <tr>\n      <th>...</th>\n      <td>...</td>\n      <td>...</td>\n      <td>...</td>\n      <td>...</td>\n      <td>...</td>\n      <td>...</td>\n      <td>...</td>\n      <td>...</td>\n      <td>...</td>\n      <td>...</td>\n      <td>...</td>\n      <td>...</td>\n      <td>...</td>\n    </tr>\n    <tr>\n      <th>57</th>\n      <td>Nippon India Large Cap Fund - GrowthLarge Cap ...</td>\n      <td>1</td>\n      <td>9677.04</td>\n      <td>0.71%</td>\n      <td>11.01%</td>\n      <td>6.99%</td>\n      <td>36.24%</td>\n      <td>-3.89%</td>\n      <td>-3.31%</td>\n      <td>2.37%</td>\n      <td>1.59%</td>\n      <td>7.76%</td>\n      <td>10.05%</td>\n    </tr>\n    <tr>\n      <th>58</th>\n      <td>Principal Large Cap Fund - Regular Plan - Grow...</td>\n      <td>-</td>\n      <td>186.33</td>\n      <td>0.92%</td>\n      <td>8.86%</td>\n      <td>-</td>\n      <td>-</td>\n      <td>-</td>\n      <td>-</td>\n      <td>-</td>\n      <td>-</td>\n      <td>-</td>\n      <td>-</td>\n    </tr>\n    <tr>\n      <th>59</th>\n      <td>Principal Large Cap Fund - Direct Plan - Growt...</td>\n      <td>-</td>\n      <td>186.33</td>\n      <td>0.83%</td>\n      <td>8.96%</td>\n      <td>-</td>\n      <td>-</td>\n      <td>-</td>\n      <td>-</td>\n      <td>-</td>\n      <td>-</td>\n      <td>-</td>\n      <td>-</td>\n    </tr>\n    <tr>\n      <th>60</th>\n      <td>Sundaram Bluechip Fund - Regular Plan - Growth...</td>\n      <td>-</td>\n      <td>708.22</td>\n      <td>0.84%</td>\n      <td>8.34%</td>\n      <td>-</td>\n      <td>-</td>\n      <td>-</td>\n      <td>-</td>\n      <td>-</td>\n      <td>-</td>\n      <td>-</td>\n      <td>-</td>\n    </tr>\n    <tr>\n      <th>61</th>\n      <td>Sundaram Bluechip Fund - Direct Plan - GrowthL...</td>\n      <td>-</td>\n      <td>708.22</td>\n      <td>0.88%</td>\n      <td>8.52%</td>\n      <td>-</td>\n      <td>-</td>\n      <td>-</td>\n      <td>-</td>\n      <td>-</td>\n      <td>-</td>\n      <td>-</td>\n      <td>-</td>\n    </tr>\n  </tbody>\n</table>\n<p>62 rows × 13 columns</p>\n</div>"
     },
     "metadata": {},
     "execution_count": 29
    }
   ],
   "source": [
    "mf_table=table_list[0]\n",
    "mf_table"
   ]
  },
  {
   "source": [
    "# scraping data from pasward protected html page"
   ],
   "cell_type": "markdown",
   "metadata": {}
  },
  {
   "cell_type": "code",
   "execution_count": 47,
   "metadata": {},
   "outputs": [
    {
     "output_type": "error",
     "ename": "AttributeError",
     "evalue": "'function' object has no attribute 'io'",
     "traceback": [
      "\u001b[1;31m---------------------------------------------------------------------------\u001b[0m",
      "\u001b[1;31mAttributeError\u001b[0m                            Traceback (most recent call last)",
      "\u001b[1;32m<ipython-input-47-0122ac76ce53>\u001b[0m in \u001b[0;36m<module>\u001b[1;34m\u001b[0m\n\u001b[0;32m     18\u001b[0m \u001b[1;33m\u001b[0m\u001b[0m\n\u001b[0;32m     19\u001b[0m \u001b[1;33m\u001b[0m\u001b[0m\n\u001b[1;32m---> 20\u001b[1;33m \u001b[0mtableau_table_list\u001b[0m\u001b[1;33m=\u001b[0m \u001b[0msession\u001b[0m\u001b[1;33m.\u001b[0m\u001b[0mpost\u001b[0m\u001b[1;33m.\u001b[0m\u001b[0mio\u001b[0m\u001b[1;33m.\u001b[0m\u001b[0mhtml\u001b[0m\u001b[1;33m.\u001b[0m\u001b[0mread_html\u001b[0m\u001b[1;33m(\u001b[0m\u001b[1;34m\"http://tableau.internal.rupeek.com/#/projects/16/views\"\u001b[0m\u001b[1;33m)\u001b[0m\u001b[1;33m\u001b[0m\u001b[1;33m\u001b[0m\u001b[0m\n\u001b[0m\u001b[0;32m     21\u001b[0m \u001b[0mtableau_table_list\u001b[0m\u001b[1;33m\u001b[0m\u001b[1;33m\u001b[0m\u001b[0m\n",
      "\u001b[1;31mAttributeError\u001b[0m: 'function' object has no attribute 'io'"
     ]
    }
   ],
   "source": [
    "\n",
    "from bs4 import BeautifulSoup\n",
    "import requests\n",
    "\n",
    "# Start the session\n",
    "session = requests.Session()\n",
    "\n",
    "# Create the payload\n",
    "payload = {'_username':'[jaswanth]', \n",
    "          '_password':'[Rupeek@123]' \n",
    "\n",
    "         }\n",
    "\n",
    "# Post the payload to the site to log in\n",
    "s = session.post(\"http://tableau.internal.rupeek.com/#/signin?redirect=%2Fprojects%2F16%2Fviews\", data=payload)\n",
    "\n",
    "# Navigate to the next page and scrape the data\n",
    "\n",
    "\n",
    "\n",
    "tableau_table_list= session.post.io.html.read_html(\"http://tableau.internal.rupeek.com/#/projects/16/views\")\n",
    "tableau_table_list "
   ]
  },
  {
   "source": [
    "# answer buisness questions\n"
   ],
   "cell_type": "markdown",
   "metadata": {}
  },
  {
   "cell_type": "code",
   "execution_count": 30,
   "metadata": {},
   "outputs": [],
   "source": [
    "import pandas as pd"
   ]
  },
  {
   "cell_type": "code",
   "execution_count": 31,
   "metadata": {},
   "outputs": [
    {
     "output_type": "execute_result",
     "data": {
      "text/plain": [
       "   Row ID  Order ID Order Date Order Priority  Order Quantity      Sales  \\\n",
       "0       1         3 2010-10-13            Low               6   261.5400   \n",
       "1       2         6 2012-02-20  Not Specified               2     6.9300   \n",
       "2       3        32 2011-07-15           High              26  2808.0800   \n",
       "3       4        32 2011-07-15           High              24  1761.4000   \n",
       "4       5        32 2011-07-15           High              23   160.2335   \n",
       "\n",
       "   Discount       Ship Mode    Profit  Unit Price  ...       Customer Name  \\\n",
       "0      0.04     Regular Air  -213.250       38.94  ...  Muhammed MacIntyre   \n",
       "1      0.01     Regular Air    -4.640        2.08  ...         Ruben Dartt   \n",
       "2      0.07     Regular Air  1054.820      107.53  ...       Liz Pelletier   \n",
       "3      0.09  Delivery Truck -1748.560       70.89  ...       Liz Pelletier   \n",
       "4      0.04     Regular Air   -85.129        7.99  ...       Liz Pelletier   \n",
       "\n",
       "  Province   Region Customer Segment Product Category  \\\n",
       "0  Nunavut  Nunavut   Small Business  Office Supplies   \n",
       "1  Alberta     West        Corporate  Office Supplies   \n",
       "2  Alberta     West        Corporate        Furniture   \n",
       "3  Alberta     West        Corporate        Furniture   \n",
       "4  Alberta     West        Corporate       Technology   \n",
       "\n",
       "            Product Sub-Category  \\\n",
       "0         Storage & Organization   \n",
       "1  Scissors, Rulers and Trimmers   \n",
       "2             Office Furnishings   \n",
       "3                         Tables   \n",
       "4   Telephones and Communication   \n",
       "\n",
       "                                        Product Name Product Container  \\\n",
       "0   Eldon Base for stackable storage shelf, platinum         Large Box   \n",
       "1  Kleencut® Forged Office Shears by Acme United ...        Small Pack   \n",
       "2  Tenex Contemporary Contur Chairmats for Low an...        Medium Box   \n",
       "3                               KI Conference Tables         Jumbo Box   \n",
       "4                       Bell Sonecor JB700 Caller ID        Medium Box   \n",
       "\n",
       "  Product Base Margin  Ship Date  \n",
       "0                0.80 2010-10-20  \n",
       "1                0.55 2012-02-21  \n",
       "2                0.65 2011-07-17  \n",
       "3                0.72 2011-07-16  \n",
       "4                0.60 2011-07-17  \n",
       "\n",
       "[5 rows x 21 columns]"
      ],
      "text/html": "<div>\n<style scoped>\n    .dataframe tbody tr th:only-of-type {\n        vertical-align: middle;\n    }\n\n    .dataframe tbody tr th {\n        vertical-align: top;\n    }\n\n    .dataframe thead th {\n        text-align: right;\n    }\n</style>\n<table border=\"1\" class=\"dataframe\">\n  <thead>\n    <tr style=\"text-align: right;\">\n      <th></th>\n      <th>Row ID</th>\n      <th>Order ID</th>\n      <th>Order Date</th>\n      <th>Order Priority</th>\n      <th>Order Quantity</th>\n      <th>Sales</th>\n      <th>Discount</th>\n      <th>Ship Mode</th>\n      <th>Profit</th>\n      <th>Unit Price</th>\n      <th>...</th>\n      <th>Customer Name</th>\n      <th>Province</th>\n      <th>Region</th>\n      <th>Customer Segment</th>\n      <th>Product Category</th>\n      <th>Product Sub-Category</th>\n      <th>Product Name</th>\n      <th>Product Container</th>\n      <th>Product Base Margin</th>\n      <th>Ship Date</th>\n    </tr>\n  </thead>\n  <tbody>\n    <tr>\n      <th>0</th>\n      <td>1</td>\n      <td>3</td>\n      <td>2010-10-13</td>\n      <td>Low</td>\n      <td>6</td>\n      <td>261.5400</td>\n      <td>0.04</td>\n      <td>Regular Air</td>\n      <td>-213.250</td>\n      <td>38.94</td>\n      <td>...</td>\n      <td>Muhammed MacIntyre</td>\n      <td>Nunavut</td>\n      <td>Nunavut</td>\n      <td>Small Business</td>\n      <td>Office Supplies</td>\n      <td>Storage &amp; Organization</td>\n      <td>Eldon Base for stackable storage shelf, platinum</td>\n      <td>Large Box</td>\n      <td>0.80</td>\n      <td>2010-10-20</td>\n    </tr>\n    <tr>\n      <th>1</th>\n      <td>2</td>\n      <td>6</td>\n      <td>2012-02-20</td>\n      <td>Not Specified</td>\n      <td>2</td>\n      <td>6.9300</td>\n      <td>0.01</td>\n      <td>Regular Air</td>\n      <td>-4.640</td>\n      <td>2.08</td>\n      <td>...</td>\n      <td>Ruben Dartt</td>\n      <td>Alberta</td>\n      <td>West</td>\n      <td>Corporate</td>\n      <td>Office Supplies</td>\n      <td>Scissors, Rulers and Trimmers</td>\n      <td>Kleencut® Forged Office Shears by Acme United ...</td>\n      <td>Small Pack</td>\n      <td>0.55</td>\n      <td>2012-02-21</td>\n    </tr>\n    <tr>\n      <th>2</th>\n      <td>3</td>\n      <td>32</td>\n      <td>2011-07-15</td>\n      <td>High</td>\n      <td>26</td>\n      <td>2808.0800</td>\n      <td>0.07</td>\n      <td>Regular Air</td>\n      <td>1054.820</td>\n      <td>107.53</td>\n      <td>...</td>\n      <td>Liz Pelletier</td>\n      <td>Alberta</td>\n      <td>West</td>\n      <td>Corporate</td>\n      <td>Furniture</td>\n      <td>Office Furnishings</td>\n      <td>Tenex Contemporary Contur Chairmats for Low an...</td>\n      <td>Medium Box</td>\n      <td>0.65</td>\n      <td>2011-07-17</td>\n    </tr>\n    <tr>\n      <th>3</th>\n      <td>4</td>\n      <td>32</td>\n      <td>2011-07-15</td>\n      <td>High</td>\n      <td>24</td>\n      <td>1761.4000</td>\n      <td>0.09</td>\n      <td>Delivery Truck</td>\n      <td>-1748.560</td>\n      <td>70.89</td>\n      <td>...</td>\n      <td>Liz Pelletier</td>\n      <td>Alberta</td>\n      <td>West</td>\n      <td>Corporate</td>\n      <td>Furniture</td>\n      <td>Tables</td>\n      <td>KI Conference Tables</td>\n      <td>Jumbo Box</td>\n      <td>0.72</td>\n      <td>2011-07-16</td>\n    </tr>\n    <tr>\n      <th>4</th>\n      <td>5</td>\n      <td>32</td>\n      <td>2011-07-15</td>\n      <td>High</td>\n      <td>23</td>\n      <td>160.2335</td>\n      <td>0.04</td>\n      <td>Regular Air</td>\n      <td>-85.129</td>\n      <td>7.99</td>\n      <td>...</td>\n      <td>Liz Pelletier</td>\n      <td>Alberta</td>\n      <td>West</td>\n      <td>Corporate</td>\n      <td>Technology</td>\n      <td>Telephones and Communication</td>\n      <td>Bell Sonecor JB700 Caller ID</td>\n      <td>Medium Box</td>\n      <td>0.60</td>\n      <td>2011-07-17</td>\n    </tr>\n  </tbody>\n</table>\n<p>5 rows × 21 columns</p>\n</div>"
     },
     "metadata": {},
     "execution_count": 31
    }
   ],
   "source": [
    "order = pd.read_excel('Sample - Superstore Sales.xls',0)\n",
    "order.head()"
   ]
  },
  {
   "cell_type": "code",
   "execution_count": 57,
   "metadata": {},
   "outputs": [
    {
     "output_type": "execute_result",
     "data": {
      "text/plain": [
       "Customer Segment\n",
       "Consumer          3.063611e+06\n",
       "Corporate         5.498190e+06\n",
       "Home Office       3.562063e+06\n",
       "Small Business    2.772298e+06\n",
       "Name: Sales, dtype: float64"
      ]
     },
     "metadata": {},
     "execution_count": 57
    }
   ],
   "source": [
    "order.groupby('Customer Segment').Sales.sum()"
   ]
  },
  {
   "cell_type": "code",
   "execution_count": 3,
   "metadata": {},
   "outputs": [
    {
     "output_type": "execute_result",
     "data": {
      "text/plain": [
       "Customer Segment\n",
       "Consumer          287959.983779\n",
       "Corporate         600014.574158\n",
       "Home Office       318256.411991\n",
       "Small Business    312865.296153\n",
       "Name: Profit, dtype: float64"
      ]
     },
     "metadata": {},
     "execution_count": 3
    }
   ],
   "source": [
    "order.groupby('Customer Segment').Profit.sum()"
   ]
  },
  {
   "cell_type": "code",
   "execution_count": 14,
   "metadata": {},
   "outputs": [
    {
     "output_type": "execute_result",
     "data": {
      "text/plain": [
       "Global High-Back Leather Tilter, Burgundy                                 24\n",
       "Bevis 36 x 72 Conference Tables                                           22\n",
       "Master Giant Foot® Doorstop, Safety Yellow                                22\n",
       "Fiskars® Softgrip Scissors                                                22\n",
       "BoxOffice By Design Rectangular and Half-Moon Meeting Room Tables         22\n",
       "                                                                          ..\n",
       "Eldon® Executive Woodline II Desk Accessories, Mahogany                    1\n",
       "Acco Smartsocket™ Table Surge Protector, 6 Color-Coded Adapter Outlets     1\n",
       "Colorific® Watercolor Pencils                                              1\n",
       "14-7/8 x 11 Blue Bar Computer Printout Paper                               1\n",
       "Verbatim DVD Rewritable Disc, Single-Sided, 4.7GB                          1\n",
       "Name: Product Name, Length: 1263, dtype: int64"
      ]
     },
     "metadata": {},
     "execution_count": 14
    }
   ],
   "source": [
    "# count the values \n",
    "order['Product Name'].value_counts()"
   ]
  },
  {
   "cell_type": "code",
   "execution_count": 32,
   "metadata": {},
   "outputs": [
    {
     "output_type": "execute_result",
     "data": {
      "text/plain": [
       "1263"
      ]
     },
     "metadata": {},
     "execution_count": 32
    }
   ],
   "source": [
    "# to find unique values \n",
    "order['Product Name'].nunique()"
   ]
  },
  {
   "cell_type": "code",
   "execution_count": 21,
   "metadata": {},
   "outputs": [
    {
     "output_type": "execute_result",
     "data": {
      "text/plain": [
       "Product Name\n",
       "Global Troy™ Executive Leather Low-Back Tilter                   275941.520\n",
       "Polycom ViewStation™ ISDN Videoconferencing Unit                 255303.970\n",
       "Canon PC940 Copier                                               210910.680\n",
       "Riverside Palais Royal Lawyers Bookcase, Royale Cherry Finish    206494.130\n",
       "Hewlett Packard LaserJet 3310 Copier                             194880.350\n",
       "Bretford CR8500 Series Meeting Room Furniture                    147412.212\n",
       "Sharp AL-1530CS Digital Copier                                   130046.810\n",
       "Hewlett-Packard cp1700 [D, PS] Series Color Inkjet Printers      128100.430\n",
       "GBC DocuBind 200 Manual Binding Machine                          120342.740\n",
       "Canon imageCLASS 2200 Advanced Copier                            114173.410\n",
       "Name: Sales, dtype: float64"
      ]
     },
     "metadata": {},
     "execution_count": 21
    }
   ],
   "source": [
    "order.groupby('Product Name').Sales.sum().nlargest(10)"
   ]
  },
  {
   "cell_type": "code",
   "execution_count": 22,
   "metadata": {},
   "outputs": [
    {
     "output_type": "execute_result",
     "data": {
      "text/plain": [
       "Product Name\n",
       "Alliance Rubber Bands                14.85\n",
       "Sony IBM Color Diskettes, 25/Pack    31.29\n",
       "*Staples* Packaging Labels           34.94\n",
       "Avery 482                            44.46\n",
       "Blackstonian Pencils                 50.07\n",
       "Name: Sales, dtype: float64"
      ]
     },
     "metadata": {},
     "execution_count": 22
    }
   ],
   "source": [
    "order.groupby('Product Name').Sales.sum().nsmallest()"
   ]
  },
  {
   "source": [
    "# groupby"
   ],
   "cell_type": "markdown",
   "metadata": {}
  },
  {
   "cell_type": "code",
   "execution_count": 47,
   "metadata": {},
   "outputs": [],
   "source": [
    "import pandas as pd "
   ]
  },
  {
   "cell_type": "code",
   "execution_count": 48,
   "metadata": {},
   "outputs": [
    {
     "output_type": "execute_result",
     "data": {
      "text/plain": [
       "   Row ID  Order ID Order Date Order Priority  Order Quantity   Sales  \\\n",
       "0       1         3 2010-10-13            Low               6  261.54   \n",
       "1       2         6 2012-02-20  Not Specified               2    6.93   \n",
       "\n",
       "   Discount    Ship Mode  Profit  Unit Price  ...       Customer Name  \\\n",
       "0      0.04  Regular Air -213.25       38.94  ...  Muhammed MacIntyre   \n",
       "1      0.01  Regular Air   -4.64        2.08  ...         Ruben Dartt   \n",
       "\n",
       "  Province   Region Customer Segment Product Category  \\\n",
       "0  Nunavut  Nunavut   Small Business  Office Supplies   \n",
       "1  Alberta     West        Corporate  Office Supplies   \n",
       "\n",
       "            Product Sub-Category  \\\n",
       "0         Storage & Organization   \n",
       "1  Scissors, Rulers and Trimmers   \n",
       "\n",
       "                                        Product Name Product Container  \\\n",
       "0   Eldon Base for stackable storage shelf, platinum         Large Box   \n",
       "1  Kleencut® Forged Office Shears by Acme United ...        Small Pack   \n",
       "\n",
       "  Product Base Margin  Ship Date  \n",
       "0                0.80 2010-10-20  \n",
       "1                0.55 2012-02-21  \n",
       "\n",
       "[2 rows x 21 columns]"
      ],
      "text/html": "<div>\n<style scoped>\n    .dataframe tbody tr th:only-of-type {\n        vertical-align: middle;\n    }\n\n    .dataframe tbody tr th {\n        vertical-align: top;\n    }\n\n    .dataframe thead th {\n        text-align: right;\n    }\n</style>\n<table border=\"1\" class=\"dataframe\">\n  <thead>\n    <tr style=\"text-align: right;\">\n      <th></th>\n      <th>Row ID</th>\n      <th>Order ID</th>\n      <th>Order Date</th>\n      <th>Order Priority</th>\n      <th>Order Quantity</th>\n      <th>Sales</th>\n      <th>Discount</th>\n      <th>Ship Mode</th>\n      <th>Profit</th>\n      <th>Unit Price</th>\n      <th>...</th>\n      <th>Customer Name</th>\n      <th>Province</th>\n      <th>Region</th>\n      <th>Customer Segment</th>\n      <th>Product Category</th>\n      <th>Product Sub-Category</th>\n      <th>Product Name</th>\n      <th>Product Container</th>\n      <th>Product Base Margin</th>\n      <th>Ship Date</th>\n    </tr>\n  </thead>\n  <tbody>\n    <tr>\n      <th>0</th>\n      <td>1</td>\n      <td>3</td>\n      <td>2010-10-13</td>\n      <td>Low</td>\n      <td>6</td>\n      <td>261.54</td>\n      <td>0.04</td>\n      <td>Regular Air</td>\n      <td>-213.25</td>\n      <td>38.94</td>\n      <td>...</td>\n      <td>Muhammed MacIntyre</td>\n      <td>Nunavut</td>\n      <td>Nunavut</td>\n      <td>Small Business</td>\n      <td>Office Supplies</td>\n      <td>Storage &amp; Organization</td>\n      <td>Eldon Base for stackable storage shelf, platinum</td>\n      <td>Large Box</td>\n      <td>0.80</td>\n      <td>2010-10-20</td>\n    </tr>\n    <tr>\n      <th>1</th>\n      <td>2</td>\n      <td>6</td>\n      <td>2012-02-20</td>\n      <td>Not Specified</td>\n      <td>2</td>\n      <td>6.93</td>\n      <td>0.01</td>\n      <td>Regular Air</td>\n      <td>-4.64</td>\n      <td>2.08</td>\n      <td>...</td>\n      <td>Ruben Dartt</td>\n      <td>Alberta</td>\n      <td>West</td>\n      <td>Corporate</td>\n      <td>Office Supplies</td>\n      <td>Scissors, Rulers and Trimmers</td>\n      <td>Kleencut® Forged Office Shears by Acme United ...</td>\n      <td>Small Pack</td>\n      <td>0.55</td>\n      <td>2012-02-21</td>\n    </tr>\n  </tbody>\n</table>\n<p>2 rows × 21 columns</p>\n</div>"
     },
     "metadata": {},
     "execution_count": 48
    }
   ],
   "source": [
    "order= pd.read_excel('Sample - Superstore Sales.xls',0) \n",
    "order.head(2)"
   ]
  },
  {
   "cell_type": "code",
   "execution_count": 54,
   "metadata": {},
   "outputs": [
    {
     "output_type": "execute_result",
     "data": {
      "text/plain": [
       "Order Priority\n",
       "Critical         2722810.12\n",
       "High             3266643.62\n",
       "Low              3266607.68\n",
       "Medium           2861737.66\n",
       "Not Specified    2778363.30\n",
       "Name: Sales, dtype: float64"
      ]
     },
     "metadata": {},
     "execution_count": 54
    }
   ],
   "source": [
    "#sum\n",
    "order.groupby('Order Priority').Sales.sum().round(2)\n"
   ]
  },
  {
   "cell_type": "code",
   "execution_count": 55,
   "metadata": {},
   "outputs": [
    {
     "output_type": "execute_result",
     "data": {
      "text/plain": [
       "Order Priority\n",
       "Critical         1697.51\n",
       "High             1849.74\n",
       "Low              1901.40\n",
       "Medium           1755.67\n",
       "Not Specified    1661.70\n",
       "Name: Sales, dtype: float64"
      ]
     },
     "metadata": {},
     "execution_count": 55
    }
   ],
   "source": [
    "# mean\n",
    "order.groupby('Order Priority').Sales.mean().round(2)"
   ]
  },
  {
   "cell_type": "code",
   "execution_count": 56,
   "metadata": {},
   "outputs": [
    {
     "output_type": "execute_result",
     "data": {
      "text/plain": [
       "Order Priority\n",
       "Critical         2.24\n",
       "High             3.41\n",
       "Low              3.63\n",
       "Medium           4.94\n",
       "Not Specified    3.85\n",
       "Name: Sales, dtype: float64"
      ]
     },
     "metadata": {},
     "execution_count": 56
    }
   ],
   "source": [
    "#min\n",
    "order.groupby('Order Priority').Sales.min()"
   ]
  },
  {
   "cell_type": "code",
   "execution_count": 57,
   "metadata": {},
   "outputs": [
    {
     "output_type": "execute_result",
     "data": {
      "text/plain": [
       "Order Priority\n",
       "Critical         41343.21\n",
       "High             28664.52\n",
       "Low              29884.60\n",
       "Medium           89061.05\n",
       "Not Specified    33367.85\n",
       "Name: Sales, dtype: float64"
      ]
     },
     "metadata": {},
     "execution_count": 57
    }
   ],
   "source": [
    "#max\n",
    "order.groupby('Order Priority').Sales.max()"
   ]
  },
  {
   "cell_type": "code",
   "execution_count": 58,
   "metadata": {},
   "outputs": [
    {
     "output_type": "execute_result",
     "data": {
      "text/plain": [
       "                       mean       max   min           sum\n",
       "Order Priority                                           \n",
       "Critical        1697.512545  41343.21  2.24  2.722810e+06\n",
       "High            1849.741575  28664.52  3.41  3.266644e+06\n",
       "Low             1901.401445  29884.60  3.63  3.266608e+06\n",
       "Medium          1755.667275  89061.05  4.94  2.861738e+06\n",
       "Not Specified   1661.700536  33367.85  3.85  2.778363e+06"
      ],
      "text/html": "<div>\n<style scoped>\n    .dataframe tbody tr th:only-of-type {\n        vertical-align: middle;\n    }\n\n    .dataframe tbody tr th {\n        vertical-align: top;\n    }\n\n    .dataframe thead th {\n        text-align: right;\n    }\n</style>\n<table border=\"1\" class=\"dataframe\">\n  <thead>\n    <tr style=\"text-align: right;\">\n      <th></th>\n      <th>mean</th>\n      <th>max</th>\n      <th>min</th>\n      <th>sum</th>\n    </tr>\n    <tr>\n      <th>Order Priority</th>\n      <th></th>\n      <th></th>\n      <th></th>\n      <th></th>\n    </tr>\n  </thead>\n  <tbody>\n    <tr>\n      <th>Critical</th>\n      <td>1697.512545</td>\n      <td>41343.21</td>\n      <td>2.24</td>\n      <td>2.722810e+06</td>\n    </tr>\n    <tr>\n      <th>High</th>\n      <td>1849.741575</td>\n      <td>28664.52</td>\n      <td>3.41</td>\n      <td>3.266644e+06</td>\n    </tr>\n    <tr>\n      <th>Low</th>\n      <td>1901.401445</td>\n      <td>29884.60</td>\n      <td>3.63</td>\n      <td>3.266608e+06</td>\n    </tr>\n    <tr>\n      <th>Medium</th>\n      <td>1755.667275</td>\n      <td>89061.05</td>\n      <td>4.94</td>\n      <td>2.861738e+06</td>\n    </tr>\n    <tr>\n      <th>Not Specified</th>\n      <td>1661.700536</td>\n      <td>33367.85</td>\n      <td>3.85</td>\n      <td>2.778363e+06</td>\n    </tr>\n  </tbody>\n</table>\n</div>"
     },
     "metadata": {},
     "execution_count": 58
    }
   ],
   "source": [
    "order.groupby('Order Priority').Sales.agg(['mean','max','min','sum'])"
   ]
  },
  {
   "cell_type": "code",
   "execution_count": 60,
   "metadata": {},
   "outputs": [
    {
     "output_type": "execute_result",
     "data": {
      "text/plain": [
       "                                  mean       max     min         sum\n",
       "Order Priority Ship Mode                                            \n",
       "Critical       Delivery Truck  5282.81  26133.39   72.46  1204481.04\n",
       "               Express Air     1169.06   7841.57   15.60   231474.53\n",
       "               Regular Air     1092.41  41343.21    2.24  1286854.55\n",
       "High           Delivery Truck  5712.88  28389.14  102.90  1416794.41\n",
       "               Express Air     1163.15  13064.06   24.16   246587.00\n",
       "               Regular Air     1227.61  28664.52    3.41  1603262.21\n",
       "Low            Delivery Truck  5706.05  29345.27  131.27  1415099.62\n",
       "               Express Air     1146.32  23949.51   10.17   217800.60\n",
       "               Regular Air     1276.33  29884.60    3.63  1633707.46\n",
       "Medium         Delivery Truck  5084.79  25313.34  121.62  1042382.54\n",
       "               Express Air     1395.11  24051.49   14.85   280417.79\n",
       "               Regular Air     1257.30  89061.05    4.94  1538937.33\n",
       "Not Specified  Delivery Truck  5256.27  29186.49   73.44  1130098.41\n",
       "               Express Air     1151.92  19109.61    7.96   207344.94\n",
       "               Regular Air     1128.36  33367.85    3.85  1440919.95"
      ],
      "text/html": "<div>\n<style scoped>\n    .dataframe tbody tr th:only-of-type {\n        vertical-align: middle;\n    }\n\n    .dataframe tbody tr th {\n        vertical-align: top;\n    }\n\n    .dataframe thead th {\n        text-align: right;\n    }\n</style>\n<table border=\"1\" class=\"dataframe\">\n  <thead>\n    <tr style=\"text-align: right;\">\n      <th></th>\n      <th></th>\n      <th>mean</th>\n      <th>max</th>\n      <th>min</th>\n      <th>sum</th>\n    </tr>\n    <tr>\n      <th>Order Priority</th>\n      <th>Ship Mode</th>\n      <th></th>\n      <th></th>\n      <th></th>\n      <th></th>\n    </tr>\n  </thead>\n  <tbody>\n    <tr>\n      <th rowspan=\"3\" valign=\"top\">Critical</th>\n      <th>Delivery Truck</th>\n      <td>5282.81</td>\n      <td>26133.39</td>\n      <td>72.46</td>\n      <td>1204481.04</td>\n    </tr>\n    <tr>\n      <th>Express Air</th>\n      <td>1169.06</td>\n      <td>7841.57</td>\n      <td>15.60</td>\n      <td>231474.53</td>\n    </tr>\n    <tr>\n      <th>Regular Air</th>\n      <td>1092.41</td>\n      <td>41343.21</td>\n      <td>2.24</td>\n      <td>1286854.55</td>\n    </tr>\n    <tr>\n      <th rowspan=\"3\" valign=\"top\">High</th>\n      <th>Delivery Truck</th>\n      <td>5712.88</td>\n      <td>28389.14</td>\n      <td>102.90</td>\n      <td>1416794.41</td>\n    </tr>\n    <tr>\n      <th>Express Air</th>\n      <td>1163.15</td>\n      <td>13064.06</td>\n      <td>24.16</td>\n      <td>246587.00</td>\n    </tr>\n    <tr>\n      <th>Regular Air</th>\n      <td>1227.61</td>\n      <td>28664.52</td>\n      <td>3.41</td>\n      <td>1603262.21</td>\n    </tr>\n    <tr>\n      <th rowspan=\"3\" valign=\"top\">Low</th>\n      <th>Delivery Truck</th>\n      <td>5706.05</td>\n      <td>29345.27</td>\n      <td>131.27</td>\n      <td>1415099.62</td>\n    </tr>\n    <tr>\n      <th>Express Air</th>\n      <td>1146.32</td>\n      <td>23949.51</td>\n      <td>10.17</td>\n      <td>217800.60</td>\n    </tr>\n    <tr>\n      <th>Regular Air</th>\n      <td>1276.33</td>\n      <td>29884.60</td>\n      <td>3.63</td>\n      <td>1633707.46</td>\n    </tr>\n    <tr>\n      <th rowspan=\"3\" valign=\"top\">Medium</th>\n      <th>Delivery Truck</th>\n      <td>5084.79</td>\n      <td>25313.34</td>\n      <td>121.62</td>\n      <td>1042382.54</td>\n    </tr>\n    <tr>\n      <th>Express Air</th>\n      <td>1395.11</td>\n      <td>24051.49</td>\n      <td>14.85</td>\n      <td>280417.79</td>\n    </tr>\n    <tr>\n      <th>Regular Air</th>\n      <td>1257.30</td>\n      <td>89061.05</td>\n      <td>4.94</td>\n      <td>1538937.33</td>\n    </tr>\n    <tr>\n      <th rowspan=\"3\" valign=\"top\">Not Specified</th>\n      <th>Delivery Truck</th>\n      <td>5256.27</td>\n      <td>29186.49</td>\n      <td>73.44</td>\n      <td>1130098.41</td>\n    </tr>\n    <tr>\n      <th>Express Air</th>\n      <td>1151.92</td>\n      <td>19109.61</td>\n      <td>7.96</td>\n      <td>207344.94</td>\n    </tr>\n    <tr>\n      <th>Regular Air</th>\n      <td>1128.36</td>\n      <td>33367.85</td>\n      <td>3.85</td>\n      <td>1440919.95</td>\n    </tr>\n  </tbody>\n</table>\n</div>"
     },
     "metadata": {},
     "execution_count": 60
    }
   ],
   "source": [
    "order.groupby(['Order Priority','Ship Mode']).Sales.agg(['mean','max','min','sum']).round(2)"
   ]
  },
  {
   "cell_type": "code",
   "execution_count": 63,
   "metadata": {},
   "outputs": [
    {
     "output_type": "execute_result",
     "data": {
      "text/plain": [
       "                                Row ID  Order ID  Order Quantity  \\\n",
       "Order Priority Ship Mode                                           \n",
       "Critical       Delivery Truck  1005785   7178723            5625   \n",
       "               Express Air      833409   5946279            4936   \n",
       "               Regular Air     4839368  34520491           30053   \n",
       "High           Delivery Truck  1028947   7345589            6194   \n",
       "               Express Air      936831   6686125            5338   \n",
       "               Regular Air     5584948  39844940           34085   \n",
       "Low            Delivery Truck   997392   7116559            6575   \n",
       "               Express Air      774768   5526142            5066   \n",
       "               Regular Air     5303332  37837218           32671   \n",
       "Medium         Delivery Truck   863206   6158552            5182   \n",
       "               Express Air      943801   6730707            5101   \n",
       "               Regular Air     5208529  37162885           31034   \n",
       "Not Specified  Delivery Truck   890465   6352951            5129   \n",
       "               Express Air      747049   5330296            4874   \n",
       "               Regular Air     5242415  37400406           32624   \n",
       "\n",
       "                                      Sales  Discount         Profit  \\\n",
       "Order Priority Ship Mode                                               \n",
       "Critical       Delivery Truck  1.204481e+06     11.28  -16832.081830   \n",
       "               Express Air     2.314745e+05     10.07   34304.444321   \n",
       "               Regular Air     1.286855e+06     58.66  165425.375279   \n",
       "High           Delivery Truck  1.416794e+06     12.27   78286.420479   \n",
       "               Express Air     2.465870e+05     10.16   40461.818400   \n",
       "               Regular Air     1.603262e+06     64.98  288202.833630   \n",
       "Low            Delivery Truck  1.415100e+06     12.85   95323.492001   \n",
       "               Express Air     2.178006e+05      9.44   26488.452250   \n",
       "               Regular Air     1.633707e+06     64.21  261530.233931   \n",
       "Medium         Delivery Truck  1.042383e+06     10.37   65383.579939   \n",
       "               Express Air     2.804178e+05     10.74   33265.874200   \n",
       "               Regular Air     1.538937e+06     60.70  228670.895239   \n",
       "Not Specified  Delivery Truck  1.130098e+06     10.16   44640.766692   \n",
       "               Express Air     2.073449e+05      8.58   12950.968500   \n",
       "               Regular Air     1.440920e+06     62.32  160993.193050   \n",
       "\n",
       "                               Unit Price  Shipping Cost  Product Base Margin  \n",
       "Order Priority Ship Mode                                                       \n",
       "Critical       Delivery Truck    64310.99       10783.82               140.06  \n",
       "               Express Air       10195.60        1728.02                98.75  \n",
       "               Regular Air       66642.36        8571.89               576.96  \n",
       "High           Delivery Truck    71302.76       11206.88               150.72  \n",
       "               Express Air       10101.71        1453.53               104.97  \n",
       "               Regular Air       75456.92        9992.37               644.27  \n",
       "Low            Delivery Truck    60346.34       11087.81               151.09  \n",
       "               Express Air        9651.64        1551.63                93.35  \n",
       "               Regular Air       73870.77       10263.62               635.56  \n",
       "Medium         Delivery Truck    44246.03        9461.62               128.28  \n",
       "               Express Air       17993.19        1633.59                99.51  \n",
       "               Regular Air       86769.07        9409.73               595.56  \n",
       "Not Specified  Delivery Truck    61364.95        9388.01               130.27  \n",
       "               Express Air        8035.80        1470.06                92.93  \n",
       "               Regular Air       89396.45        9734.08               625.34  "
      ],
      "text/html": "<div>\n<style scoped>\n    .dataframe tbody tr th:only-of-type {\n        vertical-align: middle;\n    }\n\n    .dataframe tbody tr th {\n        vertical-align: top;\n    }\n\n    .dataframe thead th {\n        text-align: right;\n    }\n</style>\n<table border=\"1\" class=\"dataframe\">\n  <thead>\n    <tr style=\"text-align: right;\">\n      <th></th>\n      <th></th>\n      <th>Row ID</th>\n      <th>Order ID</th>\n      <th>Order Quantity</th>\n      <th>Sales</th>\n      <th>Discount</th>\n      <th>Profit</th>\n      <th>Unit Price</th>\n      <th>Shipping Cost</th>\n      <th>Product Base Margin</th>\n    </tr>\n    <tr>\n      <th>Order Priority</th>\n      <th>Ship Mode</th>\n      <th></th>\n      <th></th>\n      <th></th>\n      <th></th>\n      <th></th>\n      <th></th>\n      <th></th>\n      <th></th>\n      <th></th>\n    </tr>\n  </thead>\n  <tbody>\n    <tr>\n      <th rowspan=\"3\" valign=\"top\">Critical</th>\n      <th>Delivery Truck</th>\n      <td>1005785</td>\n      <td>7178723</td>\n      <td>5625</td>\n      <td>1.204481e+06</td>\n      <td>11.28</td>\n      <td>-16832.081830</td>\n      <td>64310.99</td>\n      <td>10783.82</td>\n      <td>140.06</td>\n    </tr>\n    <tr>\n      <th>Express Air</th>\n      <td>833409</td>\n      <td>5946279</td>\n      <td>4936</td>\n      <td>2.314745e+05</td>\n      <td>10.07</td>\n      <td>34304.444321</td>\n      <td>10195.60</td>\n      <td>1728.02</td>\n      <td>98.75</td>\n    </tr>\n    <tr>\n      <th>Regular Air</th>\n      <td>4839368</td>\n      <td>34520491</td>\n      <td>30053</td>\n      <td>1.286855e+06</td>\n      <td>58.66</td>\n      <td>165425.375279</td>\n      <td>66642.36</td>\n      <td>8571.89</td>\n      <td>576.96</td>\n    </tr>\n    <tr>\n      <th rowspan=\"3\" valign=\"top\">High</th>\n      <th>Delivery Truck</th>\n      <td>1028947</td>\n      <td>7345589</td>\n      <td>6194</td>\n      <td>1.416794e+06</td>\n      <td>12.27</td>\n      <td>78286.420479</td>\n      <td>71302.76</td>\n      <td>11206.88</td>\n      <td>150.72</td>\n    </tr>\n    <tr>\n      <th>Express Air</th>\n      <td>936831</td>\n      <td>6686125</td>\n      <td>5338</td>\n      <td>2.465870e+05</td>\n      <td>10.16</td>\n      <td>40461.818400</td>\n      <td>10101.71</td>\n      <td>1453.53</td>\n      <td>104.97</td>\n    </tr>\n    <tr>\n      <th>Regular Air</th>\n      <td>5584948</td>\n      <td>39844940</td>\n      <td>34085</td>\n      <td>1.603262e+06</td>\n      <td>64.98</td>\n      <td>288202.833630</td>\n      <td>75456.92</td>\n      <td>9992.37</td>\n      <td>644.27</td>\n    </tr>\n    <tr>\n      <th rowspan=\"3\" valign=\"top\">Low</th>\n      <th>Delivery Truck</th>\n      <td>997392</td>\n      <td>7116559</td>\n      <td>6575</td>\n      <td>1.415100e+06</td>\n      <td>12.85</td>\n      <td>95323.492001</td>\n      <td>60346.34</td>\n      <td>11087.81</td>\n      <td>151.09</td>\n    </tr>\n    <tr>\n      <th>Express Air</th>\n      <td>774768</td>\n      <td>5526142</td>\n      <td>5066</td>\n      <td>2.178006e+05</td>\n      <td>9.44</td>\n      <td>26488.452250</td>\n      <td>9651.64</td>\n      <td>1551.63</td>\n      <td>93.35</td>\n    </tr>\n    <tr>\n      <th>Regular Air</th>\n      <td>5303332</td>\n      <td>37837218</td>\n      <td>32671</td>\n      <td>1.633707e+06</td>\n      <td>64.21</td>\n      <td>261530.233931</td>\n      <td>73870.77</td>\n      <td>10263.62</td>\n      <td>635.56</td>\n    </tr>\n    <tr>\n      <th rowspan=\"3\" valign=\"top\">Medium</th>\n      <th>Delivery Truck</th>\n      <td>863206</td>\n      <td>6158552</td>\n      <td>5182</td>\n      <td>1.042383e+06</td>\n      <td>10.37</td>\n      <td>65383.579939</td>\n      <td>44246.03</td>\n      <td>9461.62</td>\n      <td>128.28</td>\n    </tr>\n    <tr>\n      <th>Express Air</th>\n      <td>943801</td>\n      <td>6730707</td>\n      <td>5101</td>\n      <td>2.804178e+05</td>\n      <td>10.74</td>\n      <td>33265.874200</td>\n      <td>17993.19</td>\n      <td>1633.59</td>\n      <td>99.51</td>\n    </tr>\n    <tr>\n      <th>Regular Air</th>\n      <td>5208529</td>\n      <td>37162885</td>\n      <td>31034</td>\n      <td>1.538937e+06</td>\n      <td>60.70</td>\n      <td>228670.895239</td>\n      <td>86769.07</td>\n      <td>9409.73</td>\n      <td>595.56</td>\n    </tr>\n    <tr>\n      <th rowspan=\"3\" valign=\"top\">Not Specified</th>\n      <th>Delivery Truck</th>\n      <td>890465</td>\n      <td>6352951</td>\n      <td>5129</td>\n      <td>1.130098e+06</td>\n      <td>10.16</td>\n      <td>44640.766692</td>\n      <td>61364.95</td>\n      <td>9388.01</td>\n      <td>130.27</td>\n    </tr>\n    <tr>\n      <th>Express Air</th>\n      <td>747049</td>\n      <td>5330296</td>\n      <td>4874</td>\n      <td>2.073449e+05</td>\n      <td>8.58</td>\n      <td>12950.968500</td>\n      <td>8035.80</td>\n      <td>1470.06</td>\n      <td>92.93</td>\n    </tr>\n    <tr>\n      <th>Regular Air</th>\n      <td>5242415</td>\n      <td>37400406</td>\n      <td>32624</td>\n      <td>1.440920e+06</td>\n      <td>62.32</td>\n      <td>160993.193050</td>\n      <td>89396.45</td>\n      <td>9734.08</td>\n      <td>625.34</td>\n    </tr>\n  </tbody>\n</table>\n</div>"
     },
     "metadata": {},
     "execution_count": 63
    }
   ],
   "source": [
    "order.groupby(['Order Priority','Ship Mode']).sum()"
   ]
  },
  {
   "source": [
    "# string opprations"
   ],
   "cell_type": "markdown",
   "metadata": {}
  },
  {
   "cell_type": "code",
   "execution_count": 64,
   "metadata": {},
   "outputs": [],
   "source": [
    "import pandas as pd "
   ]
  },
  {
   "cell_type": "code",
   "execution_count": 67,
   "metadata": {},
   "outputs": [
    {
     "output_type": "execute_result",
     "data": {
      "text/plain": [
       "   Row ID  Order ID Order Date Order Priority  Order Quantity      Sales  \\\n",
       "0       1         3 2010-10-13            Low               6   261.5400   \n",
       "1       2         6 2012-02-20  Not Specified               2     6.9300   \n",
       "2       3        32 2011-07-15           High              26  2808.0800   \n",
       "3       4        32 2011-07-15           High              24  1761.4000   \n",
       "4       5        32 2011-07-15           High              23   160.2335   \n",
       "\n",
       "   Discount       Ship Mode    Profit  Unit Price  ...       Customer Name  \\\n",
       "0      0.04     Regular Air  -213.250       38.94  ...  Muhammed MacIntyre   \n",
       "1      0.01     Regular Air    -4.640        2.08  ...         Ruben Dartt   \n",
       "2      0.07     Regular Air  1054.820      107.53  ...       Liz Pelletier   \n",
       "3      0.09  Delivery Truck -1748.560       70.89  ...       Liz Pelletier   \n",
       "4      0.04     Regular Air   -85.129        7.99  ...       Liz Pelletier   \n",
       "\n",
       "  Province   Region Customer Segment Product Category  \\\n",
       "0  Nunavut  Nunavut   Small Business  Office Supplies   \n",
       "1  Alberta     West        Corporate  Office Supplies   \n",
       "2  Alberta     West        Corporate        Furniture   \n",
       "3  Alberta     West        Corporate        Furniture   \n",
       "4  Alberta     West        Corporate       Technology   \n",
       "\n",
       "            Product Sub-Category  \\\n",
       "0         Storage & Organization   \n",
       "1  Scissors, Rulers and Trimmers   \n",
       "2             Office Furnishings   \n",
       "3                         Tables   \n",
       "4   Telephones and Communication   \n",
       "\n",
       "                                        Product Name Product Container  \\\n",
       "0   Eldon Base for stackable storage shelf, platinum         Large Box   \n",
       "1  Kleencut® Forged Office Shears by Acme United ...        Small Pack   \n",
       "2  Tenex Contemporary Contur Chairmats for Low an...        Medium Box   \n",
       "3                               KI Conference Tables         Jumbo Box   \n",
       "4                       Bell Sonecor JB700 Caller ID        Medium Box   \n",
       "\n",
       "  Product Base Margin  Ship Date  \n",
       "0                0.80 2010-10-20  \n",
       "1                0.55 2012-02-21  \n",
       "2                0.65 2011-07-17  \n",
       "3                0.72 2011-07-16  \n",
       "4                0.60 2011-07-17  \n",
       "\n",
       "[5 rows x 21 columns]"
      ],
      "text/html": "<div>\n<style scoped>\n    .dataframe tbody tr th:only-of-type {\n        vertical-align: middle;\n    }\n\n    .dataframe tbody tr th {\n        vertical-align: top;\n    }\n\n    .dataframe thead th {\n        text-align: right;\n    }\n</style>\n<table border=\"1\" class=\"dataframe\">\n  <thead>\n    <tr style=\"text-align: right;\">\n      <th></th>\n      <th>Row ID</th>\n      <th>Order ID</th>\n      <th>Order Date</th>\n      <th>Order Priority</th>\n      <th>Order Quantity</th>\n      <th>Sales</th>\n      <th>Discount</th>\n      <th>Ship Mode</th>\n      <th>Profit</th>\n      <th>Unit Price</th>\n      <th>...</th>\n      <th>Customer Name</th>\n      <th>Province</th>\n      <th>Region</th>\n      <th>Customer Segment</th>\n      <th>Product Category</th>\n      <th>Product Sub-Category</th>\n      <th>Product Name</th>\n      <th>Product Container</th>\n      <th>Product Base Margin</th>\n      <th>Ship Date</th>\n    </tr>\n  </thead>\n  <tbody>\n    <tr>\n      <th>0</th>\n      <td>1</td>\n      <td>3</td>\n      <td>2010-10-13</td>\n      <td>Low</td>\n      <td>6</td>\n      <td>261.5400</td>\n      <td>0.04</td>\n      <td>Regular Air</td>\n      <td>-213.250</td>\n      <td>38.94</td>\n      <td>...</td>\n      <td>Muhammed MacIntyre</td>\n      <td>Nunavut</td>\n      <td>Nunavut</td>\n      <td>Small Business</td>\n      <td>Office Supplies</td>\n      <td>Storage &amp; Organization</td>\n      <td>Eldon Base for stackable storage shelf, platinum</td>\n      <td>Large Box</td>\n      <td>0.80</td>\n      <td>2010-10-20</td>\n    </tr>\n    <tr>\n      <th>1</th>\n      <td>2</td>\n      <td>6</td>\n      <td>2012-02-20</td>\n      <td>Not Specified</td>\n      <td>2</td>\n      <td>6.9300</td>\n      <td>0.01</td>\n      <td>Regular Air</td>\n      <td>-4.640</td>\n      <td>2.08</td>\n      <td>...</td>\n      <td>Ruben Dartt</td>\n      <td>Alberta</td>\n      <td>West</td>\n      <td>Corporate</td>\n      <td>Office Supplies</td>\n      <td>Scissors, Rulers and Trimmers</td>\n      <td>Kleencut® Forged Office Shears by Acme United ...</td>\n      <td>Small Pack</td>\n      <td>0.55</td>\n      <td>2012-02-21</td>\n    </tr>\n    <tr>\n      <th>2</th>\n      <td>3</td>\n      <td>32</td>\n      <td>2011-07-15</td>\n      <td>High</td>\n      <td>26</td>\n      <td>2808.0800</td>\n      <td>0.07</td>\n      <td>Regular Air</td>\n      <td>1054.820</td>\n      <td>107.53</td>\n      <td>...</td>\n      <td>Liz Pelletier</td>\n      <td>Alberta</td>\n      <td>West</td>\n      <td>Corporate</td>\n      <td>Furniture</td>\n      <td>Office Furnishings</td>\n      <td>Tenex Contemporary Contur Chairmats for Low an...</td>\n      <td>Medium Box</td>\n      <td>0.65</td>\n      <td>2011-07-17</td>\n    </tr>\n    <tr>\n      <th>3</th>\n      <td>4</td>\n      <td>32</td>\n      <td>2011-07-15</td>\n      <td>High</td>\n      <td>24</td>\n      <td>1761.4000</td>\n      <td>0.09</td>\n      <td>Delivery Truck</td>\n      <td>-1748.560</td>\n      <td>70.89</td>\n      <td>...</td>\n      <td>Liz Pelletier</td>\n      <td>Alberta</td>\n      <td>West</td>\n      <td>Corporate</td>\n      <td>Furniture</td>\n      <td>Tables</td>\n      <td>KI Conference Tables</td>\n      <td>Jumbo Box</td>\n      <td>0.72</td>\n      <td>2011-07-16</td>\n    </tr>\n    <tr>\n      <th>4</th>\n      <td>5</td>\n      <td>32</td>\n      <td>2011-07-15</td>\n      <td>High</td>\n      <td>23</td>\n      <td>160.2335</td>\n      <td>0.04</td>\n      <td>Regular Air</td>\n      <td>-85.129</td>\n      <td>7.99</td>\n      <td>...</td>\n      <td>Liz Pelletier</td>\n      <td>Alberta</td>\n      <td>West</td>\n      <td>Corporate</td>\n      <td>Technology</td>\n      <td>Telephones and Communication</td>\n      <td>Bell Sonecor JB700 Caller ID</td>\n      <td>Medium Box</td>\n      <td>0.60</td>\n      <td>2011-07-17</td>\n    </tr>\n  </tbody>\n</table>\n<p>5 rows × 21 columns</p>\n</div>"
     },
     "metadata": {},
     "execution_count": 67
    }
   ],
   "source": [
    "order= pd.read_excel('Sample - Superstore Sales.xls',0)\n",
    "order.head()"
   ]
  },
  {
   "cell_type": "code",
   "execution_count": 70,
   "metadata": {},
   "outputs": [
    {
     "output_type": "execute_result",
     "data": {
      "text/plain": [
       "array(['Low', 'Not Specified', 'High', 'Critical', 'Medium'], dtype=object)"
      ]
     },
     "metadata": {},
     "execution_count": 70
    }
   ],
   "source": [
    "#unique values\n",
    "order['Order Priority'].unique()"
   ]
  },
  {
   "cell_type": "code",
   "execution_count": 71,
   "metadata": {},
   "outputs": [
    {
     "output_type": "execute_result",
     "data": {
      "text/plain": [
       "5"
      ]
     },
     "metadata": {},
     "execution_count": 71
    }
   ],
   "source": [
    "#unique count of values\n",
    "order['Order Priority'].nunique()"
   ]
  },
  {
   "cell_type": "code",
   "execution_count": 72,
   "metadata": {},
   "outputs": [
    {
     "output_type": "execute_result",
     "data": {
      "text/plain": [
       "0                 LOW\n",
       "1       NOT SPECIFIED\n",
       "2                HIGH\n",
       "3                HIGH\n",
       "4                HIGH\n",
       "            ...      \n",
       "8385              LOW\n",
       "8386              LOW\n",
       "8387    NOT SPECIFIED\n",
       "8388             HIGH\n",
       "8389           MEDIUM\n",
       "Name: Order Priority, Length: 8390, dtype: object"
      ]
     },
     "metadata": {},
     "execution_count": 72
    }
   ],
   "source": [
    "# to upper case\n",
    "order['Order Priority'].str.upper()"
   ]
  },
  {
   "cell_type": "code",
   "execution_count": 73,
   "metadata": {},
   "outputs": [
    {
     "output_type": "execute_result",
     "data": {
      "text/plain": [
       "0                 low\n",
       "1       not specified\n",
       "2                high\n",
       "3                high\n",
       "4                high\n",
       "            ...      \n",
       "8385              low\n",
       "8386              low\n",
       "8387    not specified\n",
       "8388             high\n",
       "8389           medium\n",
       "Name: Order Priority, Length: 8390, dtype: object"
      ]
     },
     "metadata": {},
     "execution_count": 73
    }
   ],
   "source": [
    "# to lower case\n",
    "order['Order Priority'].str.lower()"
   ]
  },
  {
   "cell_type": "code",
   "execution_count": 75,
   "metadata": {},
   "outputs": [
    {
     "output_type": "execute_result",
     "data": {
      "text/plain": [
       "0              low\n",
       "1    not specified\n",
       "2             high\n",
       "3             high\n",
       "4             high\n",
       "Name: Order Priority, dtype: object"
      ]
     },
     "metadata": {},
     "execution_count": 75
    }
   ],
   "source": [
    "# to store in the data frame \n",
    "order['Order Priority']=order['Order Priority'].str.lower()\n",
    "order['Order Priority'].head()"
   ]
  },
  {
   "cell_type": "code",
   "execution_count": 76,
   "metadata": {},
   "outputs": [
    {
     "output_type": "execute_result",
     "data": {
      "text/plain": [
       "0                 Low\n",
       "1       Not Specified\n",
       "2                High\n",
       "3                High\n",
       "4                High\n",
       "            ...      \n",
       "8385              Low\n",
       "8386              Low\n",
       "8387    Not Specified\n",
       "8388             High\n",
       "8389           Medium\n",
       "Name: Order Priority, Length: 8390, dtype: object"
      ]
     },
     "metadata": {},
     "execution_count": 76
    }
   ],
   "source": [
    "# to title case\n",
    "order['Order Priority'].str.title()"
   ]
  },
  {
   "cell_type": "code",
   "execution_count": 82,
   "metadata": {},
   "outputs": [
    {
     "output_type": "execute_result",
     "data": {
      "text/plain": [
       "0        3\n",
       "1       13\n",
       "2        4\n",
       "3        4\n",
       "4        4\n",
       "        ..\n",
       "8385     3\n",
       "8386     3\n",
       "8387    13\n",
       "8388     4\n",
       "8389     6\n",
       "Name: Order Priority, Length: 8390, dtype: int64"
      ]
     },
     "metadata": {},
     "execution_count": 82
    }
   ],
   "source": [
    "#lenth off string\n",
    "order['Order Priority'].str.len() "
   ]
  },
  {
   "cell_type": "code",
   "execution_count": 83,
   "metadata": {},
   "outputs": [
    {
     "output_type": "execute_result",
     "data": {
      "text/plain": [
       "0       True\n",
       "1       True\n",
       "2       True\n",
       "3       True\n",
       "4       True\n",
       "        ... \n",
       "8385    True\n",
       "8386    True\n",
       "8387    True\n",
       "8388    True\n",
       "8389    True\n",
       "Name: Order Priority, Length: 8390, dtype: bool"
      ]
     },
     "metadata": {},
     "execution_count": 83
    }
   ],
   "source": [
    "# islower, isupper, istitle\n",
    "order['Order Priority'].str.islower()"
   ]
  },
  {
   "cell_type": "code",
   "execution_count": 87,
   "metadata": {},
   "outputs": [
    {
     "output_type": "execute_result",
     "data": {
      "text/plain": [
       "0       False\n",
       "1        True\n",
       "2       False\n",
       "3       False\n",
       "4       False\n",
       "        ...  \n",
       "8385    False\n",
       "8386    False\n",
       "8387     True\n",
       "8388    False\n",
       "8389    False\n",
       "Name: Order Priority, Length: 8390, dtype: bool"
      ]
     },
     "metadata": {},
     "execution_count": 87
    }
   ],
   "source": [
    "#contains\n",
    "order['Order Priority'].str.contains('not')"
   ]
  },
  {
   "cell_type": "code",
   "execution_count": 92,
   "metadata": {},
   "outputs": [
    {
     "output_type": "execute_result",
     "data": {
      "text/plain": [
       "array(['low', 'non specified', 'high', 'critical', 'medium'], dtype=object)"
      ]
     },
     "metadata": {},
     "execution_count": 92
    }
   ],
   "source": [
    "#replace\n",
    "order['Order Priority'].str.replace('not','non').unique()\n"
   ]
  },
  {
   "source": [
    "#  pivit table "
   ],
   "cell_type": "markdown",
   "metadata": {}
  },
  {
   "cell_type": "code",
   "execution_count": 93,
   "metadata": {},
   "outputs": [],
   "source": [
    "import pandas as pd \n",
    "import numpy as np"
   ]
  },
  {
   "cell_type": "code",
   "execution_count": 95,
   "metadata": {},
   "outputs": [
    {
     "output_type": "execute_result",
     "data": {
      "text/plain": [
       "   Row ID  Order ID Order Date Order Priority  Order Quantity      Sales  \\\n",
       "0       1         3 2010-10-13            Low               6   261.5400   \n",
       "1       2         6 2012-02-20  Not Specified               2     6.9300   \n",
       "2       3        32 2011-07-15           High              26  2808.0800   \n",
       "3       4        32 2011-07-15           High              24  1761.4000   \n",
       "4       5        32 2011-07-15           High              23   160.2335   \n",
       "\n",
       "   Discount       Ship Mode    Profit  Unit Price  ...       Customer Name  \\\n",
       "0      0.04     Regular Air  -213.250       38.94  ...  Muhammed MacIntyre   \n",
       "1      0.01     Regular Air    -4.640        2.08  ...         Ruben Dartt   \n",
       "2      0.07     Regular Air  1054.820      107.53  ...       Liz Pelletier   \n",
       "3      0.09  Delivery Truck -1748.560       70.89  ...       Liz Pelletier   \n",
       "4      0.04     Regular Air   -85.129        7.99  ...       Liz Pelletier   \n",
       "\n",
       "  Province   Region Customer Segment Product Category  \\\n",
       "0  Nunavut  Nunavut   Small Business  Office Supplies   \n",
       "1  Alberta     West        Corporate  Office Supplies   \n",
       "2  Alberta     West        Corporate        Furniture   \n",
       "3  Alberta     West        Corporate        Furniture   \n",
       "4  Alberta     West        Corporate       Technology   \n",
       "\n",
       "            Product Sub-Category  \\\n",
       "0         Storage & Organization   \n",
       "1  Scissors, Rulers and Trimmers   \n",
       "2             Office Furnishings   \n",
       "3                         Tables   \n",
       "4   Telephones and Communication   \n",
       "\n",
       "                                        Product Name Product Container  \\\n",
       "0   Eldon Base for stackable storage shelf, platinum         Large Box   \n",
       "1  Kleencut® Forged Office Shears by Acme United ...        Small Pack   \n",
       "2  Tenex Contemporary Contur Chairmats for Low an...        Medium Box   \n",
       "3                               KI Conference Tables         Jumbo Box   \n",
       "4                       Bell Sonecor JB700 Caller ID        Medium Box   \n",
       "\n",
       "  Product Base Margin  Ship Date  \n",
       "0                0.80 2010-10-20  \n",
       "1                0.55 2012-02-21  \n",
       "2                0.65 2011-07-17  \n",
       "3                0.72 2011-07-16  \n",
       "4                0.60 2011-07-17  \n",
       "\n",
       "[5 rows x 21 columns]"
      ],
      "text/html": "<div>\n<style scoped>\n    .dataframe tbody tr th:only-of-type {\n        vertical-align: middle;\n    }\n\n    .dataframe tbody tr th {\n        vertical-align: top;\n    }\n\n    .dataframe thead th {\n        text-align: right;\n    }\n</style>\n<table border=\"1\" class=\"dataframe\">\n  <thead>\n    <tr style=\"text-align: right;\">\n      <th></th>\n      <th>Row ID</th>\n      <th>Order ID</th>\n      <th>Order Date</th>\n      <th>Order Priority</th>\n      <th>Order Quantity</th>\n      <th>Sales</th>\n      <th>Discount</th>\n      <th>Ship Mode</th>\n      <th>Profit</th>\n      <th>Unit Price</th>\n      <th>...</th>\n      <th>Customer Name</th>\n      <th>Province</th>\n      <th>Region</th>\n      <th>Customer Segment</th>\n      <th>Product Category</th>\n      <th>Product Sub-Category</th>\n      <th>Product Name</th>\n      <th>Product Container</th>\n      <th>Product Base Margin</th>\n      <th>Ship Date</th>\n    </tr>\n  </thead>\n  <tbody>\n    <tr>\n      <th>0</th>\n      <td>1</td>\n      <td>3</td>\n      <td>2010-10-13</td>\n      <td>Low</td>\n      <td>6</td>\n      <td>261.5400</td>\n      <td>0.04</td>\n      <td>Regular Air</td>\n      <td>-213.250</td>\n      <td>38.94</td>\n      <td>...</td>\n      <td>Muhammed MacIntyre</td>\n      <td>Nunavut</td>\n      <td>Nunavut</td>\n      <td>Small Business</td>\n      <td>Office Supplies</td>\n      <td>Storage &amp; Organization</td>\n      <td>Eldon Base for stackable storage shelf, platinum</td>\n      <td>Large Box</td>\n      <td>0.80</td>\n      <td>2010-10-20</td>\n    </tr>\n    <tr>\n      <th>1</th>\n      <td>2</td>\n      <td>6</td>\n      <td>2012-02-20</td>\n      <td>Not Specified</td>\n      <td>2</td>\n      <td>6.9300</td>\n      <td>0.01</td>\n      <td>Regular Air</td>\n      <td>-4.640</td>\n      <td>2.08</td>\n      <td>...</td>\n      <td>Ruben Dartt</td>\n      <td>Alberta</td>\n      <td>West</td>\n      <td>Corporate</td>\n      <td>Office Supplies</td>\n      <td>Scissors, Rulers and Trimmers</td>\n      <td>Kleencut® Forged Office Shears by Acme United ...</td>\n      <td>Small Pack</td>\n      <td>0.55</td>\n      <td>2012-02-21</td>\n    </tr>\n    <tr>\n      <th>2</th>\n      <td>3</td>\n      <td>32</td>\n      <td>2011-07-15</td>\n      <td>High</td>\n      <td>26</td>\n      <td>2808.0800</td>\n      <td>0.07</td>\n      <td>Regular Air</td>\n      <td>1054.820</td>\n      <td>107.53</td>\n      <td>...</td>\n      <td>Liz Pelletier</td>\n      <td>Alberta</td>\n      <td>West</td>\n      <td>Corporate</td>\n      <td>Furniture</td>\n      <td>Office Furnishings</td>\n      <td>Tenex Contemporary Contur Chairmats for Low an...</td>\n      <td>Medium Box</td>\n      <td>0.65</td>\n      <td>2011-07-17</td>\n    </tr>\n    <tr>\n      <th>3</th>\n      <td>4</td>\n      <td>32</td>\n      <td>2011-07-15</td>\n      <td>High</td>\n      <td>24</td>\n      <td>1761.4000</td>\n      <td>0.09</td>\n      <td>Delivery Truck</td>\n      <td>-1748.560</td>\n      <td>70.89</td>\n      <td>...</td>\n      <td>Liz Pelletier</td>\n      <td>Alberta</td>\n      <td>West</td>\n      <td>Corporate</td>\n      <td>Furniture</td>\n      <td>Tables</td>\n      <td>KI Conference Tables</td>\n      <td>Jumbo Box</td>\n      <td>0.72</td>\n      <td>2011-07-16</td>\n    </tr>\n    <tr>\n      <th>4</th>\n      <td>5</td>\n      <td>32</td>\n      <td>2011-07-15</td>\n      <td>High</td>\n      <td>23</td>\n      <td>160.2335</td>\n      <td>0.04</td>\n      <td>Regular Air</td>\n      <td>-85.129</td>\n      <td>7.99</td>\n      <td>...</td>\n      <td>Liz Pelletier</td>\n      <td>Alberta</td>\n      <td>West</td>\n      <td>Corporate</td>\n      <td>Technology</td>\n      <td>Telephones and Communication</td>\n      <td>Bell Sonecor JB700 Caller ID</td>\n      <td>Medium Box</td>\n      <td>0.60</td>\n      <td>2011-07-17</td>\n    </tr>\n  </tbody>\n</table>\n<p>5 rows × 21 columns</p>\n</div>"
     },
     "metadata": {},
     "execution_count": 95
    }
   ],
   "source": [
    "order= pd.read_excel('Sample - Superstore Sales.xls',0)\n",
    "order.head()"
   ]
  },
  {
   "cell_type": "code",
   "execution_count": 102,
   "metadata": {},
   "outputs": [
    {
     "output_type": "execute_result",
     "data": {
      "text/plain": [
       "                      Sales\n",
       "Order Priority             \n",
       "Critical        1697.512545\n",
       "High            1849.741575\n",
       "Low             1901.401445\n",
       "Medium          1755.667275\n",
       "Not Specified   1661.700536"
      ],
      "text/html": "<div>\n<style scoped>\n    .dataframe tbody tr th:only-of-type {\n        vertical-align: middle;\n    }\n\n    .dataframe tbody tr th {\n        vertical-align: top;\n    }\n\n    .dataframe thead th {\n        text-align: right;\n    }\n</style>\n<table border=\"1\" class=\"dataframe\">\n  <thead>\n    <tr style=\"text-align: right;\">\n      <th></th>\n      <th>Sales</th>\n    </tr>\n    <tr>\n      <th>Order Priority</th>\n      <th></th>\n    </tr>\n  </thead>\n  <tbody>\n    <tr>\n      <th>Critical</th>\n      <td>1697.512545</td>\n    </tr>\n    <tr>\n      <th>High</th>\n      <td>1849.741575</td>\n    </tr>\n    <tr>\n      <th>Low</th>\n      <td>1901.401445</td>\n    </tr>\n    <tr>\n      <th>Medium</th>\n      <td>1755.667275</td>\n    </tr>\n    <tr>\n      <th>Not Specified</th>\n      <td>1661.700536</td>\n    </tr>\n  </tbody>\n</table>\n</div>"
     },
     "metadata": {},
     "execution_count": 102
    }
   ],
   "source": [
    "#order.columns\n",
    "pd.pivot_table(order,'Sales',['Order Priority'],aggfunc='mean')"
   ]
  },
  {
   "cell_type": "code",
   "execution_count": 103,
   "metadata": {},
   "outputs": [
    {
     "output_type": "execute_result",
     "data": {
      "text/plain": [
       "Ship Mode       Delivery Truck  Express Air  Regular Air\n",
       "Order Priority                                          \n",
       "Critical           5282.811596  1169.063268  1092.406241\n",
       "High               5712.880694  1163.146222  1227.612718\n",
       "Low                5706.046847  1146.318966  1276.333954\n",
       "Medium             5084.792888  1395.113393  1257.301736\n",
       "Not Specified      5256.271665  1151.916308  1128.363314"
      ],
      "text/html": "<div>\n<style scoped>\n    .dataframe tbody tr th:only-of-type {\n        vertical-align: middle;\n    }\n\n    .dataframe tbody tr th {\n        vertical-align: top;\n    }\n\n    .dataframe thead th {\n        text-align: right;\n    }\n</style>\n<table border=\"1\" class=\"dataframe\">\n  <thead>\n    <tr style=\"text-align: right;\">\n      <th>Ship Mode</th>\n      <th>Delivery Truck</th>\n      <th>Express Air</th>\n      <th>Regular Air</th>\n    </tr>\n    <tr>\n      <th>Order Priority</th>\n      <th></th>\n      <th></th>\n      <th></th>\n    </tr>\n  </thead>\n  <tbody>\n    <tr>\n      <th>Critical</th>\n      <td>5282.811596</td>\n      <td>1169.063268</td>\n      <td>1092.406241</td>\n    </tr>\n    <tr>\n      <th>High</th>\n      <td>5712.880694</td>\n      <td>1163.146222</td>\n      <td>1227.612718</td>\n    </tr>\n    <tr>\n      <th>Low</th>\n      <td>5706.046847</td>\n      <td>1146.318966</td>\n      <td>1276.333954</td>\n    </tr>\n    <tr>\n      <th>Medium</th>\n      <td>5084.792888</td>\n      <td>1395.113393</td>\n      <td>1257.301736</td>\n    </tr>\n    <tr>\n      <th>Not Specified</th>\n      <td>5256.271665</td>\n      <td>1151.916308</td>\n      <td>1128.363314</td>\n    </tr>\n  </tbody>\n</table>\n</div>"
     },
     "metadata": {},
     "execution_count": 103
    }
   ],
   "source": [
    "pd.pivot_table(order,'Sales',index=['Order Priority'],columns=['Ship Mode'],aggfunc='mean')"
   ]
  },
  {
   "cell_type": "code",
   "execution_count": 105,
   "metadata": {},
   "outputs": [
    {
     "output_type": "execute_result",
     "data": {
      "text/plain": [
       "Ship Mode       Delivery Truck  Express Air  Regular Air   total\n",
       "Order Priority                                                  \n",
       "Critical                5283.0       1169.0       1092.0  1698.0\n",
       "High                    5713.0       1163.0       1228.0  1850.0\n",
       "Low                     5706.0       1146.0       1276.0  1901.0\n",
       "Medium                  5085.0       1395.0       1257.0  1756.0\n",
       "Not Specified           5256.0       1152.0       1128.0  1662.0\n",
       "total                   5427.0       1207.0       1198.0  1775.0"
      ],
      "text/html": "<div>\n<style scoped>\n    .dataframe tbody tr th:only-of-type {\n        vertical-align: middle;\n    }\n\n    .dataframe tbody tr th {\n        vertical-align: top;\n    }\n\n    .dataframe thead th {\n        text-align: right;\n    }\n</style>\n<table border=\"1\" class=\"dataframe\">\n  <thead>\n    <tr style=\"text-align: right;\">\n      <th>Ship Mode</th>\n      <th>Delivery Truck</th>\n      <th>Express Air</th>\n      <th>Regular Air</th>\n      <th>total</th>\n    </tr>\n    <tr>\n      <th>Order Priority</th>\n      <th></th>\n      <th></th>\n      <th></th>\n      <th></th>\n    </tr>\n  </thead>\n  <tbody>\n    <tr>\n      <th>Critical</th>\n      <td>5283.0</td>\n      <td>1169.0</td>\n      <td>1092.0</td>\n      <td>1698.0</td>\n    </tr>\n    <tr>\n      <th>High</th>\n      <td>5713.0</td>\n      <td>1163.0</td>\n      <td>1228.0</td>\n      <td>1850.0</td>\n    </tr>\n    <tr>\n      <th>Low</th>\n      <td>5706.0</td>\n      <td>1146.0</td>\n      <td>1276.0</td>\n      <td>1901.0</td>\n    </tr>\n    <tr>\n      <th>Medium</th>\n      <td>5085.0</td>\n      <td>1395.0</td>\n      <td>1257.0</td>\n      <td>1756.0</td>\n    </tr>\n    <tr>\n      <th>Not Specified</th>\n      <td>5256.0</td>\n      <td>1152.0</td>\n      <td>1128.0</td>\n      <td>1662.0</td>\n    </tr>\n    <tr>\n      <th>total</th>\n      <td>5427.0</td>\n      <td>1207.0</td>\n      <td>1198.0</td>\n      <td>1775.0</td>\n    </tr>\n  </tbody>\n</table>\n</div>"
     },
     "metadata": {},
     "execution_count": 105
    }
   ],
   "source": [
    "pd.pivot_table(order,'Sales',index=['Order Priority'],columns=['Ship Mode'],aggfunc='mean',margins=True, margins_name='total').round()"
   ]
  },
  {
   "source": [
    "# row coll display setings"
   ],
   "cell_type": "markdown",
   "metadata": {}
  },
  {
   "cell_type": "code",
   "execution_count": 107,
   "metadata": {},
   "outputs": [
    {
     "output_type": "execute_result",
     "data": {
      "text/plain": [
       "   Row ID  Order ID Order Date Order Priority  Order Quantity      Sales  \\\n",
       "0       1         3 2010-10-13            Low               6   261.5400   \n",
       "1       2         6 2012-02-20  Not Specified               2     6.9300   \n",
       "2       3        32 2011-07-15           High              26  2808.0800   \n",
       "3       4        32 2011-07-15           High              24  1761.4000   \n",
       "4       5        32 2011-07-15           High              23   160.2335   \n",
       "\n",
       "   Discount       Ship Mode    Profit  Unit Price  ...       Customer Name  \\\n",
       "0      0.04     Regular Air  -213.250       38.94  ...  Muhammed MacIntyre   \n",
       "1      0.01     Regular Air    -4.640        2.08  ...         Ruben Dartt   \n",
       "2      0.07     Regular Air  1054.820      107.53  ...       Liz Pelletier   \n",
       "3      0.09  Delivery Truck -1748.560       70.89  ...       Liz Pelletier   \n",
       "4      0.04     Regular Air   -85.129        7.99  ...       Liz Pelletier   \n",
       "\n",
       "  Province   Region Customer Segment Product Category  \\\n",
       "0  Nunavut  Nunavut   Small Business  Office Supplies   \n",
       "1  Alberta     West        Corporate  Office Supplies   \n",
       "2  Alberta     West        Corporate        Furniture   \n",
       "3  Alberta     West        Corporate        Furniture   \n",
       "4  Alberta     West        Corporate       Technology   \n",
       "\n",
       "            Product Sub-Category  \\\n",
       "0         Storage & Organization   \n",
       "1  Scissors, Rulers and Trimmers   \n",
       "2             Office Furnishings   \n",
       "3                         Tables   \n",
       "4   Telephones and Communication   \n",
       "\n",
       "                                        Product Name Product Container  \\\n",
       "0   Eldon Base for stackable storage shelf, platinum         Large Box   \n",
       "1  Kleencut® Forged Office Shears by Acme United ...        Small Pack   \n",
       "2  Tenex Contemporary Contur Chairmats for Low an...        Medium Box   \n",
       "3                               KI Conference Tables         Jumbo Box   \n",
       "4                       Bell Sonecor JB700 Caller ID        Medium Box   \n",
       "\n",
       "  Product Base Margin  Ship Date  \n",
       "0                0.80 2010-10-20  \n",
       "1                0.55 2012-02-21  \n",
       "2                0.65 2011-07-17  \n",
       "3                0.72 2011-07-16  \n",
       "4                0.60 2011-07-17  \n",
       "\n",
       "[5 rows x 21 columns]"
      ],
      "text/html": "<div>\n<style scoped>\n    .dataframe tbody tr th:only-of-type {\n        vertical-align: middle;\n    }\n\n    .dataframe tbody tr th {\n        vertical-align: top;\n    }\n\n    .dataframe thead th {\n        text-align: right;\n    }\n</style>\n<table border=\"1\" class=\"dataframe\">\n  <thead>\n    <tr style=\"text-align: right;\">\n      <th></th>\n      <th>Row ID</th>\n      <th>Order ID</th>\n      <th>Order Date</th>\n      <th>Order Priority</th>\n      <th>Order Quantity</th>\n      <th>Sales</th>\n      <th>Discount</th>\n      <th>Ship Mode</th>\n      <th>Profit</th>\n      <th>Unit Price</th>\n      <th>...</th>\n      <th>Customer Name</th>\n      <th>Province</th>\n      <th>Region</th>\n      <th>Customer Segment</th>\n      <th>Product Category</th>\n      <th>Product Sub-Category</th>\n      <th>Product Name</th>\n      <th>Product Container</th>\n      <th>Product Base Margin</th>\n      <th>Ship Date</th>\n    </tr>\n  </thead>\n  <tbody>\n    <tr>\n      <th>0</th>\n      <td>1</td>\n      <td>3</td>\n      <td>2010-10-13</td>\n      <td>Low</td>\n      <td>6</td>\n      <td>261.5400</td>\n      <td>0.04</td>\n      <td>Regular Air</td>\n      <td>-213.250</td>\n      <td>38.94</td>\n      <td>...</td>\n      <td>Muhammed MacIntyre</td>\n      <td>Nunavut</td>\n      <td>Nunavut</td>\n      <td>Small Business</td>\n      <td>Office Supplies</td>\n      <td>Storage &amp; Organization</td>\n      <td>Eldon Base for stackable storage shelf, platinum</td>\n      <td>Large Box</td>\n      <td>0.80</td>\n      <td>2010-10-20</td>\n    </tr>\n    <tr>\n      <th>1</th>\n      <td>2</td>\n      <td>6</td>\n      <td>2012-02-20</td>\n      <td>Not Specified</td>\n      <td>2</td>\n      <td>6.9300</td>\n      <td>0.01</td>\n      <td>Regular Air</td>\n      <td>-4.640</td>\n      <td>2.08</td>\n      <td>...</td>\n      <td>Ruben Dartt</td>\n      <td>Alberta</td>\n      <td>West</td>\n      <td>Corporate</td>\n      <td>Office Supplies</td>\n      <td>Scissors, Rulers and Trimmers</td>\n      <td>Kleencut® Forged Office Shears by Acme United ...</td>\n      <td>Small Pack</td>\n      <td>0.55</td>\n      <td>2012-02-21</td>\n    </tr>\n    <tr>\n      <th>2</th>\n      <td>3</td>\n      <td>32</td>\n      <td>2011-07-15</td>\n      <td>High</td>\n      <td>26</td>\n      <td>2808.0800</td>\n      <td>0.07</td>\n      <td>Regular Air</td>\n      <td>1054.820</td>\n      <td>107.53</td>\n      <td>...</td>\n      <td>Liz Pelletier</td>\n      <td>Alberta</td>\n      <td>West</td>\n      <td>Corporate</td>\n      <td>Furniture</td>\n      <td>Office Furnishings</td>\n      <td>Tenex Contemporary Contur Chairmats for Low an...</td>\n      <td>Medium Box</td>\n      <td>0.65</td>\n      <td>2011-07-17</td>\n    </tr>\n    <tr>\n      <th>3</th>\n      <td>4</td>\n      <td>32</td>\n      <td>2011-07-15</td>\n      <td>High</td>\n      <td>24</td>\n      <td>1761.4000</td>\n      <td>0.09</td>\n      <td>Delivery Truck</td>\n      <td>-1748.560</td>\n      <td>70.89</td>\n      <td>...</td>\n      <td>Liz Pelletier</td>\n      <td>Alberta</td>\n      <td>West</td>\n      <td>Corporate</td>\n      <td>Furniture</td>\n      <td>Tables</td>\n      <td>KI Conference Tables</td>\n      <td>Jumbo Box</td>\n      <td>0.72</td>\n      <td>2011-07-16</td>\n    </tr>\n    <tr>\n      <th>4</th>\n      <td>5</td>\n      <td>32</td>\n      <td>2011-07-15</td>\n      <td>High</td>\n      <td>23</td>\n      <td>160.2335</td>\n      <td>0.04</td>\n      <td>Regular Air</td>\n      <td>-85.129</td>\n      <td>7.99</td>\n      <td>...</td>\n      <td>Liz Pelletier</td>\n      <td>Alberta</td>\n      <td>West</td>\n      <td>Corporate</td>\n      <td>Technology</td>\n      <td>Telephones and Communication</td>\n      <td>Bell Sonecor JB700 Caller ID</td>\n      <td>Medium Box</td>\n      <td>0.60</td>\n      <td>2011-07-17</td>\n    </tr>\n  </tbody>\n</table>\n<p>5 rows × 21 columns</p>\n</div>"
     },
     "metadata": {},
     "execution_count": 107
    }
   ],
   "source": [
    "order.head()"
   ]
  },
  {
   "cell_type": "code",
   "execution_count": 108,
   "metadata": {},
   "outputs": [
    {
     "output_type": "stream",
     "name": "stdout",
     "text": [
      "compute.use_bottleneck : bool\n    Use the bottleneck library to accelerate if it is installed,\n    the default is True\n    Valid values: False,True\n    [default: True] [currently: True]\ncompute.use_numba : bool\n    Use the numba engine option for select operations if it is installed,\n    the default is False\n    Valid values: False,True\n    [default: False] [currently: False]\ncompute.use_numexpr : bool\n    Use the numexpr library to accelerate computation if it is installed,\n    the default is True\n    Valid values: False,True\n    [default: True] [currently: True]\ndisplay.chop_threshold : float or None\n    if set to a float value, all float values smaller then the given threshold\n    will be displayed as exactly 0 by repr and friends.\n    [default: None] [currently: None]\ndisplay.colheader_justify : 'left'/'right'\n    Controls the justification of column headers. used by DataFrameFormatter.\n    [default: right] [currently: right]\ndisplay.column_space No description available.\n    [default: 12] [currently: 12]\ndisplay.date_dayfirst : boolean\n    When True, prints and parses dates with the day first, eg 20/01/2005\n    [default: False] [currently: False]\ndisplay.date_yearfirst : boolean\n    When True, prints and parses dates with the year first, eg 2005/01/20\n    [default: False] [currently: False]\ndisplay.encoding : str/unicode\n    Defaults to the detected encoding of the console.\n    Specifies the encoding to be used for strings returned by to_string,\n    these are generally strings meant to be displayed on the console.\n    [default: UTF-8] [currently: UTF-8]\ndisplay.expand_frame_repr : boolean\n    Whether to print out the full DataFrame repr for wide DataFrames across\n    multiple lines, `max_columns` is still respected, but the output will\n    wrap-around across multiple \"pages\" if its width exceeds `display.width`.\n    [default: True] [currently: True]\ndisplay.float_format : callable\n    The callable should accept a floating point number and return\n    a string with the desired format of the number. This is used\n    in some places like SeriesFormatter.\n    See formats.format.EngFormatter for an example.\n    [default: None] [currently: None]\ndisplay.html.border : int\n    A ``border=value`` attribute is inserted in the ``<table>`` tag\n    for the DataFrame HTML repr.\n    [default: 1] [currently: 1]\ndisplay.html.table_schema : boolean\n    Whether to publish a Table Schema representation for frontends\n    that support it.\n    (default: False)\n    [default: False] [currently: False]\ndisplay.html.use_mathjax : boolean\n    When True, Jupyter notebook will process table contents using MathJax,\n    rendering mathematical expressions enclosed by the dollar symbol.\n    (default: True)\n    [default: True] [currently: True]\ndisplay.large_repr : 'truncate'/'info'\n    For DataFrames exceeding max_rows/max_cols, the repr (and HTML repr) can\n    show a truncated table (the default from 0.13), or switch to the view from\n    df.info() (the behaviour in earlier versions of pandas).\n    [default: truncate] [currently: truncate]\ndisplay.latex.escape : bool\n    This specifies if the to_latex method of a Dataframe uses escapes special\n    characters.\n    Valid values: False,True\n    [default: True] [currently: True]\ndisplay.latex.longtable :bool\n    This specifies if the to_latex method of a Dataframe uses the longtable\n    format.\n    Valid values: False,True\n    [default: False] [currently: False]\ndisplay.latex.multicolumn : bool\n    This specifies if the to_latex method of a Dataframe uses multicolumns\n    to pretty-print MultiIndex columns.\n    Valid values: False,True\n    [default: True] [currently: True]\ndisplay.latex.multicolumn_format : bool\n    This specifies if the to_latex method of a Dataframe uses multicolumns\n    to pretty-print MultiIndex columns.\n    Valid values: False,True\n    [default: l] [currently: l]\ndisplay.latex.multirow : bool\n    This specifies if the to_latex method of a Dataframe uses multirows\n    to pretty-print MultiIndex rows.\n    Valid values: False,True\n    [default: False] [currently: False]\ndisplay.latex.repr : boolean\n    Whether to produce a latex DataFrame representation for jupyter\n    environments that support it.\n    (default: False)\n    [default: False] [currently: False]\ndisplay.max_categories : int\n    This sets the maximum number of categories pandas should output when\n    printing out a `Categorical` or a Series of dtype \"category\".\n    [default: 8] [currently: 8]\ndisplay.max_columns : int\n    If max_cols is exceeded, switch to truncate view. Depending on\n    `large_repr`, objects are either centrally truncated or printed as\n    a summary view. 'None' value means unlimited.\n\n    In case python/IPython is running in a terminal and `large_repr`\n    equals 'truncate' this can be set to 0 and pandas will auto-detect\n    the width of the terminal and print a truncated object which fits\n    the screen width. The IPython notebook, IPython qtconsole, or IDLE\n    do not run in a terminal and hence it is not possible to do\n    correct auto-detection.\n    [default: 20] [currently: 20]\ndisplay.max_colwidth : int or None\n    The maximum width in characters of a column in the repr of\n    a pandas data structure. When the column overflows, a \"...\"\n    placeholder is embedded in the output. A 'None' value means unlimited.\n    [default: 50] [currently: 50]\ndisplay.max_info_columns : int\n    max_info_columns is used in DataFrame.info method to decide if\n    per column information will be printed.\n    [default: 100] [currently: 100]\ndisplay.max_info_rows : int or None\n    df.info() will usually show null-counts for each column.\n    For large frames this can be quite slow. max_info_rows and max_info_cols\n    limit this null check only to frames with smaller dimensions than\n    specified.\n    [default: 1690785] [currently: 1690785]\ndisplay.max_rows : int\n    If max_rows is exceeded, switch to truncate view. Depending on\n    `large_repr`, objects are either centrally truncated or printed as\n    a summary view. 'None' value means unlimited.\n\n    In case python/IPython is running in a terminal and `large_repr`\n    equals 'truncate' this can be set to 0 and pandas will auto-detect\n    the height of the terminal and print a truncated object which fits\n    the screen height. The IPython notebook, IPython qtconsole, or\n    IDLE do not run in a terminal and hence it is not possible to do\n    correct auto-detection.\n    [default: 60] [currently: 60]\ndisplay.max_seq_items : int or None\n    when pretty-printing a long sequence, no more then `max_seq_items`\n    will be printed. If items are omitted, they will be denoted by the\n    addition of \"...\" to the resulting string.\n\n    If set to None, the number of items to be printed is unlimited.\n    [default: 100] [currently: 100]\ndisplay.memory_usage : bool, string or None\n    This specifies if the memory usage of a DataFrame should be displayed when\n    df.info() is called. Valid values True,False,'deep'\n    [default: True] [currently: True]\ndisplay.min_rows : int\n    The numbers of rows to show in a truncated view (when `max_rows` is\n    exceeded). Ignored when `max_rows` is set to None or 0. When set to\n    None, follows the value of `max_rows`.\n    [default: 10] [currently: 10]\ndisplay.multi_sparse : boolean\n    \"sparsify\" MultiIndex display (don't display repeated\n    elements in outer levels within groups)\n    [default: True] [currently: True]\ndisplay.notebook_repr_html : boolean\n    When True, IPython notebook will use html representation for\n    pandas objects (if it is available).\n    [default: True] [currently: True]\ndisplay.pprint_nest_depth : int\n    Controls the number of nested levels to process when pretty-printing\n    [default: 3] [currently: 3]\ndisplay.precision : int\n    Floating point output precision (number of significant digits). This is\n    only a suggestion\n    [default: 6] [currently: 6]\ndisplay.show_dimensions : boolean or 'truncate'\n    Whether to print out dimensions at the end of DataFrame repr.\n    If 'truncate' is specified, only print out the dimensions if the\n    frame is truncated (e.g. not display all rows and/or columns)\n    [default: truncate] [currently: truncate]\ndisplay.unicode.ambiguous_as_wide : boolean\n    Whether to use the Unicode East Asian Width to calculate the display text\n    width.\n    Enabling this may affect to the performance (default: False)\n    [default: False] [currently: False]\ndisplay.unicode.east_asian_width : boolean\n    Whether to use the Unicode East Asian Width to calculate the display text\n    width.\n    Enabling this may affect to the performance (default: False)\n    [default: False] [currently: False]\ndisplay.width : int\n    Width of the display in characters. In case python/IPython is running in\n    a terminal this can be set to None and pandas will correctly auto-detect\n    the width.\n    Note that the IPython notebook, IPython qtconsole, or IDLE do not run in a\n    terminal and hence it is not possible to correctly detect the width.\n    [default: 80] [currently: 80]\nio.excel.ods.reader : string\n    The default Excel reader engine for 'ods' files. Available options:\n    auto, odf.\n    [default: auto] [currently: auto]\nio.excel.ods.writer : string\n    The default Excel writer engine for 'ods' files. Available options:\n    auto, odf.\n    [default: auto] [currently: auto]\nio.excel.xls.reader : string\n    The default Excel reader engine for 'xls' files. Available options:\n    auto, xlrd.\n    [default: auto] [currently: auto]\nio.excel.xls.writer : string\n    The default Excel writer engine for 'xls' files. Available options:\n    auto, xlwt.\n    [default: auto] [currently: auto]\nio.excel.xlsb.reader : string\n    The default Excel reader engine for 'xlsb' files. Available options:\n    auto, pyxlsb.\n    [default: auto] [currently: auto]\nio.excel.xlsm.reader : string\n    The default Excel reader engine for 'xlsm' files. Available options:\n    auto, xlrd, openpyxl.\n    [default: auto] [currently: auto]\nio.excel.xlsm.writer : string\n    The default Excel writer engine for 'xlsm' files. Available options:\n    auto, openpyxl.\n    [default: auto] [currently: auto]\nio.excel.xlsx.reader : string\n    The default Excel reader engine for 'xlsx' files. Available options:\n    auto, xlrd, openpyxl.\n    [default: auto] [currently: auto]\nio.excel.xlsx.writer : string\n    The default Excel writer engine for 'xlsx' files. Available options:\n    auto, openpyxl, xlsxwriter.\n    [default: auto] [currently: auto]\nio.hdf.default_format : format\n    default format writing format, if None, then\n    put will default to 'fixed' and append will default to 'table'\n    [default: None] [currently: None]\nio.hdf.dropna_table : boolean\n    drop ALL nan rows when appending to a table\n    [default: False] [currently: False]\nio.parquet.engine : string\n    The default parquet reader/writer engine. Available options:\n    'auto', 'pyarrow', 'fastparquet', the default is 'auto'\n    [default: auto] [currently: auto]\nmode.chained_assignment : string\n    Raise an exception, warn, or no action if trying to use chained assignment,\n    The default is warn\n    [default: warn] [currently: warn]\nmode.sim_interactive : boolean\n    Whether to simulate interactive mode for purposes of testing\n    [default: False] [currently: False]\nmode.use_inf_as_na : boolean\n    True means treat None, NaN, INF, -INF as NA (old way),\n    False means None and NaN are null, but INF, -INF are not NA\n    (new way).\n    [default: False] [currently: False]\nmode.use_inf_as_null : boolean\n    use_inf_as_null had been deprecated and will be removed in a future\n    version. Use `use_inf_as_na` instead.\n    [default: False] [currently: False]\n    (Deprecated, use `mode.use_inf_as_na` instead.)\nplotting.backend : str\n    The plotting backend to use. The default value is \"matplotlib\", the\n    backend provided with pandas. Other backends can be specified by\n    providing the name of the module that implements the backend.\n    [default: matplotlib] [currently: matplotlib]\nplotting.matplotlib.register_converters : bool or 'auto'.\n    Whether to register converters with matplotlib's units registry for\n    dates, times, datetimes, and Periods. Toggling to False will remove\n    the converters, restoring any converters that pandas overwrote.\n    [default: auto] [currently: auto]\n"
     ]
    }
   ],
   "source": [
    "pd.describe_option()"
   ]
  },
  {
   "cell_type": "code",
   "execution_count": 110,
   "metadata": {},
   "outputs": [
    {
     "output_type": "execute_result",
     "data": {
      "text/plain": [
       "20"
      ]
     },
     "metadata": {},
     "execution_count": 110
    }
   ],
   "source": [
    "# to check thee current display options\n",
    "pd.get_option('display.max_columns')"
   ]
  },
  {
   "cell_type": "code",
   "execution_count": 112,
   "metadata": {},
   "outputs": [],
   "source": [
    "pd.set_option('display.max_columns',None)"
   ]
  },
  {
   "cell_type": "code",
   "execution_count": 114,
   "metadata": {},
   "outputs": [
    {
     "output_type": "execute_result",
     "data": {
      "text/plain": [
       "   Row ID  Order ID Order Date Order Priority  Order Quantity      Sales  \\\n",
       "0       1         3 2010-10-13            Low               6   261.5400   \n",
       "1       2         6 2012-02-20  Not Specified               2     6.9300   \n",
       "2       3        32 2011-07-15           High              26  2808.0800   \n",
       "3       4        32 2011-07-15           High              24  1761.4000   \n",
       "4       5        32 2011-07-15           High              23   160.2335   \n",
       "\n",
       "   Discount       Ship Mode    Profit  Unit Price  Shipping Cost  \\\n",
       "0      0.04     Regular Air  -213.250       38.94          35.00   \n",
       "1      0.01     Regular Air    -4.640        2.08           2.56   \n",
       "2      0.07     Regular Air  1054.820      107.53           5.81   \n",
       "3      0.09  Delivery Truck -1748.560       70.89          89.30   \n",
       "4      0.04     Regular Air   -85.129        7.99           5.03   \n",
       "\n",
       "        Customer Name Province   Region Customer Segment Product Category  \\\n",
       "0  Muhammed MacIntyre  Nunavut  Nunavut   Small Business  Office Supplies   \n",
       "1         Ruben Dartt  Alberta     West        Corporate  Office Supplies   \n",
       "2       Liz Pelletier  Alberta     West        Corporate        Furniture   \n",
       "3       Liz Pelletier  Alberta     West        Corporate        Furniture   \n",
       "4       Liz Pelletier  Alberta     West        Corporate       Technology   \n",
       "\n",
       "            Product Sub-Category  \\\n",
       "0         Storage & Organization   \n",
       "1  Scissors, Rulers and Trimmers   \n",
       "2             Office Furnishings   \n",
       "3                         Tables   \n",
       "4   Telephones and Communication   \n",
       "\n",
       "                                        Product Name Product Container  \\\n",
       "0   Eldon Base for stackable storage shelf, platinum         Large Box   \n",
       "1  Kleencut® Forged Office Shears by Acme United ...        Small Pack   \n",
       "2  Tenex Contemporary Contur Chairmats for Low an...        Medium Box   \n",
       "3                               KI Conference Tables         Jumbo Box   \n",
       "4                       Bell Sonecor JB700 Caller ID        Medium Box   \n",
       "\n",
       "   Product Base Margin  Ship Date  \n",
       "0                 0.80 2010-10-20  \n",
       "1                 0.55 2012-02-21  \n",
       "2                 0.65 2011-07-17  \n",
       "3                 0.72 2011-07-16  \n",
       "4                 0.60 2011-07-17  "
      ],
      "text/html": "<div>\n<style scoped>\n    .dataframe tbody tr th:only-of-type {\n        vertical-align: middle;\n    }\n\n    .dataframe tbody tr th {\n        vertical-align: top;\n    }\n\n    .dataframe thead th {\n        text-align: right;\n    }\n</style>\n<table border=\"1\" class=\"dataframe\">\n  <thead>\n    <tr style=\"text-align: right;\">\n      <th></th>\n      <th>Row ID</th>\n      <th>Order ID</th>\n      <th>Order Date</th>\n      <th>Order Priority</th>\n      <th>Order Quantity</th>\n      <th>Sales</th>\n      <th>Discount</th>\n      <th>Ship Mode</th>\n      <th>Profit</th>\n      <th>Unit Price</th>\n      <th>Shipping Cost</th>\n      <th>Customer Name</th>\n      <th>Province</th>\n      <th>Region</th>\n      <th>Customer Segment</th>\n      <th>Product Category</th>\n      <th>Product Sub-Category</th>\n      <th>Product Name</th>\n      <th>Product Container</th>\n      <th>Product Base Margin</th>\n      <th>Ship Date</th>\n    </tr>\n  </thead>\n  <tbody>\n    <tr>\n      <th>0</th>\n      <td>1</td>\n      <td>3</td>\n      <td>2010-10-13</td>\n      <td>Low</td>\n      <td>6</td>\n      <td>261.5400</td>\n      <td>0.04</td>\n      <td>Regular Air</td>\n      <td>-213.250</td>\n      <td>38.94</td>\n      <td>35.00</td>\n      <td>Muhammed MacIntyre</td>\n      <td>Nunavut</td>\n      <td>Nunavut</td>\n      <td>Small Business</td>\n      <td>Office Supplies</td>\n      <td>Storage &amp; Organization</td>\n      <td>Eldon Base for stackable storage shelf, platinum</td>\n      <td>Large Box</td>\n      <td>0.80</td>\n      <td>2010-10-20</td>\n    </tr>\n    <tr>\n      <th>1</th>\n      <td>2</td>\n      <td>6</td>\n      <td>2012-02-20</td>\n      <td>Not Specified</td>\n      <td>2</td>\n      <td>6.9300</td>\n      <td>0.01</td>\n      <td>Regular Air</td>\n      <td>-4.640</td>\n      <td>2.08</td>\n      <td>2.56</td>\n      <td>Ruben Dartt</td>\n      <td>Alberta</td>\n      <td>West</td>\n      <td>Corporate</td>\n      <td>Office Supplies</td>\n      <td>Scissors, Rulers and Trimmers</td>\n      <td>Kleencut® Forged Office Shears by Acme United ...</td>\n      <td>Small Pack</td>\n      <td>0.55</td>\n      <td>2012-02-21</td>\n    </tr>\n    <tr>\n      <th>2</th>\n      <td>3</td>\n      <td>32</td>\n      <td>2011-07-15</td>\n      <td>High</td>\n      <td>26</td>\n      <td>2808.0800</td>\n      <td>0.07</td>\n      <td>Regular Air</td>\n      <td>1054.820</td>\n      <td>107.53</td>\n      <td>5.81</td>\n      <td>Liz Pelletier</td>\n      <td>Alberta</td>\n      <td>West</td>\n      <td>Corporate</td>\n      <td>Furniture</td>\n      <td>Office Furnishings</td>\n      <td>Tenex Contemporary Contur Chairmats for Low an...</td>\n      <td>Medium Box</td>\n      <td>0.65</td>\n      <td>2011-07-17</td>\n    </tr>\n    <tr>\n      <th>3</th>\n      <td>4</td>\n      <td>32</td>\n      <td>2011-07-15</td>\n      <td>High</td>\n      <td>24</td>\n      <td>1761.4000</td>\n      <td>0.09</td>\n      <td>Delivery Truck</td>\n      <td>-1748.560</td>\n      <td>70.89</td>\n      <td>89.30</td>\n      <td>Liz Pelletier</td>\n      <td>Alberta</td>\n      <td>West</td>\n      <td>Corporate</td>\n      <td>Furniture</td>\n      <td>Tables</td>\n      <td>KI Conference Tables</td>\n      <td>Jumbo Box</td>\n      <td>0.72</td>\n      <td>2011-07-16</td>\n    </tr>\n    <tr>\n      <th>4</th>\n      <td>5</td>\n      <td>32</td>\n      <td>2011-07-15</td>\n      <td>High</td>\n      <td>23</td>\n      <td>160.2335</td>\n      <td>0.04</td>\n      <td>Regular Air</td>\n      <td>-85.129</td>\n      <td>7.99</td>\n      <td>5.03</td>\n      <td>Liz Pelletier</td>\n      <td>Alberta</td>\n      <td>West</td>\n      <td>Corporate</td>\n      <td>Technology</td>\n      <td>Telephones and Communication</td>\n      <td>Bell Sonecor JB700 Caller ID</td>\n      <td>Medium Box</td>\n      <td>0.60</td>\n      <td>2011-07-17</td>\n    </tr>\n  </tbody>\n</table>\n</div>"
     },
     "metadata": {},
     "execution_count": 114
    }
   ],
   "source": [
    "order.head()"
   ]
  },
  {
   "cell_type": "code",
   "execution_count": 115,
   "metadata": {},
   "outputs": [],
   "source": [
    "pd.reset_option('display.max_columns')"
   ]
  },
  {
   "source": [
    "# handel NA"
   ],
   "cell_type": "markdown",
   "metadata": {}
  },
  {
   "cell_type": "code",
   "execution_count": 116,
   "metadata": {},
   "outputs": [
    {
     "output_type": "execute_result",
     "data": {
      "text/plain": [
       "   Row ID  Order ID Order Date Order Priority  Order Quantity      Sales  \\\n",
       "0       1         3 2010-10-13            Low               6   261.5400   \n",
       "1       2         6 2012-02-20  Not Specified               2     6.9300   \n",
       "2       3        32 2011-07-15           High              26  2808.0800   \n",
       "3       4        32 2011-07-15           High              24  1761.4000   \n",
       "4       5        32 2011-07-15           High              23   160.2335   \n",
       "\n",
       "   Discount       Ship Mode    Profit  Unit Price  ...       Customer Name  \\\n",
       "0      0.04     Regular Air  -213.250       38.94  ...  Muhammed MacIntyre   \n",
       "1      0.01     Regular Air    -4.640        2.08  ...         Ruben Dartt   \n",
       "2      0.07     Regular Air  1054.820      107.53  ...       Liz Pelletier   \n",
       "3      0.09  Delivery Truck -1748.560       70.89  ...       Liz Pelletier   \n",
       "4      0.04     Regular Air   -85.129        7.99  ...       Liz Pelletier   \n",
       "\n",
       "  Province   Region Customer Segment Product Category  \\\n",
       "0  Nunavut  Nunavut   Small Business  Office Supplies   \n",
       "1  Alberta     West        Corporate  Office Supplies   \n",
       "2  Alberta     West        Corporate        Furniture   \n",
       "3  Alberta     West        Corporate        Furniture   \n",
       "4  Alberta     West        Corporate       Technology   \n",
       "\n",
       "            Product Sub-Category  \\\n",
       "0         Storage & Organization   \n",
       "1  Scissors, Rulers and Trimmers   \n",
       "2             Office Furnishings   \n",
       "3                         Tables   \n",
       "4   Telephones and Communication   \n",
       "\n",
       "                                        Product Name Product Container  \\\n",
       "0   Eldon Base for stackable storage shelf, platinum         Large Box   \n",
       "1  Kleencut® Forged Office Shears by Acme United ...        Small Pack   \n",
       "2  Tenex Contemporary Contur Chairmats for Low an...        Medium Box   \n",
       "3                               KI Conference Tables         Jumbo Box   \n",
       "4                       Bell Sonecor JB700 Caller ID        Medium Box   \n",
       "\n",
       "  Product Base Margin  Ship Date  \n",
       "0                0.80 2010-10-20  \n",
       "1                0.55 2012-02-21  \n",
       "2                0.65 2011-07-17  \n",
       "3                0.72 2011-07-16  \n",
       "4                0.60 2011-07-17  \n",
       "\n",
       "[5 rows x 21 columns]"
      ],
      "text/html": "<div>\n<style scoped>\n    .dataframe tbody tr th:only-of-type {\n        vertical-align: middle;\n    }\n\n    .dataframe tbody tr th {\n        vertical-align: top;\n    }\n\n    .dataframe thead th {\n        text-align: right;\n    }\n</style>\n<table border=\"1\" class=\"dataframe\">\n  <thead>\n    <tr style=\"text-align: right;\">\n      <th></th>\n      <th>Row ID</th>\n      <th>Order ID</th>\n      <th>Order Date</th>\n      <th>Order Priority</th>\n      <th>Order Quantity</th>\n      <th>Sales</th>\n      <th>Discount</th>\n      <th>Ship Mode</th>\n      <th>Profit</th>\n      <th>Unit Price</th>\n      <th>...</th>\n      <th>Customer Name</th>\n      <th>Province</th>\n      <th>Region</th>\n      <th>Customer Segment</th>\n      <th>Product Category</th>\n      <th>Product Sub-Category</th>\n      <th>Product Name</th>\n      <th>Product Container</th>\n      <th>Product Base Margin</th>\n      <th>Ship Date</th>\n    </tr>\n  </thead>\n  <tbody>\n    <tr>\n      <th>0</th>\n      <td>1</td>\n      <td>3</td>\n      <td>2010-10-13</td>\n      <td>Low</td>\n      <td>6</td>\n      <td>261.5400</td>\n      <td>0.04</td>\n      <td>Regular Air</td>\n      <td>-213.250</td>\n      <td>38.94</td>\n      <td>...</td>\n      <td>Muhammed MacIntyre</td>\n      <td>Nunavut</td>\n      <td>Nunavut</td>\n      <td>Small Business</td>\n      <td>Office Supplies</td>\n      <td>Storage &amp; Organization</td>\n      <td>Eldon Base for stackable storage shelf, platinum</td>\n      <td>Large Box</td>\n      <td>0.80</td>\n      <td>2010-10-20</td>\n    </tr>\n    <tr>\n      <th>1</th>\n      <td>2</td>\n      <td>6</td>\n      <td>2012-02-20</td>\n      <td>Not Specified</td>\n      <td>2</td>\n      <td>6.9300</td>\n      <td>0.01</td>\n      <td>Regular Air</td>\n      <td>-4.640</td>\n      <td>2.08</td>\n      <td>...</td>\n      <td>Ruben Dartt</td>\n      <td>Alberta</td>\n      <td>West</td>\n      <td>Corporate</td>\n      <td>Office Supplies</td>\n      <td>Scissors, Rulers and Trimmers</td>\n      <td>Kleencut® Forged Office Shears by Acme United ...</td>\n      <td>Small Pack</td>\n      <td>0.55</td>\n      <td>2012-02-21</td>\n    </tr>\n    <tr>\n      <th>2</th>\n      <td>3</td>\n      <td>32</td>\n      <td>2011-07-15</td>\n      <td>High</td>\n      <td>26</td>\n      <td>2808.0800</td>\n      <td>0.07</td>\n      <td>Regular Air</td>\n      <td>1054.820</td>\n      <td>107.53</td>\n      <td>...</td>\n      <td>Liz Pelletier</td>\n      <td>Alberta</td>\n      <td>West</td>\n      <td>Corporate</td>\n      <td>Furniture</td>\n      <td>Office Furnishings</td>\n      <td>Tenex Contemporary Contur Chairmats for Low an...</td>\n      <td>Medium Box</td>\n      <td>0.65</td>\n      <td>2011-07-17</td>\n    </tr>\n    <tr>\n      <th>3</th>\n      <td>4</td>\n      <td>32</td>\n      <td>2011-07-15</td>\n      <td>High</td>\n      <td>24</td>\n      <td>1761.4000</td>\n      <td>0.09</td>\n      <td>Delivery Truck</td>\n      <td>-1748.560</td>\n      <td>70.89</td>\n      <td>...</td>\n      <td>Liz Pelletier</td>\n      <td>Alberta</td>\n      <td>West</td>\n      <td>Corporate</td>\n      <td>Furniture</td>\n      <td>Tables</td>\n      <td>KI Conference Tables</td>\n      <td>Jumbo Box</td>\n      <td>0.72</td>\n      <td>2011-07-16</td>\n    </tr>\n    <tr>\n      <th>4</th>\n      <td>5</td>\n      <td>32</td>\n      <td>2011-07-15</td>\n      <td>High</td>\n      <td>23</td>\n      <td>160.2335</td>\n      <td>0.04</td>\n      <td>Regular Air</td>\n      <td>-85.129</td>\n      <td>7.99</td>\n      <td>...</td>\n      <td>Liz Pelletier</td>\n      <td>Alberta</td>\n      <td>West</td>\n      <td>Corporate</td>\n      <td>Technology</td>\n      <td>Telephones and Communication</td>\n      <td>Bell Sonecor JB700 Caller ID</td>\n      <td>Medium Box</td>\n      <td>0.60</td>\n      <td>2011-07-17</td>\n    </tr>\n  </tbody>\n</table>\n<p>5 rows × 21 columns</p>\n</div>"
     },
     "metadata": {},
     "execution_count": 116
    }
   ],
   "source": [
    "order.head()"
   ]
  },
  {
   "cell_type": "code",
   "execution_count": 124,
   "metadata": {},
   "outputs": [
    {
     "output_type": "execute_result",
     "data": {
      "text/plain": [
       "Row ID                   0\n",
       "Order ID                 0\n",
       "Order Date               0\n",
       "Order Priority           0\n",
       "Order Quantity           0\n",
       "Sales                    0\n",
       "Discount                 0\n",
       "Ship Mode                0\n",
       "Profit                   0\n",
       "Unit Price               0\n",
       "Shipping Cost            0\n",
       "Customer Name            0\n",
       "Province                 0\n",
       "Region                   0\n",
       "Customer Segment         0\n",
       "Product Category         0\n",
       "Product Sub-Category     0\n",
       "Product Name             0\n",
       "Product Container        0\n",
       "Product Base Margin     63\n",
       "Ship Date                0\n",
       "dtype: int64"
      ]
     },
     "metadata": {},
     "execution_count": 124
    }
   ],
   "source": [
    "# is null\n",
    "order.isnull().sum()"
   ]
  },
  {
   "cell_type": "code",
   "execution_count": 126,
   "metadata": {},
   "outputs": [
    {
     "output_type": "execute_result",
     "data": {
      "text/plain": [
       "      Row ID  Order ID Order Date Order Priority  Order Quantity     Sales  \\\n",
       "23        24       134 2012-04-30  Not Specified              11   1132.60   \n",
       "97        98       613 2011-06-17           High              22    905.08   \n",
       "102      103       643 2011-03-24           High              21   2781.82   \n",
       "260      261      1824 2009-05-04       Critical              39  10656.26   \n",
       "279      280      1925 2012-03-04       Critical               7   1874.37   \n",
       "...      ...       ...        ...            ...             ...       ...   \n",
       "7628    7629     54592 2011-06-12            Low              28   1971.56   \n",
       "7699    7700     55202 2011-08-24            Low              33   3093.76   \n",
       "7769    7770     55621 2011-03-15            Low              50   6356.68   \n",
       "7825    7826     55938 2012-07-02  Not Specified              18   1769.90   \n",
       "8357    8358     59714 2010-12-13       Critical              26   9225.65   \n",
       "\n",
       "      Discount       Ship Mode      Profit  Unit Price  ...  \\\n",
       "23        0.01     Regular Air  -310.21000       95.99  ...   \n",
       "97        0.09     Regular Air   127.70000       42.76  ...   \n",
       "102       0.07     Express Air  -695.26000      138.14  ...   \n",
       "260       0.06     Regular Air  3116.54000      276.20  ...   \n",
       "279       0.08     Regular Air    67.84000      276.20  ...   \n",
       "...        ...             ...         ...         ...  ...   \n",
       "7628      0.05  Delivery Truck   -15.29000       70.98  ...   \n",
       "7699      0.07     Express Air  -850.71000       95.99  ...   \n",
       "7769      0.03     Regular Air  1812.86000      128.24  ...   \n",
       "7825      0.05     Express Air  -468.89000       95.99  ...   \n",
       "8357      0.03  Delivery Truck  1656.46215      349.45  ...   \n",
       "\n",
       "          Customer Name          Province    Region Customer Segment  \\\n",
       "23    Michael Dominguez           Ontario   Ontario      Home Office   \n",
       "97         Carl Jackson           Nunavut   Nunavut        Corporate   \n",
       "102      Monica Federle           Nunavut   Nunavut        Corporate   \n",
       "260           Becky Pak           Alberta      West        Corporate   \n",
       "279          Brian Moss  British Columbia      West        Corporate   \n",
       "...                 ...               ...       ...              ...   \n",
       "7628    Erica Hernandez            Quebec    Quebec   Small Business   \n",
       "7699        Bobby Elias            Quebec    Quebec   Small Business   \n",
       "7769       Neil Knudson       Saskachewan    Prarie      Home Office   \n",
       "7825      Mark Haberlin       Nova Scotia  Atlantic   Small Business   \n",
       "8357      Julia Barnett            Quebec    Quebec        Corporate   \n",
       "\n",
       "     Product Category    Product Sub-Category  \\\n",
       "23    Office Supplies  Storage & Organization   \n",
       "97    Office Supplies  Storage & Organization   \n",
       "102   Office Supplies  Storage & Organization   \n",
       "260         Furniture      Chairs & Chairmats   \n",
       "279         Furniture      Chairs & Chairmats   \n",
       "...               ...                     ...   \n",
       "7628        Furniture               Bookcases   \n",
       "7699  Office Supplies  Storage & Organization   \n",
       "7769        Furniture      Chairs & Chairmats   \n",
       "7825  Office Supplies  Storage & Organization   \n",
       "8357        Furniture                  Tables   \n",
       "\n",
       "                                           Product Name Product Container  \\\n",
       "23                       Safco Industrial Wire Shelving         Large Box   \n",
       "97              SAFCO Mobile Desk Side File, Wire Frame         Small Box   \n",
       "102               SAFCO Commercial Wire Shelving, Black         Large Box   \n",
       "260                            SAFCO Arco Folding Chair         Large Box   \n",
       "279                            SAFCO Arco Folding Chair         Large Box   \n",
       "...                                                 ...               ...   \n",
       "7628  Safco Value Mate Steel Bookcase, Baked Enamel ...         Jumbo Box   \n",
       "7699                     Safco Industrial Wire Shelving         Large Box   \n",
       "7769                        SAFCO Folding Chair Trolley        Medium Box   \n",
       "7825                     Safco Industrial Wire Shelving         Large Box   \n",
       "8357  SAFCO PlanMaster Heigh-Adjustable Drafting Tab...        Jumbo Drum   \n",
       "\n",
       "     Product Base Margin  Ship Date  \n",
       "23                   NaN 2012-05-02  \n",
       "97                   NaN 2011-06-18  \n",
       "102                  NaN 2011-03-25  \n",
       "260                  NaN 2009-05-05  \n",
       "279                  NaN 2012-03-05  \n",
       "...                  ...        ...  \n",
       "7628                 NaN 2011-06-16  \n",
       "7699                 NaN 2011-08-26  \n",
       "7769                 NaN 2011-03-17  \n",
       "7825                 NaN 2012-07-03  \n",
       "8357                 NaN 2010-12-15  \n",
       "\n",
       "[63 rows x 21 columns]"
      ],
      "text/html": "<div>\n<style scoped>\n    .dataframe tbody tr th:only-of-type {\n        vertical-align: middle;\n    }\n\n    .dataframe tbody tr th {\n        vertical-align: top;\n    }\n\n    .dataframe thead th {\n        text-align: right;\n    }\n</style>\n<table border=\"1\" class=\"dataframe\">\n  <thead>\n    <tr style=\"text-align: right;\">\n      <th></th>\n      <th>Row ID</th>\n      <th>Order ID</th>\n      <th>Order Date</th>\n      <th>Order Priority</th>\n      <th>Order Quantity</th>\n      <th>Sales</th>\n      <th>Discount</th>\n      <th>Ship Mode</th>\n      <th>Profit</th>\n      <th>Unit Price</th>\n      <th>...</th>\n      <th>Customer Name</th>\n      <th>Province</th>\n      <th>Region</th>\n      <th>Customer Segment</th>\n      <th>Product Category</th>\n      <th>Product Sub-Category</th>\n      <th>Product Name</th>\n      <th>Product Container</th>\n      <th>Product Base Margin</th>\n      <th>Ship Date</th>\n    </tr>\n  </thead>\n  <tbody>\n    <tr>\n      <th>23</th>\n      <td>24</td>\n      <td>134</td>\n      <td>2012-04-30</td>\n      <td>Not Specified</td>\n      <td>11</td>\n      <td>1132.60</td>\n      <td>0.01</td>\n      <td>Regular Air</td>\n      <td>-310.21000</td>\n      <td>95.99</td>\n      <td>...</td>\n      <td>Michael Dominguez</td>\n      <td>Ontario</td>\n      <td>Ontario</td>\n      <td>Home Office</td>\n      <td>Office Supplies</td>\n      <td>Storage &amp; Organization</td>\n      <td>Safco Industrial Wire Shelving</td>\n      <td>Large Box</td>\n      <td>NaN</td>\n      <td>2012-05-02</td>\n    </tr>\n    <tr>\n      <th>97</th>\n      <td>98</td>\n      <td>613</td>\n      <td>2011-06-17</td>\n      <td>High</td>\n      <td>22</td>\n      <td>905.08</td>\n      <td>0.09</td>\n      <td>Regular Air</td>\n      <td>127.70000</td>\n      <td>42.76</td>\n      <td>...</td>\n      <td>Carl Jackson</td>\n      <td>Nunavut</td>\n      <td>Nunavut</td>\n      <td>Corporate</td>\n      <td>Office Supplies</td>\n      <td>Storage &amp; Organization</td>\n      <td>SAFCO Mobile Desk Side File, Wire Frame</td>\n      <td>Small Box</td>\n      <td>NaN</td>\n      <td>2011-06-18</td>\n    </tr>\n    <tr>\n      <th>102</th>\n      <td>103</td>\n      <td>643</td>\n      <td>2011-03-24</td>\n      <td>High</td>\n      <td>21</td>\n      <td>2781.82</td>\n      <td>0.07</td>\n      <td>Express Air</td>\n      <td>-695.26000</td>\n      <td>138.14</td>\n      <td>...</td>\n      <td>Monica Federle</td>\n      <td>Nunavut</td>\n      <td>Nunavut</td>\n      <td>Corporate</td>\n      <td>Office Supplies</td>\n      <td>Storage &amp; Organization</td>\n      <td>SAFCO Commercial Wire Shelving, Black</td>\n      <td>Large Box</td>\n      <td>NaN</td>\n      <td>2011-03-25</td>\n    </tr>\n    <tr>\n      <th>260</th>\n      <td>261</td>\n      <td>1824</td>\n      <td>2009-05-04</td>\n      <td>Critical</td>\n      <td>39</td>\n      <td>10656.26</td>\n      <td>0.06</td>\n      <td>Regular Air</td>\n      <td>3116.54000</td>\n      <td>276.20</td>\n      <td>...</td>\n      <td>Becky Pak</td>\n      <td>Alberta</td>\n      <td>West</td>\n      <td>Corporate</td>\n      <td>Furniture</td>\n      <td>Chairs &amp; Chairmats</td>\n      <td>SAFCO Arco Folding Chair</td>\n      <td>Large Box</td>\n      <td>NaN</td>\n      <td>2009-05-05</td>\n    </tr>\n    <tr>\n      <th>279</th>\n      <td>280</td>\n      <td>1925</td>\n      <td>2012-03-04</td>\n      <td>Critical</td>\n      <td>7</td>\n      <td>1874.37</td>\n      <td>0.08</td>\n      <td>Regular Air</td>\n      <td>67.84000</td>\n      <td>276.20</td>\n      <td>...</td>\n      <td>Brian Moss</td>\n      <td>British Columbia</td>\n      <td>West</td>\n      <td>Corporate</td>\n      <td>Furniture</td>\n      <td>Chairs &amp; Chairmats</td>\n      <td>SAFCO Arco Folding Chair</td>\n      <td>Large Box</td>\n      <td>NaN</td>\n      <td>2012-03-05</td>\n    </tr>\n    <tr>\n      <th>...</th>\n      <td>...</td>\n      <td>...</td>\n      <td>...</td>\n      <td>...</td>\n      <td>...</td>\n      <td>...</td>\n      <td>...</td>\n      <td>...</td>\n      <td>...</td>\n      <td>...</td>\n      <td>...</td>\n      <td>...</td>\n      <td>...</td>\n      <td>...</td>\n      <td>...</td>\n      <td>...</td>\n      <td>...</td>\n      <td>...</td>\n      <td>...</td>\n      <td>...</td>\n      <td>...</td>\n    </tr>\n    <tr>\n      <th>7628</th>\n      <td>7629</td>\n      <td>54592</td>\n      <td>2011-06-12</td>\n      <td>Low</td>\n      <td>28</td>\n      <td>1971.56</td>\n      <td>0.05</td>\n      <td>Delivery Truck</td>\n      <td>-15.29000</td>\n      <td>70.98</td>\n      <td>...</td>\n      <td>Erica Hernandez</td>\n      <td>Quebec</td>\n      <td>Quebec</td>\n      <td>Small Business</td>\n      <td>Furniture</td>\n      <td>Bookcases</td>\n      <td>Safco Value Mate Steel Bookcase, Baked Enamel ...</td>\n      <td>Jumbo Box</td>\n      <td>NaN</td>\n      <td>2011-06-16</td>\n    </tr>\n    <tr>\n      <th>7699</th>\n      <td>7700</td>\n      <td>55202</td>\n      <td>2011-08-24</td>\n      <td>Low</td>\n      <td>33</td>\n      <td>3093.76</td>\n      <td>0.07</td>\n      <td>Express Air</td>\n      <td>-850.71000</td>\n      <td>95.99</td>\n      <td>...</td>\n      <td>Bobby Elias</td>\n      <td>Quebec</td>\n      <td>Quebec</td>\n      <td>Small Business</td>\n      <td>Office Supplies</td>\n      <td>Storage &amp; Organization</td>\n      <td>Safco Industrial Wire Shelving</td>\n      <td>Large Box</td>\n      <td>NaN</td>\n      <td>2011-08-26</td>\n    </tr>\n    <tr>\n      <th>7769</th>\n      <td>7770</td>\n      <td>55621</td>\n      <td>2011-03-15</td>\n      <td>Low</td>\n      <td>50</td>\n      <td>6356.68</td>\n      <td>0.03</td>\n      <td>Regular Air</td>\n      <td>1812.86000</td>\n      <td>128.24</td>\n      <td>...</td>\n      <td>Neil Knudson</td>\n      <td>Saskachewan</td>\n      <td>Prarie</td>\n      <td>Home Office</td>\n      <td>Furniture</td>\n      <td>Chairs &amp; Chairmats</td>\n      <td>SAFCO Folding Chair Trolley</td>\n      <td>Medium Box</td>\n      <td>NaN</td>\n      <td>2011-03-17</td>\n    </tr>\n    <tr>\n      <th>7825</th>\n      <td>7826</td>\n      <td>55938</td>\n      <td>2012-07-02</td>\n      <td>Not Specified</td>\n      <td>18</td>\n      <td>1769.90</td>\n      <td>0.05</td>\n      <td>Express Air</td>\n      <td>-468.89000</td>\n      <td>95.99</td>\n      <td>...</td>\n      <td>Mark Haberlin</td>\n      <td>Nova Scotia</td>\n      <td>Atlantic</td>\n      <td>Small Business</td>\n      <td>Office Supplies</td>\n      <td>Storage &amp; Organization</td>\n      <td>Safco Industrial Wire Shelving</td>\n      <td>Large Box</td>\n      <td>NaN</td>\n      <td>2012-07-03</td>\n    </tr>\n    <tr>\n      <th>8357</th>\n      <td>8358</td>\n      <td>59714</td>\n      <td>2010-12-13</td>\n      <td>Critical</td>\n      <td>26</td>\n      <td>9225.65</td>\n      <td>0.03</td>\n      <td>Delivery Truck</td>\n      <td>1656.46215</td>\n      <td>349.45</td>\n      <td>...</td>\n      <td>Julia Barnett</td>\n      <td>Quebec</td>\n      <td>Quebec</td>\n      <td>Corporate</td>\n      <td>Furniture</td>\n      <td>Tables</td>\n      <td>SAFCO PlanMaster Heigh-Adjustable Drafting Tab...</td>\n      <td>Jumbo Drum</td>\n      <td>NaN</td>\n      <td>2010-12-15</td>\n    </tr>\n  </tbody>\n</table>\n<p>63 rows × 21 columns</p>\n</div>"
     },
     "metadata": {},
     "execution_count": 126
    }
   ],
   "source": [
    "order[order['Product Base Margin'].isnull()]"
   ]
  },
  {
   "cell_type": "code",
   "execution_count": 127,
   "metadata": {},
   "outputs": [
    {
     "output_type": "execute_result",
     "data": {
      "text/plain": [
       "      Row ID  Order ID  Order Date  Order Priority  Order Quantity  Sales  \\\n",
       "0       True      True        True            True            True   True   \n",
       "1       True      True        True            True            True   True   \n",
       "2       True      True        True            True            True   True   \n",
       "3       True      True        True            True            True   True   \n",
       "4       True      True        True            True            True   True   \n",
       "...      ...       ...         ...             ...             ...    ...   \n",
       "8385    True      True        True            True            True   True   \n",
       "8386    True      True        True            True            True   True   \n",
       "8387    True      True        True            True            True   True   \n",
       "8388    True      True        True            True            True   True   \n",
       "8389    True      True        True            True            True   True   \n",
       "\n",
       "      Discount  Ship Mode  Profit  Unit Price  ...  Customer Name  Province  \\\n",
       "0         True       True    True        True  ...           True      True   \n",
       "1         True       True    True        True  ...           True      True   \n",
       "2         True       True    True        True  ...           True      True   \n",
       "3         True       True    True        True  ...           True      True   \n",
       "4         True       True    True        True  ...           True      True   \n",
       "...        ...        ...     ...         ...  ...            ...       ...   \n",
       "8385      True       True    True        True  ...           True      True   \n",
       "8386      True       True    True        True  ...           True      True   \n",
       "8387      True       True    True        True  ...           True      True   \n",
       "8388      True       True    True        True  ...           True      True   \n",
       "8389      True       True    True        True  ...           True      True   \n",
       "\n",
       "      Region  Customer Segment  Product Category  Product Sub-Category  \\\n",
       "0       True              True              True                  True   \n",
       "1       True              True              True                  True   \n",
       "2       True              True              True                  True   \n",
       "3       True              True              True                  True   \n",
       "4       True              True              True                  True   \n",
       "...      ...               ...               ...                   ...   \n",
       "8385    True              True              True                  True   \n",
       "8386    True              True              True                  True   \n",
       "8387    True              True              True                  True   \n",
       "8388    True              True              True                  True   \n",
       "8389    True              True              True                  True   \n",
       "\n",
       "      Product Name  Product Container  Product Base Margin  Ship Date  \n",
       "0             True               True                 True       True  \n",
       "1             True               True                 True       True  \n",
       "2             True               True                 True       True  \n",
       "3             True               True                 True       True  \n",
       "4             True               True                 True       True  \n",
       "...            ...                ...                  ...        ...  \n",
       "8385          True               True                 True       True  \n",
       "8386          True               True                 True       True  \n",
       "8387          True               True                 True       True  \n",
       "8388          True               True                 True       True  \n",
       "8389          True               True                 True       True  \n",
       "\n",
       "[8390 rows x 21 columns]"
      ],
      "text/html": "<div>\n<style scoped>\n    .dataframe tbody tr th:only-of-type {\n        vertical-align: middle;\n    }\n\n    .dataframe tbody tr th {\n        vertical-align: top;\n    }\n\n    .dataframe thead th {\n        text-align: right;\n    }\n</style>\n<table border=\"1\" class=\"dataframe\">\n  <thead>\n    <tr style=\"text-align: right;\">\n      <th></th>\n      <th>Row ID</th>\n      <th>Order ID</th>\n      <th>Order Date</th>\n      <th>Order Priority</th>\n      <th>Order Quantity</th>\n      <th>Sales</th>\n      <th>Discount</th>\n      <th>Ship Mode</th>\n      <th>Profit</th>\n      <th>Unit Price</th>\n      <th>...</th>\n      <th>Customer Name</th>\n      <th>Province</th>\n      <th>Region</th>\n      <th>Customer Segment</th>\n      <th>Product Category</th>\n      <th>Product Sub-Category</th>\n      <th>Product Name</th>\n      <th>Product Container</th>\n      <th>Product Base Margin</th>\n      <th>Ship Date</th>\n    </tr>\n  </thead>\n  <tbody>\n    <tr>\n      <th>0</th>\n      <td>True</td>\n      <td>True</td>\n      <td>True</td>\n      <td>True</td>\n      <td>True</td>\n      <td>True</td>\n      <td>True</td>\n      <td>True</td>\n      <td>True</td>\n      <td>True</td>\n      <td>...</td>\n      <td>True</td>\n      <td>True</td>\n      <td>True</td>\n      <td>True</td>\n      <td>True</td>\n      <td>True</td>\n      <td>True</td>\n      <td>True</td>\n      <td>True</td>\n      <td>True</td>\n    </tr>\n    <tr>\n      <th>1</th>\n      <td>True</td>\n      <td>True</td>\n      <td>True</td>\n      <td>True</td>\n      <td>True</td>\n      <td>True</td>\n      <td>True</td>\n      <td>True</td>\n      <td>True</td>\n      <td>True</td>\n      <td>...</td>\n      <td>True</td>\n      <td>True</td>\n      <td>True</td>\n      <td>True</td>\n      <td>True</td>\n      <td>True</td>\n      <td>True</td>\n      <td>True</td>\n      <td>True</td>\n      <td>True</td>\n    </tr>\n    <tr>\n      <th>2</th>\n      <td>True</td>\n      <td>True</td>\n      <td>True</td>\n      <td>True</td>\n      <td>True</td>\n      <td>True</td>\n      <td>True</td>\n      <td>True</td>\n      <td>True</td>\n      <td>True</td>\n      <td>...</td>\n      <td>True</td>\n      <td>True</td>\n      <td>True</td>\n      <td>True</td>\n      <td>True</td>\n      <td>True</td>\n      <td>True</td>\n      <td>True</td>\n      <td>True</td>\n      <td>True</td>\n    </tr>\n    <tr>\n      <th>3</th>\n      <td>True</td>\n      <td>True</td>\n      <td>True</td>\n      <td>True</td>\n      <td>True</td>\n      <td>True</td>\n      <td>True</td>\n      <td>True</td>\n      <td>True</td>\n      <td>True</td>\n      <td>...</td>\n      <td>True</td>\n      <td>True</td>\n      <td>True</td>\n      <td>True</td>\n      <td>True</td>\n      <td>True</td>\n      <td>True</td>\n      <td>True</td>\n      <td>True</td>\n      <td>True</td>\n    </tr>\n    <tr>\n      <th>4</th>\n      <td>True</td>\n      <td>True</td>\n      <td>True</td>\n      <td>True</td>\n      <td>True</td>\n      <td>True</td>\n      <td>True</td>\n      <td>True</td>\n      <td>True</td>\n      <td>True</td>\n      <td>...</td>\n      <td>True</td>\n      <td>True</td>\n      <td>True</td>\n      <td>True</td>\n      <td>True</td>\n      <td>True</td>\n      <td>True</td>\n      <td>True</td>\n      <td>True</td>\n      <td>True</td>\n    </tr>\n    <tr>\n      <th>...</th>\n      <td>...</td>\n      <td>...</td>\n      <td>...</td>\n      <td>...</td>\n      <td>...</td>\n      <td>...</td>\n      <td>...</td>\n      <td>...</td>\n      <td>...</td>\n      <td>...</td>\n      <td>...</td>\n      <td>...</td>\n      <td>...</td>\n      <td>...</td>\n      <td>...</td>\n      <td>...</td>\n      <td>...</td>\n      <td>...</td>\n      <td>...</td>\n      <td>...</td>\n      <td>...</td>\n    </tr>\n    <tr>\n      <th>8385</th>\n      <td>True</td>\n      <td>True</td>\n      <td>True</td>\n      <td>True</td>\n      <td>True</td>\n      <td>True</td>\n      <td>True</td>\n      <td>True</td>\n      <td>True</td>\n      <td>True</td>\n      <td>...</td>\n      <td>True</td>\n      <td>True</td>\n      <td>True</td>\n      <td>True</td>\n      <td>True</td>\n      <td>True</td>\n      <td>True</td>\n      <td>True</td>\n      <td>True</td>\n      <td>True</td>\n    </tr>\n    <tr>\n      <th>8386</th>\n      <td>True</td>\n      <td>True</td>\n      <td>True</td>\n      <td>True</td>\n      <td>True</td>\n      <td>True</td>\n      <td>True</td>\n      <td>True</td>\n      <td>True</td>\n      <td>True</td>\n      <td>...</td>\n      <td>True</td>\n      <td>True</td>\n      <td>True</td>\n      <td>True</td>\n      <td>True</td>\n      <td>True</td>\n      <td>True</td>\n      <td>True</td>\n      <td>True</td>\n      <td>True</td>\n    </tr>\n    <tr>\n      <th>8387</th>\n      <td>True</td>\n      <td>True</td>\n      <td>True</td>\n      <td>True</td>\n      <td>True</td>\n      <td>True</td>\n      <td>True</td>\n      <td>True</td>\n      <td>True</td>\n      <td>True</td>\n      <td>...</td>\n      <td>True</td>\n      <td>True</td>\n      <td>True</td>\n      <td>True</td>\n      <td>True</td>\n      <td>True</td>\n      <td>True</td>\n      <td>True</td>\n      <td>True</td>\n      <td>True</td>\n    </tr>\n    <tr>\n      <th>8388</th>\n      <td>True</td>\n      <td>True</td>\n      <td>True</td>\n      <td>True</td>\n      <td>True</td>\n      <td>True</td>\n      <td>True</td>\n      <td>True</td>\n      <td>True</td>\n      <td>True</td>\n      <td>...</td>\n      <td>True</td>\n      <td>True</td>\n      <td>True</td>\n      <td>True</td>\n      <td>True</td>\n      <td>True</td>\n      <td>True</td>\n      <td>True</td>\n      <td>True</td>\n      <td>True</td>\n    </tr>\n    <tr>\n      <th>8389</th>\n      <td>True</td>\n      <td>True</td>\n      <td>True</td>\n      <td>True</td>\n      <td>True</td>\n      <td>True</td>\n      <td>True</td>\n      <td>True</td>\n      <td>True</td>\n      <td>True</td>\n      <td>...</td>\n      <td>True</td>\n      <td>True</td>\n      <td>True</td>\n      <td>True</td>\n      <td>True</td>\n      <td>True</td>\n      <td>True</td>\n      <td>True</td>\n      <td>True</td>\n      <td>True</td>\n    </tr>\n  </tbody>\n</table>\n<p>8390 rows × 21 columns</p>\n</div>"
     },
     "metadata": {},
     "execution_count": 127
    }
   ],
   "source": [
    "order.notnull()"
   ]
  },
  {
   "cell_type": "code",
   "execution_count": 129,
   "metadata": {},
   "outputs": [
    {
     "output_type": "execute_result",
     "data": {
      "text/plain": [
       "(8390, 21)"
      ]
     },
     "metadata": {},
     "execution_count": 129
    }
   ],
   "source": [
    "order.shape"
   ]
  },
  {
   "cell_type": "code",
   "execution_count": 131,
   "metadata": {},
   "outputs": [
    {
     "output_type": "execute_result",
     "data": {
      "text/plain": [
       "(8327, 21)"
      ]
     },
     "metadata": {},
     "execution_count": 131
    }
   ],
   "source": [
    "order.dropna(how='any').shape"
   ]
  },
  {
   "cell_type": "code",
   "execution_count": 132,
   "metadata": {},
   "outputs": [
    {
     "output_type": "execute_result",
     "data": {
      "text/plain": [
       "(8390, 21)"
      ]
     },
     "metadata": {},
     "execution_count": 132
    }
   ],
   "source": [
    "order.dropna(how='all').shape"
   ]
  },
  {
   "cell_type": "code",
   "execution_count": 134,
   "metadata": {},
   "outputs": [
    {
     "output_type": "execute_result",
     "data": {
      "text/plain": [
       "(8390, 21)"
      ]
     },
     "metadata": {},
     "execution_count": 134
    }
   ],
   "source": [
    "# to set threshold \n",
    "order.dropna(how='any',thresh=1).shape"
   ]
  },
  {
   "cell_type": "code",
   "execution_count": null,
   "metadata": {},
   "outputs": [],
   "source": []
  },
  {
   "cell_type": "code",
   "execution_count": null,
   "metadata": {},
   "outputs": [],
   "source": []
  }
 ]
}